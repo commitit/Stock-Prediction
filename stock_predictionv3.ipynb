{
  "cells": [
    {
      "cell_type": "markdown",
      "metadata": {
        "id": "view-in-github",
        "colab_type": "text"
      },
      "source": [
        "<a href=\"https://colab.research.google.com/github/commitit/Stock-Prediction/blob/main/stock_predictionv3.ipynb\" target=\"_parent\"><img src=\"https://colab.research.google.com/assets/colab-badge.svg\" alt=\"Open In Colab\"/></a>"
      ]
    },
    {
      "cell_type": "markdown",
      "source": [
        "# Predicting the stock price movement of American Express.\n",
        "\n",
        "* We are using the stock data for American Express from the year 1972 to 2020 and try to predict the closing price for 30 days.\n",
        "\n",
        "* Closing Price is the last price at which a stock trades during a regular trading session."
      ],
      "metadata": {
        "id": "RVQ496BP-fYq"
      },
      "id": "RVQ496BP-fYq"
    },
    {
      "cell_type": "markdown",
      "source": [
        "# Importing required libraries"
      ],
      "metadata": {
        "id": "qFm1CDLg-3X9"
      },
      "id": "qFm1CDLg-3X9"
    },
    {
      "cell_type": "code",
      "execution_count": 211,
      "id": "839af939-f867-4c02-b27e-508d6773b2f8",
      "metadata": {
        "id": "839af939-f867-4c02-b27e-508d6773b2f8"
      },
      "outputs": [],
      "source": [
        "import pandas as pd\n",
        "import numpy as np\n",
        "import os\n",
        "import matplotlib.pyplot as plt\n",
        "import time\n",
        "import tensorflow as tf\n",
        "\n",
        "import datetime"
      ]
    },
    {
      "cell_type": "markdown",
      "source": [
        "# Data Exploration"
      ],
      "metadata": {
        "id": "1rI-_bCf_Ckt"
      },
      "id": "1rI-_bCf_Ckt"
    },
    {
      "cell_type": "code",
      "execution_count": 212,
      "id": "633534d8-bc34-448e-8b68-4e9d406ae781",
      "metadata": {
        "id": "633534d8-bc34-448e-8b68-4e9d406ae781"
      },
      "outputs": [],
      "source": [
        "df = pd.read_csv(\"https://raw.githubusercontent.com/commitit/Stock-Prediction/main/AXP.csv\")"
      ]
    },
    {
      "cell_type": "code",
      "execution_count": 213,
      "id": "44c7b5a4-431e-464c-afda-9e3726de7ecc",
      "metadata": {
        "colab": {
          "base_uri": "https://localhost:8080/",
          "height": 677
        },
        "id": "44c7b5a4-431e-464c-afda-9e3726de7ecc",
        "outputId": "c3fc0845-e69f-4582-e93e-ee02e77cddc7"
      },
      "outputs": [
        {
          "output_type": "execute_result",
          "data": {
            "text/plain": [
              "          Date      Open      High       Low     Close  Adj Close  Volume\n",
              "0   1972-06-01  3.693287  3.693287  3.693287  3.693287   0.406085     0.0\n",
              "1   1972-06-02  3.677195  3.677195  3.677195  3.677195   0.404316     0.0\n",
              "2   1972-06-05  3.604777  3.604777  3.604777  3.604777   0.396353     0.0\n",
              "3   1972-06-06  3.411664  3.411664  3.411664  3.411664   0.375120     0.0\n",
              "4   1972-06-07  3.371432  3.371432  3.371432  3.371432   0.370696     0.0\n",
              "5   1972-06-08  3.451896  3.451896  3.451896  3.451896   0.379544     0.0\n",
              "6   1972-06-09  3.427757  3.427757  3.427757  3.427757   0.376890     0.0\n",
              "7   1972-06-12  3.484082  3.484082  3.484082  3.484082   0.383082     0.0\n",
              "8   1972-06-13  3.484082  3.484082  3.484082  3.484082   0.383082     0.0\n",
              "9   1972-06-14  3.443850  3.443850  3.443850  3.443850   0.378659     0.0\n",
              "10  1972-06-15  3.403618  3.403618  3.403618  3.403618   0.374235     0.0\n",
              "11  1972-06-16  3.395571  3.395571  3.395571  3.395571   0.373350     0.0\n",
              "12  1972-06-19  3.363386  3.363386  3.363386  3.363386   0.369812     0.0\n",
              "13  1972-06-20  3.371432  3.371432  3.371432  3.371432   0.370696     0.0\n",
              "14  1972-06-21  3.443850  3.443850  3.443850  3.443850   0.378659     0.0\n",
              "15  1972-06-22  3.508221  3.508221  3.508221  3.508221   0.385736     0.0\n",
              "16  1972-06-23  3.331200  3.331200  3.331200  3.331200   0.366273     0.0\n",
              "17  1972-06-26  3.234644  3.234644  3.234644  3.234644   0.355656     0.0\n",
              "18  1972-06-27  3.371432  3.371432  3.371432  3.371432   0.370696     0.0\n",
              "19  1972-06-28  3.403618  3.403618  3.403618  3.403618   0.374235     0.0"
            ],
            "text/html": [
              "\n",
              "  <div id=\"df-1d568bdf-0f19-4aea-8dbd-7eb0c1f53a3d\" class=\"colab-df-container\">\n",
              "    <div>\n",
              "<style scoped>\n",
              "    .dataframe tbody tr th:only-of-type {\n",
              "        vertical-align: middle;\n",
              "    }\n",
              "\n",
              "    .dataframe tbody tr th {\n",
              "        vertical-align: top;\n",
              "    }\n",
              "\n",
              "    .dataframe thead th {\n",
              "        text-align: right;\n",
              "    }\n",
              "</style>\n",
              "<table border=\"1\" class=\"dataframe\">\n",
              "  <thead>\n",
              "    <tr style=\"text-align: right;\">\n",
              "      <th></th>\n",
              "      <th>Date</th>\n",
              "      <th>Open</th>\n",
              "      <th>High</th>\n",
              "      <th>Low</th>\n",
              "      <th>Close</th>\n",
              "      <th>Adj Close</th>\n",
              "      <th>Volume</th>\n",
              "    </tr>\n",
              "  </thead>\n",
              "  <tbody>\n",
              "    <tr>\n",
              "      <th>0</th>\n",
              "      <td>1972-06-01</td>\n",
              "      <td>3.693287</td>\n",
              "      <td>3.693287</td>\n",
              "      <td>3.693287</td>\n",
              "      <td>3.693287</td>\n",
              "      <td>0.406085</td>\n",
              "      <td>0.0</td>\n",
              "    </tr>\n",
              "    <tr>\n",
              "      <th>1</th>\n",
              "      <td>1972-06-02</td>\n",
              "      <td>3.677195</td>\n",
              "      <td>3.677195</td>\n",
              "      <td>3.677195</td>\n",
              "      <td>3.677195</td>\n",
              "      <td>0.404316</td>\n",
              "      <td>0.0</td>\n",
              "    </tr>\n",
              "    <tr>\n",
              "      <th>2</th>\n",
              "      <td>1972-06-05</td>\n",
              "      <td>3.604777</td>\n",
              "      <td>3.604777</td>\n",
              "      <td>3.604777</td>\n",
              "      <td>3.604777</td>\n",
              "      <td>0.396353</td>\n",
              "      <td>0.0</td>\n",
              "    </tr>\n",
              "    <tr>\n",
              "      <th>3</th>\n",
              "      <td>1972-06-06</td>\n",
              "      <td>3.411664</td>\n",
              "      <td>3.411664</td>\n",
              "      <td>3.411664</td>\n",
              "      <td>3.411664</td>\n",
              "      <td>0.375120</td>\n",
              "      <td>0.0</td>\n",
              "    </tr>\n",
              "    <tr>\n",
              "      <th>4</th>\n",
              "      <td>1972-06-07</td>\n",
              "      <td>3.371432</td>\n",
              "      <td>3.371432</td>\n",
              "      <td>3.371432</td>\n",
              "      <td>3.371432</td>\n",
              "      <td>0.370696</td>\n",
              "      <td>0.0</td>\n",
              "    </tr>\n",
              "    <tr>\n",
              "      <th>5</th>\n",
              "      <td>1972-06-08</td>\n",
              "      <td>3.451896</td>\n",
              "      <td>3.451896</td>\n",
              "      <td>3.451896</td>\n",
              "      <td>3.451896</td>\n",
              "      <td>0.379544</td>\n",
              "      <td>0.0</td>\n",
              "    </tr>\n",
              "    <tr>\n",
              "      <th>6</th>\n",
              "      <td>1972-06-09</td>\n",
              "      <td>3.427757</td>\n",
              "      <td>3.427757</td>\n",
              "      <td>3.427757</td>\n",
              "      <td>3.427757</td>\n",
              "      <td>0.376890</td>\n",
              "      <td>0.0</td>\n",
              "    </tr>\n",
              "    <tr>\n",
              "      <th>7</th>\n",
              "      <td>1972-06-12</td>\n",
              "      <td>3.484082</td>\n",
              "      <td>3.484082</td>\n",
              "      <td>3.484082</td>\n",
              "      <td>3.484082</td>\n",
              "      <td>0.383082</td>\n",
              "      <td>0.0</td>\n",
              "    </tr>\n",
              "    <tr>\n",
              "      <th>8</th>\n",
              "      <td>1972-06-13</td>\n",
              "      <td>3.484082</td>\n",
              "      <td>3.484082</td>\n",
              "      <td>3.484082</td>\n",
              "      <td>3.484082</td>\n",
              "      <td>0.383082</td>\n",
              "      <td>0.0</td>\n",
              "    </tr>\n",
              "    <tr>\n",
              "      <th>9</th>\n",
              "      <td>1972-06-14</td>\n",
              "      <td>3.443850</td>\n",
              "      <td>3.443850</td>\n",
              "      <td>3.443850</td>\n",
              "      <td>3.443850</td>\n",
              "      <td>0.378659</td>\n",
              "      <td>0.0</td>\n",
              "    </tr>\n",
              "    <tr>\n",
              "      <th>10</th>\n",
              "      <td>1972-06-15</td>\n",
              "      <td>3.403618</td>\n",
              "      <td>3.403618</td>\n",
              "      <td>3.403618</td>\n",
              "      <td>3.403618</td>\n",
              "      <td>0.374235</td>\n",
              "      <td>0.0</td>\n",
              "    </tr>\n",
              "    <tr>\n",
              "      <th>11</th>\n",
              "      <td>1972-06-16</td>\n",
              "      <td>3.395571</td>\n",
              "      <td>3.395571</td>\n",
              "      <td>3.395571</td>\n",
              "      <td>3.395571</td>\n",
              "      <td>0.373350</td>\n",
              "      <td>0.0</td>\n",
              "    </tr>\n",
              "    <tr>\n",
              "      <th>12</th>\n",
              "      <td>1972-06-19</td>\n",
              "      <td>3.363386</td>\n",
              "      <td>3.363386</td>\n",
              "      <td>3.363386</td>\n",
              "      <td>3.363386</td>\n",
              "      <td>0.369812</td>\n",
              "      <td>0.0</td>\n",
              "    </tr>\n",
              "    <tr>\n",
              "      <th>13</th>\n",
              "      <td>1972-06-20</td>\n",
              "      <td>3.371432</td>\n",
              "      <td>3.371432</td>\n",
              "      <td>3.371432</td>\n",
              "      <td>3.371432</td>\n",
              "      <td>0.370696</td>\n",
              "      <td>0.0</td>\n",
              "    </tr>\n",
              "    <tr>\n",
              "      <th>14</th>\n",
              "      <td>1972-06-21</td>\n",
              "      <td>3.443850</td>\n",
              "      <td>3.443850</td>\n",
              "      <td>3.443850</td>\n",
              "      <td>3.443850</td>\n",
              "      <td>0.378659</td>\n",
              "      <td>0.0</td>\n",
              "    </tr>\n",
              "    <tr>\n",
              "      <th>15</th>\n",
              "      <td>1972-06-22</td>\n",
              "      <td>3.508221</td>\n",
              "      <td>3.508221</td>\n",
              "      <td>3.508221</td>\n",
              "      <td>3.508221</td>\n",
              "      <td>0.385736</td>\n",
              "      <td>0.0</td>\n",
              "    </tr>\n",
              "    <tr>\n",
              "      <th>16</th>\n",
              "      <td>1972-06-23</td>\n",
              "      <td>3.331200</td>\n",
              "      <td>3.331200</td>\n",
              "      <td>3.331200</td>\n",
              "      <td>3.331200</td>\n",
              "      <td>0.366273</td>\n",
              "      <td>0.0</td>\n",
              "    </tr>\n",
              "    <tr>\n",
              "      <th>17</th>\n",
              "      <td>1972-06-26</td>\n",
              "      <td>3.234644</td>\n",
              "      <td>3.234644</td>\n",
              "      <td>3.234644</td>\n",
              "      <td>3.234644</td>\n",
              "      <td>0.355656</td>\n",
              "      <td>0.0</td>\n",
              "    </tr>\n",
              "    <tr>\n",
              "      <th>18</th>\n",
              "      <td>1972-06-27</td>\n",
              "      <td>3.371432</td>\n",
              "      <td>3.371432</td>\n",
              "      <td>3.371432</td>\n",
              "      <td>3.371432</td>\n",
              "      <td>0.370696</td>\n",
              "      <td>0.0</td>\n",
              "    </tr>\n",
              "    <tr>\n",
              "      <th>19</th>\n",
              "      <td>1972-06-28</td>\n",
              "      <td>3.403618</td>\n",
              "      <td>3.403618</td>\n",
              "      <td>3.403618</td>\n",
              "      <td>3.403618</td>\n",
              "      <td>0.374235</td>\n",
              "      <td>0.0</td>\n",
              "    </tr>\n",
              "  </tbody>\n",
              "</table>\n",
              "</div>\n",
              "    <div class=\"colab-df-buttons\">\n",
              "\n",
              "  <div class=\"colab-df-container\">\n",
              "    <button class=\"colab-df-convert\" onclick=\"convertToInteractive('df-1d568bdf-0f19-4aea-8dbd-7eb0c1f53a3d')\"\n",
              "            title=\"Convert this dataframe to an interactive table.\"\n",
              "            style=\"display:none;\">\n",
              "\n",
              "  <svg xmlns=\"http://www.w3.org/2000/svg\" height=\"24px\" viewBox=\"0 -960 960 960\">\n",
              "    <path d=\"M120-120v-720h720v720H120Zm60-500h600v-160H180v160Zm220 220h160v-160H400v160Zm0 220h160v-160H400v160ZM180-400h160v-160H180v160Zm440 0h160v-160H620v160ZM180-180h160v-160H180v160Zm440 0h160v-160H620v160Z\"/>\n",
              "  </svg>\n",
              "    </button>\n",
              "\n",
              "  <style>\n",
              "    .colab-df-container {\n",
              "      display:flex;\n",
              "      gap: 12px;\n",
              "    }\n",
              "\n",
              "    .colab-df-convert {\n",
              "      background-color: #E8F0FE;\n",
              "      border: none;\n",
              "      border-radius: 50%;\n",
              "      cursor: pointer;\n",
              "      display: none;\n",
              "      fill: #1967D2;\n",
              "      height: 32px;\n",
              "      padding: 0 0 0 0;\n",
              "      width: 32px;\n",
              "    }\n",
              "\n",
              "    .colab-df-convert:hover {\n",
              "      background-color: #E2EBFA;\n",
              "      box-shadow: 0px 1px 2px rgba(60, 64, 67, 0.3), 0px 1px 3px 1px rgba(60, 64, 67, 0.15);\n",
              "      fill: #174EA6;\n",
              "    }\n",
              "\n",
              "    .colab-df-buttons div {\n",
              "      margin-bottom: 4px;\n",
              "    }\n",
              "\n",
              "    [theme=dark] .colab-df-convert {\n",
              "      background-color: #3B4455;\n",
              "      fill: #D2E3FC;\n",
              "    }\n",
              "\n",
              "    [theme=dark] .colab-df-convert:hover {\n",
              "      background-color: #434B5C;\n",
              "      box-shadow: 0px 1px 3px 1px rgba(0, 0, 0, 0.15);\n",
              "      filter: drop-shadow(0px 1px 2px rgba(0, 0, 0, 0.3));\n",
              "      fill: #FFFFFF;\n",
              "    }\n",
              "  </style>\n",
              "\n",
              "    <script>\n",
              "      const buttonEl =\n",
              "        document.querySelector('#df-1d568bdf-0f19-4aea-8dbd-7eb0c1f53a3d button.colab-df-convert');\n",
              "      buttonEl.style.display =\n",
              "        google.colab.kernel.accessAllowed ? 'block' : 'none';\n",
              "\n",
              "      async function convertToInteractive(key) {\n",
              "        const element = document.querySelector('#df-1d568bdf-0f19-4aea-8dbd-7eb0c1f53a3d');\n",
              "        const dataTable =\n",
              "          await google.colab.kernel.invokeFunction('convertToInteractive',\n",
              "                                                    [key], {});\n",
              "        if (!dataTable) return;\n",
              "\n",
              "        const docLinkHtml = 'Like what you see? Visit the ' +\n",
              "          '<a target=\"_blank\" href=https://colab.research.google.com/notebooks/data_table.ipynb>data table notebook</a>'\n",
              "          + ' to learn more about interactive tables.';\n",
              "        element.innerHTML = '';\n",
              "        dataTable['output_type'] = 'display_data';\n",
              "        await google.colab.output.renderOutput(dataTable, element);\n",
              "        const docLink = document.createElement('div');\n",
              "        docLink.innerHTML = docLinkHtml;\n",
              "        element.appendChild(docLink);\n",
              "      }\n",
              "    </script>\n",
              "  </div>\n",
              "\n",
              "\n",
              "<div id=\"df-15c7ff08-8005-42db-a79a-fe3990fb705f\">\n",
              "  <button class=\"colab-df-quickchart\" onclick=\"quickchart('df-15c7ff08-8005-42db-a79a-fe3990fb705f')\"\n",
              "            title=\"Suggest charts\"\n",
              "            style=\"display:none;\">\n",
              "\n",
              "<svg xmlns=\"http://www.w3.org/2000/svg\" height=\"24px\"viewBox=\"0 0 24 24\"\n",
              "     width=\"24px\">\n",
              "    <g>\n",
              "        <path d=\"M19 3H5c-1.1 0-2 .9-2 2v14c0 1.1.9 2 2 2h14c1.1 0 2-.9 2-2V5c0-1.1-.9-2-2-2zM9 17H7v-7h2v7zm4 0h-2V7h2v10zm4 0h-2v-4h2v4z\"/>\n",
              "    </g>\n",
              "</svg>\n",
              "  </button>\n",
              "\n",
              "<style>\n",
              "  .colab-df-quickchart {\n",
              "      --bg-color: #E8F0FE;\n",
              "      --fill-color: #1967D2;\n",
              "      --hover-bg-color: #E2EBFA;\n",
              "      --hover-fill-color: #174EA6;\n",
              "      --disabled-fill-color: #AAA;\n",
              "      --disabled-bg-color: #DDD;\n",
              "  }\n",
              "\n",
              "  [theme=dark] .colab-df-quickchart {\n",
              "      --bg-color: #3B4455;\n",
              "      --fill-color: #D2E3FC;\n",
              "      --hover-bg-color: #434B5C;\n",
              "      --hover-fill-color: #FFFFFF;\n",
              "      --disabled-bg-color: #3B4455;\n",
              "      --disabled-fill-color: #666;\n",
              "  }\n",
              "\n",
              "  .colab-df-quickchart {\n",
              "    background-color: var(--bg-color);\n",
              "    border: none;\n",
              "    border-radius: 50%;\n",
              "    cursor: pointer;\n",
              "    display: none;\n",
              "    fill: var(--fill-color);\n",
              "    height: 32px;\n",
              "    padding: 0;\n",
              "    width: 32px;\n",
              "  }\n",
              "\n",
              "  .colab-df-quickchart:hover {\n",
              "    background-color: var(--hover-bg-color);\n",
              "    box-shadow: 0 1px 2px rgba(60, 64, 67, 0.3), 0 1px 3px 1px rgba(60, 64, 67, 0.15);\n",
              "    fill: var(--button-hover-fill-color);\n",
              "  }\n",
              "\n",
              "  .colab-df-quickchart-complete:disabled,\n",
              "  .colab-df-quickchart-complete:disabled:hover {\n",
              "    background-color: var(--disabled-bg-color);\n",
              "    fill: var(--disabled-fill-color);\n",
              "    box-shadow: none;\n",
              "  }\n",
              "\n",
              "  .colab-df-spinner {\n",
              "    border: 2px solid var(--fill-color);\n",
              "    border-color: transparent;\n",
              "    border-bottom-color: var(--fill-color);\n",
              "    animation:\n",
              "      spin 1s steps(1) infinite;\n",
              "  }\n",
              "\n",
              "  @keyframes spin {\n",
              "    0% {\n",
              "      border-color: transparent;\n",
              "      border-bottom-color: var(--fill-color);\n",
              "      border-left-color: var(--fill-color);\n",
              "    }\n",
              "    20% {\n",
              "      border-color: transparent;\n",
              "      border-left-color: var(--fill-color);\n",
              "      border-top-color: var(--fill-color);\n",
              "    }\n",
              "    30% {\n",
              "      border-color: transparent;\n",
              "      border-left-color: var(--fill-color);\n",
              "      border-top-color: var(--fill-color);\n",
              "      border-right-color: var(--fill-color);\n",
              "    }\n",
              "    40% {\n",
              "      border-color: transparent;\n",
              "      border-right-color: var(--fill-color);\n",
              "      border-top-color: var(--fill-color);\n",
              "    }\n",
              "    60% {\n",
              "      border-color: transparent;\n",
              "      border-right-color: var(--fill-color);\n",
              "    }\n",
              "    80% {\n",
              "      border-color: transparent;\n",
              "      border-right-color: var(--fill-color);\n",
              "      border-bottom-color: var(--fill-color);\n",
              "    }\n",
              "    90% {\n",
              "      border-color: transparent;\n",
              "      border-bottom-color: var(--fill-color);\n",
              "    }\n",
              "  }\n",
              "</style>\n",
              "\n",
              "  <script>\n",
              "    async function quickchart(key) {\n",
              "      const quickchartButtonEl =\n",
              "        document.querySelector('#' + key + ' button');\n",
              "      quickchartButtonEl.disabled = true;  // To prevent multiple clicks.\n",
              "      quickchartButtonEl.classList.add('colab-df-spinner');\n",
              "      try {\n",
              "        const charts = await google.colab.kernel.invokeFunction(\n",
              "            'suggestCharts', [key], {});\n",
              "      } catch (error) {\n",
              "        console.error('Error during call to suggestCharts:', error);\n",
              "      }\n",
              "      quickchartButtonEl.classList.remove('colab-df-spinner');\n",
              "      quickchartButtonEl.classList.add('colab-df-quickchart-complete');\n",
              "    }\n",
              "    (() => {\n",
              "      let quickchartButtonEl =\n",
              "        document.querySelector('#df-15c7ff08-8005-42db-a79a-fe3990fb705f button');\n",
              "      quickchartButtonEl.style.display =\n",
              "        google.colab.kernel.accessAllowed ? 'block' : 'none';\n",
              "    })();\n",
              "  </script>\n",
              "</div>\n",
              "    </div>\n",
              "  </div>\n"
            ]
          },
          "metadata": {},
          "execution_count": 213
        }
      ],
      "source": [
        "df.head(20)"
      ]
    },
    {
      "cell_type": "code",
      "source": [
        "# We take a look at the last rows of our dataset\n",
        "df.tail()"
      ],
      "metadata": {
        "colab": {
          "base_uri": "https://localhost:8080/",
          "height": 206
        },
        "id": "9_9QDAd__JxW",
        "outputId": "8dd496dc-3583-4d56-b4ea-66c99d4d7a5d"
      },
      "id": "9_9QDAd__JxW",
      "execution_count": 214,
      "outputs": [
        {
          "output_type": "execute_result",
          "data": {
            "text/plain": [
              "             Date       Open       High        Low      Close  Adj Close  \\\n",
              "12059  2020-03-26  92.239998  99.690002  90.839996  93.290001  92.774651   \n",
              "12060  2020-03-27  87.940002  91.970001  85.820000  88.730003  88.239845   \n",
              "12061  2020-03-30  88.510002  91.389999  85.269997  90.269997  89.771332   \n",
              "12062  2020-03-31  89.940002  90.900002  85.070000  85.610001  85.137077   \n",
              "12063  2020-04-01  80.650002  81.309998  77.000000  77.839996  77.409996   \n",
              "\n",
              "          Volume  \n",
              "12059  9459400.0  \n",
              "12060  6999800.0  \n",
              "12061  5565000.0  \n",
              "12062  6075900.0  \n",
              "12063  8307600.0  "
            ],
            "text/html": [
              "\n",
              "  <div id=\"df-638f6fe1-628f-4355-8b50-6c9171eae3e7\" class=\"colab-df-container\">\n",
              "    <div>\n",
              "<style scoped>\n",
              "    .dataframe tbody tr th:only-of-type {\n",
              "        vertical-align: middle;\n",
              "    }\n",
              "\n",
              "    .dataframe tbody tr th {\n",
              "        vertical-align: top;\n",
              "    }\n",
              "\n",
              "    .dataframe thead th {\n",
              "        text-align: right;\n",
              "    }\n",
              "</style>\n",
              "<table border=\"1\" class=\"dataframe\">\n",
              "  <thead>\n",
              "    <tr style=\"text-align: right;\">\n",
              "      <th></th>\n",
              "      <th>Date</th>\n",
              "      <th>Open</th>\n",
              "      <th>High</th>\n",
              "      <th>Low</th>\n",
              "      <th>Close</th>\n",
              "      <th>Adj Close</th>\n",
              "      <th>Volume</th>\n",
              "    </tr>\n",
              "  </thead>\n",
              "  <tbody>\n",
              "    <tr>\n",
              "      <th>12059</th>\n",
              "      <td>2020-03-26</td>\n",
              "      <td>92.239998</td>\n",
              "      <td>99.690002</td>\n",
              "      <td>90.839996</td>\n",
              "      <td>93.290001</td>\n",
              "      <td>92.774651</td>\n",
              "      <td>9459400.0</td>\n",
              "    </tr>\n",
              "    <tr>\n",
              "      <th>12060</th>\n",
              "      <td>2020-03-27</td>\n",
              "      <td>87.940002</td>\n",
              "      <td>91.970001</td>\n",
              "      <td>85.820000</td>\n",
              "      <td>88.730003</td>\n",
              "      <td>88.239845</td>\n",
              "      <td>6999800.0</td>\n",
              "    </tr>\n",
              "    <tr>\n",
              "      <th>12061</th>\n",
              "      <td>2020-03-30</td>\n",
              "      <td>88.510002</td>\n",
              "      <td>91.389999</td>\n",
              "      <td>85.269997</td>\n",
              "      <td>90.269997</td>\n",
              "      <td>89.771332</td>\n",
              "      <td>5565000.0</td>\n",
              "    </tr>\n",
              "    <tr>\n",
              "      <th>12062</th>\n",
              "      <td>2020-03-31</td>\n",
              "      <td>89.940002</td>\n",
              "      <td>90.900002</td>\n",
              "      <td>85.070000</td>\n",
              "      <td>85.610001</td>\n",
              "      <td>85.137077</td>\n",
              "      <td>6075900.0</td>\n",
              "    </tr>\n",
              "    <tr>\n",
              "      <th>12063</th>\n",
              "      <td>2020-04-01</td>\n",
              "      <td>80.650002</td>\n",
              "      <td>81.309998</td>\n",
              "      <td>77.000000</td>\n",
              "      <td>77.839996</td>\n",
              "      <td>77.409996</td>\n",
              "      <td>8307600.0</td>\n",
              "    </tr>\n",
              "  </tbody>\n",
              "</table>\n",
              "</div>\n",
              "    <div class=\"colab-df-buttons\">\n",
              "\n",
              "  <div class=\"colab-df-container\">\n",
              "    <button class=\"colab-df-convert\" onclick=\"convertToInteractive('df-638f6fe1-628f-4355-8b50-6c9171eae3e7')\"\n",
              "            title=\"Convert this dataframe to an interactive table.\"\n",
              "            style=\"display:none;\">\n",
              "\n",
              "  <svg xmlns=\"http://www.w3.org/2000/svg\" height=\"24px\" viewBox=\"0 -960 960 960\">\n",
              "    <path d=\"M120-120v-720h720v720H120Zm60-500h600v-160H180v160Zm220 220h160v-160H400v160Zm0 220h160v-160H400v160ZM180-400h160v-160H180v160Zm440 0h160v-160H620v160ZM180-180h160v-160H180v160Zm440 0h160v-160H620v160Z\"/>\n",
              "  </svg>\n",
              "    </button>\n",
              "\n",
              "  <style>\n",
              "    .colab-df-container {\n",
              "      display:flex;\n",
              "      gap: 12px;\n",
              "    }\n",
              "\n",
              "    .colab-df-convert {\n",
              "      background-color: #E8F0FE;\n",
              "      border: none;\n",
              "      border-radius: 50%;\n",
              "      cursor: pointer;\n",
              "      display: none;\n",
              "      fill: #1967D2;\n",
              "      height: 32px;\n",
              "      padding: 0 0 0 0;\n",
              "      width: 32px;\n",
              "    }\n",
              "\n",
              "    .colab-df-convert:hover {\n",
              "      background-color: #E2EBFA;\n",
              "      box-shadow: 0px 1px 2px rgba(60, 64, 67, 0.3), 0px 1px 3px 1px rgba(60, 64, 67, 0.15);\n",
              "      fill: #174EA6;\n",
              "    }\n",
              "\n",
              "    .colab-df-buttons div {\n",
              "      margin-bottom: 4px;\n",
              "    }\n",
              "\n",
              "    [theme=dark] .colab-df-convert {\n",
              "      background-color: #3B4455;\n",
              "      fill: #D2E3FC;\n",
              "    }\n",
              "\n",
              "    [theme=dark] .colab-df-convert:hover {\n",
              "      background-color: #434B5C;\n",
              "      box-shadow: 0px 1px 3px 1px rgba(0, 0, 0, 0.15);\n",
              "      filter: drop-shadow(0px 1px 2px rgba(0, 0, 0, 0.3));\n",
              "      fill: #FFFFFF;\n",
              "    }\n",
              "  </style>\n",
              "\n",
              "    <script>\n",
              "      const buttonEl =\n",
              "        document.querySelector('#df-638f6fe1-628f-4355-8b50-6c9171eae3e7 button.colab-df-convert');\n",
              "      buttonEl.style.display =\n",
              "        google.colab.kernel.accessAllowed ? 'block' : 'none';\n",
              "\n",
              "      async function convertToInteractive(key) {\n",
              "        const element = document.querySelector('#df-638f6fe1-628f-4355-8b50-6c9171eae3e7');\n",
              "        const dataTable =\n",
              "          await google.colab.kernel.invokeFunction('convertToInteractive',\n",
              "                                                    [key], {});\n",
              "        if (!dataTable) return;\n",
              "\n",
              "        const docLinkHtml = 'Like what you see? Visit the ' +\n",
              "          '<a target=\"_blank\" href=https://colab.research.google.com/notebooks/data_table.ipynb>data table notebook</a>'\n",
              "          + ' to learn more about interactive tables.';\n",
              "        element.innerHTML = '';\n",
              "        dataTable['output_type'] = 'display_data';\n",
              "        await google.colab.output.renderOutput(dataTable, element);\n",
              "        const docLink = document.createElement('div');\n",
              "        docLink.innerHTML = docLinkHtml;\n",
              "        element.appendChild(docLink);\n",
              "      }\n",
              "    </script>\n",
              "  </div>\n",
              "\n",
              "\n",
              "<div id=\"df-91be5a0e-e97a-4935-aab7-eb8a5a011f86\">\n",
              "  <button class=\"colab-df-quickchart\" onclick=\"quickchart('df-91be5a0e-e97a-4935-aab7-eb8a5a011f86')\"\n",
              "            title=\"Suggest charts\"\n",
              "            style=\"display:none;\">\n",
              "\n",
              "<svg xmlns=\"http://www.w3.org/2000/svg\" height=\"24px\"viewBox=\"0 0 24 24\"\n",
              "     width=\"24px\">\n",
              "    <g>\n",
              "        <path d=\"M19 3H5c-1.1 0-2 .9-2 2v14c0 1.1.9 2 2 2h14c1.1 0 2-.9 2-2V5c0-1.1-.9-2-2-2zM9 17H7v-7h2v7zm4 0h-2V7h2v10zm4 0h-2v-4h2v4z\"/>\n",
              "    </g>\n",
              "</svg>\n",
              "  </button>\n",
              "\n",
              "<style>\n",
              "  .colab-df-quickchart {\n",
              "      --bg-color: #E8F0FE;\n",
              "      --fill-color: #1967D2;\n",
              "      --hover-bg-color: #E2EBFA;\n",
              "      --hover-fill-color: #174EA6;\n",
              "      --disabled-fill-color: #AAA;\n",
              "      --disabled-bg-color: #DDD;\n",
              "  }\n",
              "\n",
              "  [theme=dark] .colab-df-quickchart {\n",
              "      --bg-color: #3B4455;\n",
              "      --fill-color: #D2E3FC;\n",
              "      --hover-bg-color: #434B5C;\n",
              "      --hover-fill-color: #FFFFFF;\n",
              "      --disabled-bg-color: #3B4455;\n",
              "      --disabled-fill-color: #666;\n",
              "  }\n",
              "\n",
              "  .colab-df-quickchart {\n",
              "    background-color: var(--bg-color);\n",
              "    border: none;\n",
              "    border-radius: 50%;\n",
              "    cursor: pointer;\n",
              "    display: none;\n",
              "    fill: var(--fill-color);\n",
              "    height: 32px;\n",
              "    padding: 0;\n",
              "    width: 32px;\n",
              "  }\n",
              "\n",
              "  .colab-df-quickchart:hover {\n",
              "    background-color: var(--hover-bg-color);\n",
              "    box-shadow: 0 1px 2px rgba(60, 64, 67, 0.3), 0 1px 3px 1px rgba(60, 64, 67, 0.15);\n",
              "    fill: var(--button-hover-fill-color);\n",
              "  }\n",
              "\n",
              "  .colab-df-quickchart-complete:disabled,\n",
              "  .colab-df-quickchart-complete:disabled:hover {\n",
              "    background-color: var(--disabled-bg-color);\n",
              "    fill: var(--disabled-fill-color);\n",
              "    box-shadow: none;\n",
              "  }\n",
              "\n",
              "  .colab-df-spinner {\n",
              "    border: 2px solid var(--fill-color);\n",
              "    border-color: transparent;\n",
              "    border-bottom-color: var(--fill-color);\n",
              "    animation:\n",
              "      spin 1s steps(1) infinite;\n",
              "  }\n",
              "\n",
              "  @keyframes spin {\n",
              "    0% {\n",
              "      border-color: transparent;\n",
              "      border-bottom-color: var(--fill-color);\n",
              "      border-left-color: var(--fill-color);\n",
              "    }\n",
              "    20% {\n",
              "      border-color: transparent;\n",
              "      border-left-color: var(--fill-color);\n",
              "      border-top-color: var(--fill-color);\n",
              "    }\n",
              "    30% {\n",
              "      border-color: transparent;\n",
              "      border-left-color: var(--fill-color);\n",
              "      border-top-color: var(--fill-color);\n",
              "      border-right-color: var(--fill-color);\n",
              "    }\n",
              "    40% {\n",
              "      border-color: transparent;\n",
              "      border-right-color: var(--fill-color);\n",
              "      border-top-color: var(--fill-color);\n",
              "    }\n",
              "    60% {\n",
              "      border-color: transparent;\n",
              "      border-right-color: var(--fill-color);\n",
              "    }\n",
              "    80% {\n",
              "      border-color: transparent;\n",
              "      border-right-color: var(--fill-color);\n",
              "      border-bottom-color: var(--fill-color);\n",
              "    }\n",
              "    90% {\n",
              "      border-color: transparent;\n",
              "      border-bottom-color: var(--fill-color);\n",
              "    }\n",
              "  }\n",
              "</style>\n",
              "\n",
              "  <script>\n",
              "    async function quickchart(key) {\n",
              "      const quickchartButtonEl =\n",
              "        document.querySelector('#' + key + ' button');\n",
              "      quickchartButtonEl.disabled = true;  // To prevent multiple clicks.\n",
              "      quickchartButtonEl.classList.add('colab-df-spinner');\n",
              "      try {\n",
              "        const charts = await google.colab.kernel.invokeFunction(\n",
              "            'suggestCharts', [key], {});\n",
              "      } catch (error) {\n",
              "        console.error('Error during call to suggestCharts:', error);\n",
              "      }\n",
              "      quickchartButtonEl.classList.remove('colab-df-spinner');\n",
              "      quickchartButtonEl.classList.add('colab-df-quickchart-complete');\n",
              "    }\n",
              "    (() => {\n",
              "      let quickchartButtonEl =\n",
              "        document.querySelector('#df-91be5a0e-e97a-4935-aab7-eb8a5a011f86 button');\n",
              "      quickchartButtonEl.style.display =\n",
              "        google.colab.kernel.accessAllowed ? 'block' : 'none';\n",
              "    })();\n",
              "  </script>\n",
              "</div>\n",
              "    </div>\n",
              "  </div>\n"
            ]
          },
          "metadata": {},
          "execution_count": 214
        }
      ]
    },
    {
      "cell_type": "code",
      "execution_count": 215,
      "id": "ff9afc34-012e-4cb6-a6c7-f9866168db18",
      "metadata": {
        "colab": {
          "base_uri": "https://localhost:8080/"
        },
        "id": "ff9afc34-012e-4cb6-a6c7-f9866168db18",
        "outputId": "537dda27-7bcc-43b0-9570-47eeaeac9eef"
      },
      "outputs": [
        {
          "output_type": "stream",
          "name": "stdout",
          "text": [
            "<class 'pandas.core.frame.DataFrame'>\n",
            "RangeIndex: 12064 entries, 0 to 12063\n",
            "Data columns (total 7 columns):\n",
            " #   Column     Non-Null Count  Dtype  \n",
            "---  ------     --------------  -----  \n",
            " 0   Date       12064 non-null  object \n",
            " 1   Open       12064 non-null  float64\n",
            " 2   High       12064 non-null  float64\n",
            " 3   Low        12064 non-null  float64\n",
            " 4   Close      12064 non-null  float64\n",
            " 5   Adj Close  12064 non-null  float64\n",
            " 6   Volume     12064 non-null  float64\n",
            "dtypes: float64(6), object(1)\n",
            "memory usage: 659.9+ KB\n"
          ]
        }
      ],
      "source": [
        "# We check the datatype and null values\n",
        "df.info()"
      ]
    },
    {
      "cell_type": "code",
      "execution_count": 216,
      "id": "69bed844-01c9-426c-b7c9-a5d7005fd33a",
      "metadata": {
        "id": "69bed844-01c9-426c-b7c9-a5d7005fd33a"
      },
      "outputs": [],
      "source": [
        "df[\"Date\"] = pd.to_datetime(df[\"Date\"])\n",
        "df.index = df.pop(\"Date\")"
      ]
    },
    {
      "cell_type": "code",
      "source": [
        "df = df[[\"Close\"]]"
      ],
      "metadata": {
        "id": "N03nAeMjJxB0"
      },
      "id": "N03nAeMjJxB0",
      "execution_count": 217,
      "outputs": []
    },
    {
      "cell_type": "code",
      "execution_count": 218,
      "id": "f52c9902-8b61-447e-a745-90116ee4a507",
      "metadata": {
        "colab": {
          "base_uri": "https://localhost:8080/",
          "height": 238
        },
        "id": "f52c9902-8b61-447e-a745-90116ee4a507",
        "outputId": "0b22dac0-dd45-4429-df78-32e5bf7b6342"
      },
      "outputs": [
        {
          "output_type": "execute_result",
          "data": {
            "text/plain": [
              "               Close\n",
              "Date                \n",
              "1972-06-01  3.693287\n",
              "1972-06-02  3.677195\n",
              "1972-06-05  3.604777\n",
              "1972-06-06  3.411664\n",
              "1972-06-07  3.371432"
            ],
            "text/html": [
              "\n",
              "  <div id=\"df-6c52e408-1c4e-40a8-9ca3-c6b757661194\" class=\"colab-df-container\">\n",
              "    <div>\n",
              "<style scoped>\n",
              "    .dataframe tbody tr th:only-of-type {\n",
              "        vertical-align: middle;\n",
              "    }\n",
              "\n",
              "    .dataframe tbody tr th {\n",
              "        vertical-align: top;\n",
              "    }\n",
              "\n",
              "    .dataframe thead th {\n",
              "        text-align: right;\n",
              "    }\n",
              "</style>\n",
              "<table border=\"1\" class=\"dataframe\">\n",
              "  <thead>\n",
              "    <tr style=\"text-align: right;\">\n",
              "      <th></th>\n",
              "      <th>Close</th>\n",
              "    </tr>\n",
              "    <tr>\n",
              "      <th>Date</th>\n",
              "      <th></th>\n",
              "    </tr>\n",
              "  </thead>\n",
              "  <tbody>\n",
              "    <tr>\n",
              "      <th>1972-06-01</th>\n",
              "      <td>3.693287</td>\n",
              "    </tr>\n",
              "    <tr>\n",
              "      <th>1972-06-02</th>\n",
              "      <td>3.677195</td>\n",
              "    </tr>\n",
              "    <tr>\n",
              "      <th>1972-06-05</th>\n",
              "      <td>3.604777</td>\n",
              "    </tr>\n",
              "    <tr>\n",
              "      <th>1972-06-06</th>\n",
              "      <td>3.411664</td>\n",
              "    </tr>\n",
              "    <tr>\n",
              "      <th>1972-06-07</th>\n",
              "      <td>3.371432</td>\n",
              "    </tr>\n",
              "  </tbody>\n",
              "</table>\n",
              "</div>\n",
              "    <div class=\"colab-df-buttons\">\n",
              "\n",
              "  <div class=\"colab-df-container\">\n",
              "    <button class=\"colab-df-convert\" onclick=\"convertToInteractive('df-6c52e408-1c4e-40a8-9ca3-c6b757661194')\"\n",
              "            title=\"Convert this dataframe to an interactive table.\"\n",
              "            style=\"display:none;\">\n",
              "\n",
              "  <svg xmlns=\"http://www.w3.org/2000/svg\" height=\"24px\" viewBox=\"0 -960 960 960\">\n",
              "    <path d=\"M120-120v-720h720v720H120Zm60-500h600v-160H180v160Zm220 220h160v-160H400v160Zm0 220h160v-160H400v160ZM180-400h160v-160H180v160Zm440 0h160v-160H620v160ZM180-180h160v-160H180v160Zm440 0h160v-160H620v160Z\"/>\n",
              "  </svg>\n",
              "    </button>\n",
              "\n",
              "  <style>\n",
              "    .colab-df-container {\n",
              "      display:flex;\n",
              "      gap: 12px;\n",
              "    }\n",
              "\n",
              "    .colab-df-convert {\n",
              "      background-color: #E8F0FE;\n",
              "      border: none;\n",
              "      border-radius: 50%;\n",
              "      cursor: pointer;\n",
              "      display: none;\n",
              "      fill: #1967D2;\n",
              "      height: 32px;\n",
              "      padding: 0 0 0 0;\n",
              "      width: 32px;\n",
              "    }\n",
              "\n",
              "    .colab-df-convert:hover {\n",
              "      background-color: #E2EBFA;\n",
              "      box-shadow: 0px 1px 2px rgba(60, 64, 67, 0.3), 0px 1px 3px 1px rgba(60, 64, 67, 0.15);\n",
              "      fill: #174EA6;\n",
              "    }\n",
              "\n",
              "    .colab-df-buttons div {\n",
              "      margin-bottom: 4px;\n",
              "    }\n",
              "\n",
              "    [theme=dark] .colab-df-convert {\n",
              "      background-color: #3B4455;\n",
              "      fill: #D2E3FC;\n",
              "    }\n",
              "\n",
              "    [theme=dark] .colab-df-convert:hover {\n",
              "      background-color: #434B5C;\n",
              "      box-shadow: 0px 1px 3px 1px rgba(0, 0, 0, 0.15);\n",
              "      filter: drop-shadow(0px 1px 2px rgba(0, 0, 0, 0.3));\n",
              "      fill: #FFFFFF;\n",
              "    }\n",
              "  </style>\n",
              "\n",
              "    <script>\n",
              "      const buttonEl =\n",
              "        document.querySelector('#df-6c52e408-1c4e-40a8-9ca3-c6b757661194 button.colab-df-convert');\n",
              "      buttonEl.style.display =\n",
              "        google.colab.kernel.accessAllowed ? 'block' : 'none';\n",
              "\n",
              "      async function convertToInteractive(key) {\n",
              "        const element = document.querySelector('#df-6c52e408-1c4e-40a8-9ca3-c6b757661194');\n",
              "        const dataTable =\n",
              "          await google.colab.kernel.invokeFunction('convertToInteractive',\n",
              "                                                    [key], {});\n",
              "        if (!dataTable) return;\n",
              "\n",
              "        const docLinkHtml = 'Like what you see? Visit the ' +\n",
              "          '<a target=\"_blank\" href=https://colab.research.google.com/notebooks/data_table.ipynb>data table notebook</a>'\n",
              "          + ' to learn more about interactive tables.';\n",
              "        element.innerHTML = '';\n",
              "        dataTable['output_type'] = 'display_data';\n",
              "        await google.colab.output.renderOutput(dataTable, element);\n",
              "        const docLink = document.createElement('div');\n",
              "        docLink.innerHTML = docLinkHtml;\n",
              "        element.appendChild(docLink);\n",
              "      }\n",
              "    </script>\n",
              "  </div>\n",
              "\n",
              "\n",
              "<div id=\"df-6c1758c7-a0da-49a0-b6b2-107304131ae8\">\n",
              "  <button class=\"colab-df-quickchart\" onclick=\"quickchart('df-6c1758c7-a0da-49a0-b6b2-107304131ae8')\"\n",
              "            title=\"Suggest charts\"\n",
              "            style=\"display:none;\">\n",
              "\n",
              "<svg xmlns=\"http://www.w3.org/2000/svg\" height=\"24px\"viewBox=\"0 0 24 24\"\n",
              "     width=\"24px\">\n",
              "    <g>\n",
              "        <path d=\"M19 3H5c-1.1 0-2 .9-2 2v14c0 1.1.9 2 2 2h14c1.1 0 2-.9 2-2V5c0-1.1-.9-2-2-2zM9 17H7v-7h2v7zm4 0h-2V7h2v10zm4 0h-2v-4h2v4z\"/>\n",
              "    </g>\n",
              "</svg>\n",
              "  </button>\n",
              "\n",
              "<style>\n",
              "  .colab-df-quickchart {\n",
              "      --bg-color: #E8F0FE;\n",
              "      --fill-color: #1967D2;\n",
              "      --hover-bg-color: #E2EBFA;\n",
              "      --hover-fill-color: #174EA6;\n",
              "      --disabled-fill-color: #AAA;\n",
              "      --disabled-bg-color: #DDD;\n",
              "  }\n",
              "\n",
              "  [theme=dark] .colab-df-quickchart {\n",
              "      --bg-color: #3B4455;\n",
              "      --fill-color: #D2E3FC;\n",
              "      --hover-bg-color: #434B5C;\n",
              "      --hover-fill-color: #FFFFFF;\n",
              "      --disabled-bg-color: #3B4455;\n",
              "      --disabled-fill-color: #666;\n",
              "  }\n",
              "\n",
              "  .colab-df-quickchart {\n",
              "    background-color: var(--bg-color);\n",
              "    border: none;\n",
              "    border-radius: 50%;\n",
              "    cursor: pointer;\n",
              "    display: none;\n",
              "    fill: var(--fill-color);\n",
              "    height: 32px;\n",
              "    padding: 0;\n",
              "    width: 32px;\n",
              "  }\n",
              "\n",
              "  .colab-df-quickchart:hover {\n",
              "    background-color: var(--hover-bg-color);\n",
              "    box-shadow: 0 1px 2px rgba(60, 64, 67, 0.3), 0 1px 3px 1px rgba(60, 64, 67, 0.15);\n",
              "    fill: var(--button-hover-fill-color);\n",
              "  }\n",
              "\n",
              "  .colab-df-quickchart-complete:disabled,\n",
              "  .colab-df-quickchart-complete:disabled:hover {\n",
              "    background-color: var(--disabled-bg-color);\n",
              "    fill: var(--disabled-fill-color);\n",
              "    box-shadow: none;\n",
              "  }\n",
              "\n",
              "  .colab-df-spinner {\n",
              "    border: 2px solid var(--fill-color);\n",
              "    border-color: transparent;\n",
              "    border-bottom-color: var(--fill-color);\n",
              "    animation:\n",
              "      spin 1s steps(1) infinite;\n",
              "  }\n",
              "\n",
              "  @keyframes spin {\n",
              "    0% {\n",
              "      border-color: transparent;\n",
              "      border-bottom-color: var(--fill-color);\n",
              "      border-left-color: var(--fill-color);\n",
              "    }\n",
              "    20% {\n",
              "      border-color: transparent;\n",
              "      border-left-color: var(--fill-color);\n",
              "      border-top-color: var(--fill-color);\n",
              "    }\n",
              "    30% {\n",
              "      border-color: transparent;\n",
              "      border-left-color: var(--fill-color);\n",
              "      border-top-color: var(--fill-color);\n",
              "      border-right-color: var(--fill-color);\n",
              "    }\n",
              "    40% {\n",
              "      border-color: transparent;\n",
              "      border-right-color: var(--fill-color);\n",
              "      border-top-color: var(--fill-color);\n",
              "    }\n",
              "    60% {\n",
              "      border-color: transparent;\n",
              "      border-right-color: var(--fill-color);\n",
              "    }\n",
              "    80% {\n",
              "      border-color: transparent;\n",
              "      border-right-color: var(--fill-color);\n",
              "      border-bottom-color: var(--fill-color);\n",
              "    }\n",
              "    90% {\n",
              "      border-color: transparent;\n",
              "      border-bottom-color: var(--fill-color);\n",
              "    }\n",
              "  }\n",
              "</style>\n",
              "\n",
              "  <script>\n",
              "    async function quickchart(key) {\n",
              "      const quickchartButtonEl =\n",
              "        document.querySelector('#' + key + ' button');\n",
              "      quickchartButtonEl.disabled = true;  // To prevent multiple clicks.\n",
              "      quickchartButtonEl.classList.add('colab-df-spinner');\n",
              "      try {\n",
              "        const charts = await google.colab.kernel.invokeFunction(\n",
              "            'suggestCharts', [key], {});\n",
              "      } catch (error) {\n",
              "        console.error('Error during call to suggestCharts:', error);\n",
              "      }\n",
              "      quickchartButtonEl.classList.remove('colab-df-spinner');\n",
              "      quickchartButtonEl.classList.add('colab-df-quickchart-complete');\n",
              "    }\n",
              "    (() => {\n",
              "      let quickchartButtonEl =\n",
              "        document.querySelector('#df-6c1758c7-a0da-49a0-b6b2-107304131ae8 button');\n",
              "      quickchartButtonEl.style.display =\n",
              "        google.colab.kernel.accessAllowed ? 'block' : 'none';\n",
              "    })();\n",
              "  </script>\n",
              "</div>\n",
              "    </div>\n",
              "  </div>\n"
            ]
          },
          "metadata": {},
          "execution_count": 218
        }
      ],
      "source": [
        "df.head()"
      ]
    },
    {
      "cell_type": "code",
      "execution_count": 219,
      "id": "2ba3e675-17ac-4ab5-8d79-6db95dff9709",
      "metadata": {
        "colab": {
          "base_uri": "https://localhost:8080/",
          "height": 300
        },
        "id": "2ba3e675-17ac-4ab5-8d79-6db95dff9709",
        "outputId": "64ef2fea-db67-4831-9afd-33a74d2539b5"
      },
      "outputs": [
        {
          "output_type": "execute_result",
          "data": {
            "text/plain": [
              "              Close\n",
              "count  12064.000000\n",
              "mean      29.681398\n",
              "std       30.876242\n",
              "min        1.134539\n",
              "25%        4.747363\n",
              "50%       13.038323\n",
              "75%       47.703850\n",
              "max      136.929993"
            ],
            "text/html": [
              "\n",
              "  <div id=\"df-bdb7a929-76cb-483e-97ac-4c541b7b7e17\" class=\"colab-df-container\">\n",
              "    <div>\n",
              "<style scoped>\n",
              "    .dataframe tbody tr th:only-of-type {\n",
              "        vertical-align: middle;\n",
              "    }\n",
              "\n",
              "    .dataframe tbody tr th {\n",
              "        vertical-align: top;\n",
              "    }\n",
              "\n",
              "    .dataframe thead th {\n",
              "        text-align: right;\n",
              "    }\n",
              "</style>\n",
              "<table border=\"1\" class=\"dataframe\">\n",
              "  <thead>\n",
              "    <tr style=\"text-align: right;\">\n",
              "      <th></th>\n",
              "      <th>Close</th>\n",
              "    </tr>\n",
              "  </thead>\n",
              "  <tbody>\n",
              "    <tr>\n",
              "      <th>count</th>\n",
              "      <td>12064.000000</td>\n",
              "    </tr>\n",
              "    <tr>\n",
              "      <th>mean</th>\n",
              "      <td>29.681398</td>\n",
              "    </tr>\n",
              "    <tr>\n",
              "      <th>std</th>\n",
              "      <td>30.876242</td>\n",
              "    </tr>\n",
              "    <tr>\n",
              "      <th>min</th>\n",
              "      <td>1.134539</td>\n",
              "    </tr>\n",
              "    <tr>\n",
              "      <th>25%</th>\n",
              "      <td>4.747363</td>\n",
              "    </tr>\n",
              "    <tr>\n",
              "      <th>50%</th>\n",
              "      <td>13.038323</td>\n",
              "    </tr>\n",
              "    <tr>\n",
              "      <th>75%</th>\n",
              "      <td>47.703850</td>\n",
              "    </tr>\n",
              "    <tr>\n",
              "      <th>max</th>\n",
              "      <td>136.929993</td>\n",
              "    </tr>\n",
              "  </tbody>\n",
              "</table>\n",
              "</div>\n",
              "    <div class=\"colab-df-buttons\">\n",
              "\n",
              "  <div class=\"colab-df-container\">\n",
              "    <button class=\"colab-df-convert\" onclick=\"convertToInteractive('df-bdb7a929-76cb-483e-97ac-4c541b7b7e17')\"\n",
              "            title=\"Convert this dataframe to an interactive table.\"\n",
              "            style=\"display:none;\">\n",
              "\n",
              "  <svg xmlns=\"http://www.w3.org/2000/svg\" height=\"24px\" viewBox=\"0 -960 960 960\">\n",
              "    <path d=\"M120-120v-720h720v720H120Zm60-500h600v-160H180v160Zm220 220h160v-160H400v160Zm0 220h160v-160H400v160ZM180-400h160v-160H180v160Zm440 0h160v-160H620v160ZM180-180h160v-160H180v160Zm440 0h160v-160H620v160Z\"/>\n",
              "  </svg>\n",
              "    </button>\n",
              "\n",
              "  <style>\n",
              "    .colab-df-container {\n",
              "      display:flex;\n",
              "      gap: 12px;\n",
              "    }\n",
              "\n",
              "    .colab-df-convert {\n",
              "      background-color: #E8F0FE;\n",
              "      border: none;\n",
              "      border-radius: 50%;\n",
              "      cursor: pointer;\n",
              "      display: none;\n",
              "      fill: #1967D2;\n",
              "      height: 32px;\n",
              "      padding: 0 0 0 0;\n",
              "      width: 32px;\n",
              "    }\n",
              "\n",
              "    .colab-df-convert:hover {\n",
              "      background-color: #E2EBFA;\n",
              "      box-shadow: 0px 1px 2px rgba(60, 64, 67, 0.3), 0px 1px 3px 1px rgba(60, 64, 67, 0.15);\n",
              "      fill: #174EA6;\n",
              "    }\n",
              "\n",
              "    .colab-df-buttons div {\n",
              "      margin-bottom: 4px;\n",
              "    }\n",
              "\n",
              "    [theme=dark] .colab-df-convert {\n",
              "      background-color: #3B4455;\n",
              "      fill: #D2E3FC;\n",
              "    }\n",
              "\n",
              "    [theme=dark] .colab-df-convert:hover {\n",
              "      background-color: #434B5C;\n",
              "      box-shadow: 0px 1px 3px 1px rgba(0, 0, 0, 0.15);\n",
              "      filter: drop-shadow(0px 1px 2px rgba(0, 0, 0, 0.3));\n",
              "      fill: #FFFFFF;\n",
              "    }\n",
              "  </style>\n",
              "\n",
              "    <script>\n",
              "      const buttonEl =\n",
              "        document.querySelector('#df-bdb7a929-76cb-483e-97ac-4c541b7b7e17 button.colab-df-convert');\n",
              "      buttonEl.style.display =\n",
              "        google.colab.kernel.accessAllowed ? 'block' : 'none';\n",
              "\n",
              "      async function convertToInteractive(key) {\n",
              "        const element = document.querySelector('#df-bdb7a929-76cb-483e-97ac-4c541b7b7e17');\n",
              "        const dataTable =\n",
              "          await google.colab.kernel.invokeFunction('convertToInteractive',\n",
              "                                                    [key], {});\n",
              "        if (!dataTable) return;\n",
              "\n",
              "        const docLinkHtml = 'Like what you see? Visit the ' +\n",
              "          '<a target=\"_blank\" href=https://colab.research.google.com/notebooks/data_table.ipynb>data table notebook</a>'\n",
              "          + ' to learn more about interactive tables.';\n",
              "        element.innerHTML = '';\n",
              "        dataTable['output_type'] = 'display_data';\n",
              "        await google.colab.output.renderOutput(dataTable, element);\n",
              "        const docLink = document.createElement('div');\n",
              "        docLink.innerHTML = docLinkHtml;\n",
              "        element.appendChild(docLink);\n",
              "      }\n",
              "    </script>\n",
              "  </div>\n",
              "\n",
              "\n",
              "<div id=\"df-6a968684-9fc0-4bef-ae68-c05b96a8329a\">\n",
              "  <button class=\"colab-df-quickchart\" onclick=\"quickchart('df-6a968684-9fc0-4bef-ae68-c05b96a8329a')\"\n",
              "            title=\"Suggest charts\"\n",
              "            style=\"display:none;\">\n",
              "\n",
              "<svg xmlns=\"http://www.w3.org/2000/svg\" height=\"24px\"viewBox=\"0 0 24 24\"\n",
              "     width=\"24px\">\n",
              "    <g>\n",
              "        <path d=\"M19 3H5c-1.1 0-2 .9-2 2v14c0 1.1.9 2 2 2h14c1.1 0 2-.9 2-2V5c0-1.1-.9-2-2-2zM9 17H7v-7h2v7zm4 0h-2V7h2v10zm4 0h-2v-4h2v4z\"/>\n",
              "    </g>\n",
              "</svg>\n",
              "  </button>\n",
              "\n",
              "<style>\n",
              "  .colab-df-quickchart {\n",
              "      --bg-color: #E8F0FE;\n",
              "      --fill-color: #1967D2;\n",
              "      --hover-bg-color: #E2EBFA;\n",
              "      --hover-fill-color: #174EA6;\n",
              "      --disabled-fill-color: #AAA;\n",
              "      --disabled-bg-color: #DDD;\n",
              "  }\n",
              "\n",
              "  [theme=dark] .colab-df-quickchart {\n",
              "      --bg-color: #3B4455;\n",
              "      --fill-color: #D2E3FC;\n",
              "      --hover-bg-color: #434B5C;\n",
              "      --hover-fill-color: #FFFFFF;\n",
              "      --disabled-bg-color: #3B4455;\n",
              "      --disabled-fill-color: #666;\n",
              "  }\n",
              "\n",
              "  .colab-df-quickchart {\n",
              "    background-color: var(--bg-color);\n",
              "    border: none;\n",
              "    border-radius: 50%;\n",
              "    cursor: pointer;\n",
              "    display: none;\n",
              "    fill: var(--fill-color);\n",
              "    height: 32px;\n",
              "    padding: 0;\n",
              "    width: 32px;\n",
              "  }\n",
              "\n",
              "  .colab-df-quickchart:hover {\n",
              "    background-color: var(--hover-bg-color);\n",
              "    box-shadow: 0 1px 2px rgba(60, 64, 67, 0.3), 0 1px 3px 1px rgba(60, 64, 67, 0.15);\n",
              "    fill: var(--button-hover-fill-color);\n",
              "  }\n",
              "\n",
              "  .colab-df-quickchart-complete:disabled,\n",
              "  .colab-df-quickchart-complete:disabled:hover {\n",
              "    background-color: var(--disabled-bg-color);\n",
              "    fill: var(--disabled-fill-color);\n",
              "    box-shadow: none;\n",
              "  }\n",
              "\n",
              "  .colab-df-spinner {\n",
              "    border: 2px solid var(--fill-color);\n",
              "    border-color: transparent;\n",
              "    border-bottom-color: var(--fill-color);\n",
              "    animation:\n",
              "      spin 1s steps(1) infinite;\n",
              "  }\n",
              "\n",
              "  @keyframes spin {\n",
              "    0% {\n",
              "      border-color: transparent;\n",
              "      border-bottom-color: var(--fill-color);\n",
              "      border-left-color: var(--fill-color);\n",
              "    }\n",
              "    20% {\n",
              "      border-color: transparent;\n",
              "      border-left-color: var(--fill-color);\n",
              "      border-top-color: var(--fill-color);\n",
              "    }\n",
              "    30% {\n",
              "      border-color: transparent;\n",
              "      border-left-color: var(--fill-color);\n",
              "      border-top-color: var(--fill-color);\n",
              "      border-right-color: var(--fill-color);\n",
              "    }\n",
              "    40% {\n",
              "      border-color: transparent;\n",
              "      border-right-color: var(--fill-color);\n",
              "      border-top-color: var(--fill-color);\n",
              "    }\n",
              "    60% {\n",
              "      border-color: transparent;\n",
              "      border-right-color: var(--fill-color);\n",
              "    }\n",
              "    80% {\n",
              "      border-color: transparent;\n",
              "      border-right-color: var(--fill-color);\n",
              "      border-bottom-color: var(--fill-color);\n",
              "    }\n",
              "    90% {\n",
              "      border-color: transparent;\n",
              "      border-bottom-color: var(--fill-color);\n",
              "    }\n",
              "  }\n",
              "</style>\n",
              "\n",
              "  <script>\n",
              "    async function quickchart(key) {\n",
              "      const quickchartButtonEl =\n",
              "        document.querySelector('#' + key + ' button');\n",
              "      quickchartButtonEl.disabled = true;  // To prevent multiple clicks.\n",
              "      quickchartButtonEl.classList.add('colab-df-spinner');\n",
              "      try {\n",
              "        const charts = await google.colab.kernel.invokeFunction(\n",
              "            'suggestCharts', [key], {});\n",
              "      } catch (error) {\n",
              "        console.error('Error during call to suggestCharts:', error);\n",
              "      }\n",
              "      quickchartButtonEl.classList.remove('colab-df-spinner');\n",
              "      quickchartButtonEl.classList.add('colab-df-quickchart-complete');\n",
              "    }\n",
              "    (() => {\n",
              "      let quickchartButtonEl =\n",
              "        document.querySelector('#df-6a968684-9fc0-4bef-ae68-c05b96a8329a button');\n",
              "      quickchartButtonEl.style.display =\n",
              "        google.colab.kernel.accessAllowed ? 'block' : 'none';\n",
              "    })();\n",
              "  </script>\n",
              "</div>\n",
              "    </div>\n",
              "  </div>\n"
            ]
          },
          "metadata": {},
          "execution_count": 219
        }
      ],
      "source": [
        "df.describe()"
      ]
    },
    {
      "cell_type": "markdown",
      "source": [
        "# Data Visualization"
      ],
      "metadata": {
        "id": "3NIF-_GG_0pd"
      },
      "id": "3NIF-_GG_0pd"
    },
    {
      "cell_type": "code",
      "source": [
        "#Visualizing the closing price from 1972 until 2020\n",
        "plt.figure(figsize=(10, 6))\n",
        "plt.plot(df)\n",
        "plt.title('Closing Prices Over Time')\n",
        "plt.xlabel('Date')\n",
        "plt.ylabel('Close Price')\n",
        "plt.grid(True)\n",
        "plt.show()"
      ],
      "metadata": {
        "colab": {
          "base_uri": "https://localhost:8080/",
          "height": 564
        },
        "id": "9Edsu7CDnPgM",
        "outputId": "1489253c-0acf-452b-8ca0-5cc2ea6953cf"
      },
      "id": "9Edsu7CDnPgM",
      "execution_count": 220,
      "outputs": [
        {
          "output_type": "display_data",
          "data": {
            "text/plain": [
              "<Figure size 1000x600 with 1 Axes>"
            ],
            "image/png": "[encoded data removed]"
          },
          "metadata": {}
        }
      ]
    },
    {
      "cell_type": "markdown",
      "source": [
        "# Data Preparation"
      ],
      "metadata": {
        "id": "kbuAsn0KBWS2"
      },
      "id": "kbuAsn0KBWS2"
    },
    {
      "cell_type": "markdown",
      "source": [
        "###Spliting the data to Training and Test data\n",
        "####Importing MinMaxScaler from scikit-learn to scale our dataset into numbers between 0 and"
      ],
      "metadata": {
        "id": "V5t-3jrNAbVY"
      },
      "id": "V5t-3jrNAbVY"
    },
    {
      "cell_type": "code",
      "source": [
        "#For preprocessing\n",
        "from sklearn.preprocessing import MinMaxScaler\n",
        "\n",
        "#For model evaluation\n",
        "from sklearn.metrics import mean_squared_error as mse"
      ],
      "metadata": {
        "id": "eSPMwj6jnioL"
      },
      "id": "eSPMwj6jnioL",
      "execution_count": 221,
      "outputs": []
    },
    {
      "cell_type": "code",
      "source": [
        "scaler = MinMaxScaler(feature_range = (0,1))\n",
        "df1 = scaler.fit_transform(np.array(df).reshape(-1,1))\n",
        "df1"
      ],
      "metadata": {
        "colab": {
          "base_uri": "https://localhost:8080/"
        },
        "id": "B_nPaWD7rBr9",
        "outputId": "4eeef03a-badd-497c-b6aa-44fa46c0ac83"
      },
      "id": "B_nPaWD7rBr9",
      "execution_count": 222,
      "outputs": [
        {
          "output_type": "execute_result",
          "data": {
            "text/plain": [
              "array([[0.01884266],\n",
              "       [0.01872416],\n",
              "       [0.01819087],\n",
              "       ...,\n",
              "       [0.65639501],\n",
              "       [0.62207872],\n",
              "       [0.56486027]])"
            ]
          },
          "metadata": {},
          "execution_count": 222
        }
      ]
    },
    {
      "cell_type": "code",
      "source": [
        "#To see the scaled data in a DF format, we create a new DF using the scaled values.\n",
        "#Create a new DataFrame with the scaled values and original dates in the index\n",
        "scaled_df = pd.DataFrame(df1, index = df.index, columns = [\"Scaled_Close\"])\n",
        "scaled_df.head()"
      ],
      "metadata": {
        "colab": {
          "base_uri": "https://localhost:8080/",
          "height": 238
        },
        "id": "fgSPg8Mc3YKc",
        "outputId": "a14846f2-5470-40f8-c8e0-6cc9c0e3b5e7"
      },
      "id": "fgSPg8Mc3YKc",
      "execution_count": 223,
      "outputs": [
        {
          "output_type": "execute_result",
          "data": {
            "text/plain": [
              "            Scaled_Close\n",
              "Date                    \n",
              "1972-06-01      0.018843\n",
              "1972-06-02      0.018724\n",
              "1972-06-05      0.018191\n",
              "1972-06-06      0.016769\n",
              "1972-06-07      0.016473"
            ],
            "text/html": [
              "\n",
              "  <div id=\"df-a50424e6-8942-46b1-9c90-b94851e1b2d5\" class=\"colab-df-container\">\n",
              "    <div>\n",
              "<style scoped>\n",
              "    .dataframe tbody tr th:only-of-type {\n",
              "        vertical-align: middle;\n",
              "    }\n",
              "\n",
              "    .dataframe tbody tr th {\n",
              "        vertical-align: top;\n",
              "    }\n",
              "\n",
              "    .dataframe thead th {\n",
              "        text-align: right;\n",
              "    }\n",
              "</style>\n",
              "<table border=\"1\" class=\"dataframe\">\n",
              "  <thead>\n",
              "    <tr style=\"text-align: right;\">\n",
              "      <th></th>\n",
              "      <th>Scaled_Close</th>\n",
              "    </tr>\n",
              "    <tr>\n",
              "      <th>Date</th>\n",
              "      <th></th>\n",
              "    </tr>\n",
              "  </thead>\n",
              "  <tbody>\n",
              "    <tr>\n",
              "      <th>1972-06-01</th>\n",
              "      <td>0.018843</td>\n",
              "    </tr>\n",
              "    <tr>\n",
              "      <th>1972-06-02</th>\n",
              "      <td>0.018724</td>\n",
              "    </tr>\n",
              "    <tr>\n",
              "      <th>1972-06-05</th>\n",
              "      <td>0.018191</td>\n",
              "    </tr>\n",
              "    <tr>\n",
              "      <th>1972-06-06</th>\n",
              "      <td>0.016769</td>\n",
              "    </tr>\n",
              "    <tr>\n",
              "      <th>1972-06-07</th>\n",
              "      <td>0.016473</td>\n",
              "    </tr>\n",
              "  </tbody>\n",
              "</table>\n",
              "</div>\n",
              "    <div class=\"colab-df-buttons\">\n",
              "\n",
              "  <div class=\"colab-df-container\">\n",
              "    <button class=\"colab-df-convert\" onclick=\"convertToInteractive('df-a50424e6-8942-46b1-9c90-b94851e1b2d5')\"\n",
              "            title=\"Convert this dataframe to an interactive table.\"\n",
              "            style=\"display:none;\">\n",
              "\n",
              "  <svg xmlns=\"http://www.w3.org/2000/svg\" height=\"24px\" viewBox=\"0 -960 960 960\">\n",
              "    <path d=\"M120-120v-720h720v720H120Zm60-500h600v-160H180v160Zm220 220h160v-160H400v160Zm0 220h160v-160H400v160ZM180-400h160v-160H180v160Zm440 0h160v-160H620v160ZM180-180h160v-160H180v160Zm440 0h160v-160H620v160Z\"/>\n",
              "  </svg>\n",
              "    </button>\n",
              "\n",
              "  <style>\n",
              "    .colab-df-container {\n",
              "      display:flex;\n",
              "      gap: 12px;\n",
              "    }\n",
              "\n",
              "    .colab-df-convert {\n",
              "      background-color: #E8F0FE;\n",
              "      border: none;\n",
              "      border-radius: 50%;\n",
              "      cursor: pointer;\n",
              "      display: none;\n",
              "      fill: #1967D2;\n",
              "      height: 32px;\n",
              "      padding: 0 0 0 0;\n",
              "      width: 32px;\n",
              "    }\n",
              "\n",
              "    .colab-df-convert:hover {\n",
              "      background-color: #E2EBFA;\n",
              "      box-shadow: 0px 1px 2px rgba(60, 64, 67, 0.3), 0px 1px 3px 1px rgba(60, 64, 67, 0.15);\n",
              "      fill: #174EA6;\n",
              "    }\n",
              "\n",
              "    .colab-df-buttons div {\n",
              "      margin-bottom: 4px;\n",
              "    }\n",
              "\n",
              "    [theme=dark] .colab-df-convert {\n",
              "      background-color: #3B4455;\n",
              "      fill: #D2E3FC;\n",
              "    }\n",
              "\n",
              "    [theme=dark] .colab-df-convert:hover {\n",
              "      background-color: #434B5C;\n",
              "      box-shadow: 0px 1px 3px 1px rgba(0, 0, 0, 0.15);\n",
              "      filter: drop-shadow(0px 1px 2px rgba(0, 0, 0, 0.3));\n",
              "      fill: #FFFFFF;\n",
              "    }\n",
              "  </style>\n",
              "\n",
              "    <script>\n",
              "      const buttonEl =\n",
              "        document.querySelector('#df-a50424e6-8942-46b1-9c90-b94851e1b2d5 button.colab-df-convert');\n",
              "      buttonEl.style.display =\n",
              "        google.colab.kernel.accessAllowed ? 'block' : 'none';\n",
              "\n",
              "      async function convertToInteractive(key) {\n",
              "        const element = document.querySelector('#df-a50424e6-8942-46b1-9c90-b94851e1b2d5');\n",
              "        const dataTable =\n",
              "          await google.colab.kernel.invokeFunction('convertToInteractive',\n",
              "                                                    [key], {});\n",
              "        if (!dataTable) return;\n",
              "\n",
              "        const docLinkHtml = 'Like what you see? Visit the ' +\n",
              "          '<a target=\"_blank\" href=https://colab.research.google.com/notebooks/data_table.ipynb>data table notebook</a>'\n",
              "          + ' to learn more about interactive tables.';\n",
              "        element.innerHTML = '';\n",
              "        dataTable['output_type'] = 'display_data';\n",
              "        await google.colab.output.renderOutput(dataTable, element);\n",
              "        const docLink = document.createElement('div');\n",
              "        docLink.innerHTML = docLinkHtml;\n",
              "        element.appendChild(docLink);\n",
              "      }\n",
              "    </script>\n",
              "  </div>\n",
              "\n",
              "\n",
              "<div id=\"df-22828afe-d5b0-4be5-a681-9345b2a411d9\">\n",
              "  <button class=\"colab-df-quickchart\" onclick=\"quickchart('df-22828afe-d5b0-4be5-a681-9345b2a411d9')\"\n",
              "            title=\"Suggest charts\"\n",
              "            style=\"display:none;\">\n",
              "\n",
              "<svg xmlns=\"http://www.w3.org/2000/svg\" height=\"24px\"viewBox=\"0 0 24 24\"\n",
              "     width=\"24px\">\n",
              "    <g>\n",
              "        <path d=\"M19 3H5c-1.1 0-2 .9-2 2v14c0 1.1.9 2 2 2h14c1.1 0 2-.9 2-2V5c0-1.1-.9-2-2-2zM9 17H7v-7h2v7zm4 0h-2V7h2v10zm4 0h-2v-4h2v4z\"/>\n",
              "    </g>\n",
              "</svg>\n",
              "  </button>\n",
              "\n",
              "<style>\n",
              "  .colab-df-quickchart {\n",
              "      --bg-color: #E8F0FE;\n",
              "      --fill-color: #1967D2;\n",
              "      --hover-bg-color: #E2EBFA;\n",
              "      --hover-fill-color: #174EA6;\n",
              "      --disabled-fill-color: #AAA;\n",
              "      --disabled-bg-color: #DDD;\n",
              "  }\n",
              "\n",
              "  [theme=dark] .colab-df-quickchart {\n",
              "      --bg-color: #3B4455;\n",
              "      --fill-color: #D2E3FC;\n",
              "      --hover-bg-color: #434B5C;\n",
              "      --hover-fill-color: #FFFFFF;\n",
              "      --disabled-bg-color: #3B4455;\n",
              "      --disabled-fill-color: #666;\n",
              "  }\n",
              "\n",
              "  .colab-df-quickchart {\n",
              "    background-color: var(--bg-color);\n",
              "    border: none;\n",
              "    border-radius: 50%;\n",
              "    cursor: pointer;\n",
              "    display: none;\n",
              "    fill: var(--fill-color);\n",
              "    height: 32px;\n",
              "    padding: 0;\n",
              "    width: 32px;\n",
              "  }\n",
              "\n",
              "  .colab-df-quickchart:hover {\n",
              "    background-color: var(--hover-bg-color);\n",
              "    box-shadow: 0 1px 2px rgba(60, 64, 67, 0.3), 0 1px 3px 1px rgba(60, 64, 67, 0.15);\n",
              "    fill: var(--button-hover-fill-color);\n",
              "  }\n",
              "\n",
              "  .colab-df-quickchart-complete:disabled,\n",
              "  .colab-df-quickchart-complete:disabled:hover {\n",
              "    background-color: var(--disabled-bg-color);\n",
              "    fill: var(--disabled-fill-color);\n",
              "    box-shadow: none;\n",
              "  }\n",
              "\n",
              "  .colab-df-spinner {\n",
              "    border: 2px solid var(--fill-color);\n",
              "    border-color: transparent;\n",
              "    border-bottom-color: var(--fill-color);\n",
              "    animation:\n",
              "      spin 1s steps(1) infinite;\n",
              "  }\n",
              "\n",
              "  @keyframes spin {\n",
              "    0% {\n",
              "      border-color: transparent;\n",
              "      border-bottom-color: var(--fill-color);\n",
              "      border-left-color: var(--fill-color);\n",
              "    }\n",
              "    20% {\n",
              "      border-color: transparent;\n",
              "      border-left-color: var(--fill-color);\n",
              "      border-top-color: var(--fill-color);\n",
              "    }\n",
              "    30% {\n",
              "      border-color: transparent;\n",
              "      border-left-color: var(--fill-color);\n",
              "      border-top-color: var(--fill-color);\n",
              "      border-right-color: var(--fill-color);\n",
              "    }\n",
              "    40% {\n",
              "      border-color: transparent;\n",
              "      border-right-color: var(--fill-color);\n",
              "      border-top-color: var(--fill-color);\n",
              "    }\n",
              "    60% {\n",
              "      border-color: transparent;\n",
              "      border-right-color: var(--fill-color);\n",
              "    }\n",
              "    80% {\n",
              "      border-color: transparent;\n",
              "      border-right-color: var(--fill-color);\n",
              "      border-bottom-color: var(--fill-color);\n",
              "    }\n",
              "    90% {\n",
              "      border-color: transparent;\n",
              "      border-bottom-color: var(--fill-color);\n",
              "    }\n",
              "  }\n",
              "</style>\n",
              "\n",
              "  <script>\n",
              "    async function quickchart(key) {\n",
              "      const quickchartButtonEl =\n",
              "        document.querySelector('#' + key + ' button');\n",
              "      quickchartButtonEl.disabled = true;  // To prevent multiple clicks.\n",
              "      quickchartButtonEl.classList.add('colab-df-spinner');\n",
              "      try {\n",
              "        const charts = await google.colab.kernel.invokeFunction(\n",
              "            'suggestCharts', [key], {});\n",
              "      } catch (error) {\n",
              "        console.error('Error during call to suggestCharts:', error);\n",
              "      }\n",
              "      quickchartButtonEl.classList.remove('colab-df-spinner');\n",
              "      quickchartButtonEl.classList.add('colab-df-quickchart-complete');\n",
              "    }\n",
              "    (() => {\n",
              "      let quickchartButtonEl =\n",
              "        document.querySelector('#df-22828afe-d5b0-4be5-a681-9345b2a411d9 button');\n",
              "      quickchartButtonEl.style.display =\n",
              "        google.colab.kernel.accessAllowed ? 'block' : 'none';\n",
              "    })();\n",
              "  </script>\n",
              "</div>\n",
              "    </div>\n",
              "  </div>\n"
            ]
          },
          "metadata": {},
          "execution_count": 223
        }
      ]
    },
    {
      "cell_type": "code",
      "source": [
        "plt.figure(figsize=(10, 6))\n",
        "plt.plot(scaled_df.index, scaled_df[\"Scaled_Close\"], label=\"Scaled Close Price\")\n",
        "plt.title('Scaled Closing Prices Over Time')\n",
        "plt.xlabel('Date')\n",
        "plt.ylabel('Scaled Close Price')\n",
        "plt.legend()\n",
        "plt.grid(True)\n",
        "plt.show()"
      ],
      "metadata": {
        "colab": {
          "base_uri": "https://localhost:8080/",
          "height": 564
        },
        "id": "OKviT14FG_bq",
        "outputId": "9454e336-8b5f-4224-a1cf-af537648e96a"
      },
      "id": "OKviT14FG_bq",
      "execution_count": 224,
      "outputs": [
        {
          "output_type": "display_data",
          "data": {
            "text/plain": [
              "<Figure size 1000x600 with 1 Axes>"
            ],
            "image/png": "[encoded data removed]"
          },
          "metadata": {}
        }
      ]
    },
    {
      "cell_type": "code",
      "source": [
        "#Splitting dataset into train and test sets.\n",
        "#Determining Training Size: 80% of the total dataset length\n",
        "training_size = int(len(df1)*0.8)\n",
        "\n",
        "#Determining Test Size: remaining 20% of the total dataset length\n",
        "test_size = len(df1)-training_size"
      ],
      "metadata": {
        "id": "DOqzdAqCrWAr"
      },
      "id": "DOqzdAqCrWAr",
      "execution_count": 225,
      "outputs": []
    },
    {
      "cell_type": "code",
      "source": [
        "#Inspecting the sizes of our training and test sets\n",
        "print (\"Training Size: \", training_size)\n",
        "print (\"Test Size: \", test_size)"
      ],
      "metadata": {
        "colab": {
          "base_uri": "https://localhost:8080/"
        },
        "id": "1u61MF1qsJ2B",
        "outputId": "5599cad6-e752-4bfc-9530-f2e9226f0a74"
      },
      "id": "1u61MF1qsJ2B",
      "execution_count": 226,
      "outputs": [
        {
          "output_type": "stream",
          "name": "stdout",
          "text": [
            "Training Size:  9651\n",
            "Test Size:  2413\n"
          ]
        }
      ]
    },
    {
      "cell_type": "code",
      "source": [
        "# Splitting Dataset: train_data contains the first training_size rows of the scaled data, and test_data contains the remaining rows.\n",
        "train_data,test_data=df1[0:training_size,:], df1[training_size:len(df1),:1]"
      ],
      "metadata": {
        "id": "JE8jQUVIXuTc"
      },
      "id": "JE8jQUVIXuTc",
      "execution_count": 227,
      "outputs": []
    },
    {
      "cell_type": "code",
      "source": [
        "#Checking the  length (number of rows) in our training and test set\n",
        "\n",
        "print(\"Length of Training Data:\", len(train_data))\n",
        "print(\"Length of Test Data:\", len(test_data))\n"
      ],
      "metadata": {
        "colab": {
          "base_uri": "https://localhost:8080/"
        },
        "id": "DRJvW1rvsJ4z",
        "outputId": "06c8468d-e716-4a4a-f097-933d1b52f36c"
      },
      "id": "DRJvW1rvsJ4z",
      "execution_count": 228,
      "outputs": [
        {
          "output_type": "stream",
          "name": "stdout",
          "text": [
            "Length of Training Data: 9651\n",
            "Length of Test Data: 2413\n"
          ]
        }
      ]
    },
    {
      "cell_type": "code",
      "source": [
        "#Inspecting the train data as NumPy array\n",
        "train_data"
      ],
      "metadata": {
        "colab": {
          "base_uri": "https://localhost:8080/"
        },
        "id": "TXJkz3s3sP4Q",
        "outputId": "c3d94b29-08e7-465a-ee33-8493badcedf1"
      },
      "id": "TXJkz3s3sP4Q",
      "execution_count": 229,
      "outputs": [
        {
          "output_type": "execute_result",
          "data": {
            "text/plain": [
              "array([[0.01884266],\n",
              "       [0.01872416],\n",
              "       [0.01819087],\n",
              "       ...,\n",
              "       [0.28421762],\n",
              "       [0.29290716],\n",
              "       [0.28539586]])"
            ]
          },
          "metadata": {},
          "execution_count": 229
        }
      ]
    },
    {
      "cell_type": "markdown",
      "source": [
        "# Preparing the data for LSTM\n",
        "* Convert the data to numpy array and set the timestep to 100\n",
        "* Converting the time series array into input-output pairs for an autoregressive model.\n",
        "* time_step (int): The number of time steps to use for each input sequence.\n",
        "* Returns: A tuple containing NumPy arrays (X, Y), where X is the input sequence matrix and Y is the target values array."
      ],
      "metadata": {
        "id": "bgHvtkqoELkF"
      },
      "id": "bgHvtkqoELkF"
    },
    {
      "cell_type": "code",
      "source": [
        "def create_AR(stock_data, time_step=1):\n",
        "\tX, Y = [], []\n",
        "\tfor i in range(len(stock_data)-time_step):\n",
        "\t\ta = stock_data[i:(i+time_step), 0]\n",
        "\t\tX.append(a)\n",
        "\t\tY.append(stock_data[i+time_step,0])\n",
        "\treturn np.array(X), np.array(Y)"
      ],
      "metadata": {
        "id": "MnR4v6UpU8JN"
      },
      "id": "MnR4v6UpU8JN",
      "execution_count": 230,
      "outputs": []
    },
    {
      "cell_type": "code",
      "source": [
        "#applying the create_AR function to create input-output pairs for our training and test sets with a time step = 100 ()\n",
        "time_step = 100\n",
        "X_train, y_train = create_AR(train_data, time_step)\n",
        "X_test, y_test = create_AR(test_data, time_step)"
      ],
      "metadata": {
        "id": "IgZf5qmnscLZ"
      },
      "id": "IgZf5qmnscLZ",
      "execution_count": 231,
      "outputs": []
    },
    {
      "cell_type": "code",
      "source": [
        "print(\"Shape of X_train:\", X_train.shape)\n",
        "print(\"Shape of y_train:\", y_train.shape)"
      ],
      "metadata": {
        "colab": {
          "base_uri": "https://localhost:8080/"
        },
        "id": "66dyt_oBs0mt",
        "outputId": "0b45b5e8-063b-4781-df72-6d89e5c6b79f"
      },
      "id": "66dyt_oBs0mt",
      "execution_count": 232,
      "outputs": [
        {
          "output_type": "stream",
          "name": "stdout",
          "text": [
            "Shape of X_train: (9551, 100)\n",
            "Shape of y_train: (9551,)\n"
          ]
        }
      ]
    },
    {
      "cell_type": "code",
      "source": [
        "print(\"Shape of X_test:\", X_test.shape)\n",
        "print(\"Shape of y_test:\", y_test.shape)"
      ],
      "metadata": {
        "colab": {
          "base_uri": "https://localhost:8080/"
        },
        "id": "b4GNpBOms0pQ",
        "outputId": "12c9f3a5-75aa-4558-c6c4-74257b89765d"
      },
      "id": "b4GNpBOms0pQ",
      "execution_count": 233,
      "outputs": [
        {
          "output_type": "stream",
          "name": "stdout",
          "text": [
            "Shape of X_test: (2313, 100)\n",
            "Shape of y_test: (2313,)\n"
          ]
        }
      ]
    },
    {
      "cell_type": "code",
      "source": [
        "# reshape input to be [samples, time steps, features] which is required for LSTM\n",
        "X_train =X_train.reshape(X_train.shape[0],X_train.shape[1], 1)\n",
        "X_test = X_test.reshape(X_test.shape[0],X_test.shape[1] , 1)"
      ],
      "metadata": {
        "id": "6JOhiSpPs0r1"
      },
      "id": "6JOhiSpPs0r1",
      "execution_count": 234,
      "outputs": []
    },
    {
      "cell_type": "markdown",
      "source": [
        "# Build the Model\n",
        "* Add LSTM layer along with dropout layers to prevent overfitting. After that, we add a Dense layer that specifies a one unit output. Next, we compile the model using the adam optimizer and set the loss as the mean_squarred_error"
      ],
      "metadata": {
        "id": "hNZdZFP5Bbev"
      },
      "id": "hNZdZFP5Bbev"
    },
    {
      "cell_type": "code",
      "source": [
        "### Creating the LSTM model\n",
        "from tensorflow.keras.models import Sequential\n",
        "from tensorflow.keras.layers import Dense\n",
        "from tensorflow.keras.layers import LSTM\n",
        "from tensorflow.keras.layers import Dropout\n",
        "\n",
        "model=Sequential()\n",
        "\n",
        "model.add(LSTM(50,return_sequences=True,input_shape=(100,1)))\n",
        "model.add(Dropout(0.2))\n",
        "\n",
        "model.add(LSTM(50,return_sequences=True))\n",
        "model.add(Dropout(0.2))\n",
        "\n",
        "model.add(LSTM(50))\n",
        "model.add(Dropout(0.2))\n",
        "\n",
        "model.add(Dense(32, activation = \"relu\"))\n",
        "model.add(Dense(32, activation = \"relu\"))\n",
        "\n",
        "model.add(Dense(1))\n",
        "\n",
        "model.compile(loss='mean_squared_error',optimizer='adam', metrics = [\"mean_absolute_error\"])\n",
        "\n",
        "modelresult = model.fit(X_train,y_train,validation_data=(X_test,y_test),epochs=25, batch_size=64,verbose=1)\n"
      ],
      "metadata": {
        "colab": {
          "base_uri": "https://localhost:8080/"
        },
        "id": "Kl8-CpFis0uQ",
        "outputId": "877e3c93-6fdd-403f-f70a-ead94680dfd1"
      },
      "id": "Kl8-CpFis0uQ",
      "execution_count": 235,
      "outputs": [
        {
          "output_type": "stream",
          "name": "stdout",
          "text": [
            "Epoch 1/25\n",
            "150/150 [==============================] - 9s 24ms/step - loss: 0.0019 - mean_absolute_error: 0.0212 - val_loss: 0.0074 - val_mean_absolute_error: 0.0666\n",
            "Epoch 2/25\n",
            "150/150 [==============================] - 3s 21ms/step - loss: 2.8255e-04 - mean_absolute_error: 0.0103 - val_loss: 0.0047 - val_mean_absolute_error: 0.0542\n",
            "Epoch 3/25\n",
            "150/150 [==============================] - 3s 21ms/step - loss: 2.2926e-04 - mean_absolute_error: 0.0097 - val_loss: 0.0066 - val_mean_absolute_error: 0.0685\n",
            "Epoch 4/25\n",
            "150/150 [==============================] - 2s 16ms/step - loss: 2.2617e-04 - mean_absolute_error: 0.0095 - val_loss: 0.0059 - val_mean_absolute_error: 0.0672\n",
            "Epoch 5/25\n",
            "150/150 [==============================] - 3s 17ms/step - loss: 1.9311e-04 - mean_absolute_error: 0.0090 - val_loss: 0.0061 - val_mean_absolute_error: 0.0700\n",
            "Epoch 6/25\n",
            "150/150 [==============================] - 3s 17ms/step - loss: 1.8948e-04 - mean_absolute_error: 0.0091 - val_loss: 0.0012 - val_mean_absolute_error: 0.0281\n",
            "Epoch 7/25\n",
            "150/150 [==============================] - 3s 22ms/step - loss: 1.6742e-04 - mean_absolute_error: 0.0088 - val_loss: 0.0046 - val_mean_absolute_error: 0.0607\n",
            "Epoch 8/25\n",
            "150/150 [==============================] - 3s 21ms/step - loss: 1.6469e-04 - mean_absolute_error: 0.0088 - val_loss: 0.0022 - val_mean_absolute_error: 0.0422\n",
            "Epoch 9/25\n",
            "150/150 [==============================] - 3s 17ms/step - loss: 1.4171e-04 - mean_absolute_error: 0.0079 - val_loss: 0.0047 - val_mean_absolute_error: 0.0605\n",
            "Epoch 10/25\n",
            "150/150 [==============================] - 2s 16ms/step - loss: 1.4417e-04 - mean_absolute_error: 0.0082 - val_loss: 0.0076 - val_mean_absolute_error: 0.0799\n",
            "Epoch 11/25\n",
            "150/150 [==============================] - 2s 16ms/step - loss: 1.3503e-04 - mean_absolute_error: 0.0080 - val_loss: 0.0047 - val_mean_absolute_error: 0.0623\n",
            "Epoch 12/25\n",
            "150/150 [==============================] - 3s 22ms/step - loss: 1.2511e-04 - mean_absolute_error: 0.0076 - val_loss: 0.0081 - val_mean_absolute_error: 0.0784\n",
            "Epoch 13/25\n",
            "150/150 [==============================] - 3s 20ms/step - loss: 1.2476e-04 - mean_absolute_error: 0.0076 - val_loss: 0.0085 - val_mean_absolute_error: 0.0844\n",
            "Epoch 14/25\n",
            "150/150 [==============================] - 2s 16ms/step - loss: 1.1305e-04 - mean_absolute_error: 0.0072 - val_loss: 0.0106 - val_mean_absolute_error: 0.0934\n",
            "Epoch 15/25\n",
            "150/150 [==============================] - 2s 16ms/step - loss: 1.3227e-04 - mean_absolute_error: 0.0079 - val_loss: 0.0099 - val_mean_absolute_error: 0.0895\n",
            "Epoch 16/25\n",
            "150/150 [==============================] - 2s 16ms/step - loss: 1.0755e-04 - mean_absolute_error: 0.0071 - val_loss: 0.0096 - val_mean_absolute_error: 0.0877\n",
            "Epoch 17/25\n",
            "150/150 [==============================] - 3s 20ms/step - loss: 1.0970e-04 - mean_absolute_error: 0.0071 - val_loss: 0.0144 - val_mean_absolute_error: 0.1103\n",
            "Epoch 18/25\n",
            "150/150 [==============================] - 3s 21ms/step - loss: 1.1316e-04 - mean_absolute_error: 0.0075 - val_loss: 0.0114 - val_mean_absolute_error: 0.0976\n",
            "Epoch 19/25\n",
            "150/150 [==============================] - 2s 17ms/step - loss: 1.0136e-04 - mean_absolute_error: 0.0069 - val_loss: 0.0083 - val_mean_absolute_error: 0.0815\n",
            "Epoch 20/25\n",
            "150/150 [==============================] - 2s 16ms/step - loss: 9.5127e-05 - mean_absolute_error: 0.0066 - val_loss: 0.0098 - val_mean_absolute_error: 0.0881\n",
            "Epoch 21/25\n",
            "150/150 [==============================] - 2s 16ms/step - loss: 9.0269e-05 - mean_absolute_error: 0.0065 - val_loss: 0.0060 - val_mean_absolute_error: 0.0687\n",
            "Epoch 22/25\n",
            "150/150 [==============================] - 3s 19ms/step - loss: 9.3241e-05 - mean_absolute_error: 0.0067 - val_loss: 0.0136 - val_mean_absolute_error: 0.1060\n",
            "Epoch 23/25\n",
            "150/150 [==============================] - 3s 22ms/step - loss: 9.6466e-05 - mean_absolute_error: 0.0069 - val_loss: 0.0123 - val_mean_absolute_error: 0.0996\n",
            "Epoch 24/25\n",
            "150/150 [==============================] - 2s 16ms/step - loss: 1.0430e-04 - mean_absolute_error: 0.0071 - val_loss: 0.0099 - val_mean_absolute_error: 0.0870\n",
            "Epoch 25/25\n",
            "150/150 [==============================] - 2s 16ms/step - loss: 9.2613e-05 - mean_absolute_error: 0.0066 - val_loss: 0.0140 - val_mean_absolute_error: 0.1067\n"
          ]
        }
      ]
    },
    {
      "cell_type": "code",
      "source": [
        "model.summary()"
      ],
      "metadata": {
        "colab": {
          "base_uri": "https://localhost:8080/"
        },
        "id": "oqKweYpEs0wj",
        "outputId": "d57b1176-6711-4e21-ccf5-0f793b03ef65"
      },
      "id": "oqKweYpEs0wj",
      "execution_count": 236,
      "outputs": [
        {
          "output_type": "stream",
          "name": "stdout",
          "text": [
            "Model: \"sequential_6\"\n",
            "_________________________________________________________________\n",
            " Layer (type)                Output Shape              Param #   \n",
            "=================================================================\n",
            " lstm_18 (LSTM)              (None, 100, 50)           10400     \n",
            "                                                                 \n",
            " dropout_18 (Dropout)        (None, 100, 50)           0         \n",
            "                                                                 \n",
            " lstm_19 (LSTM)              (None, 100, 50)           20200     \n",
            "                                                                 \n",
            " dropout_19 (Dropout)        (None, 100, 50)           0         \n",
            "                                                                 \n",
            " lstm_20 (LSTM)              (None, 50)                20200     \n",
            "                                                                 \n",
            " dropout_20 (Dropout)        (None, 50)                0         \n",
            "                                                                 \n",
            " dense_18 (Dense)            (None, 32)                1632      \n",
            "                                                                 \n",
            " dense_19 (Dense)            (None, 32)                1056      \n",
            "                                                                 \n",
            " dense_20 (Dense)            (None, 1)                 33        \n",
            "                                                                 \n",
            "=================================================================\n",
            "Total params: 53521 (209.07 KB)\n",
            "Trainable params: 53521 (209.07 KB)\n",
            "Non-trainable params: 0 (0.00 Byte)\n",
            "_________________________________________________________________\n"
          ]
        }
      ]
    },
    {
      "cell_type": "markdown",
      "source": [
        "# Model Evaluation"
      ],
      "metadata": {
        "id": "Wy84AG8IB5fL"
      },
      "id": "Wy84AG8IB5fL"
    },
    {
      "cell_type": "code",
      "source": [
        "plt.plot(modelresult.history[\"loss\"])\n",
        "plt.title('Training model loss')\n",
        "plt.xlabel('epoch')\n",
        "plt.ylabel('loss')\n",
        "plt.show()"
      ],
      "metadata": {
        "colab": {
          "base_uri": "https://localhost:8080/",
          "height": 472
        },
        "id": "0xNNfPz5s0ym",
        "outputId": "78063e03-d87c-4404-d371-773500df167f"
      },
      "id": "0xNNfPz5s0ym",
      "execution_count": 237,
      "outputs": [
        {
          "output_type": "display_data",
          "data": {
            "text/plain": [
              "<Figure size 640x480 with 1 Axes>"
            ],
            "image/png": "[encoded data removed]"
          },
          "metadata": {}
        }
      ]
    },
    {
      "cell_type": "code",
      "source": [
        "#predicted stock price on train and test data\n",
        "train_pred = model.predict(X_train)\n",
        "test_pred = model.predict(X_test)"
      ],
      "metadata": {
        "colab": {
          "base_uri": "https://localhost:8080/"
        },
        "id": "UZAecv5l8FlP",
        "outputId": "89fb784f-8427-480f-edd0-476100490600"
      },
      "id": "UZAecv5l8FlP",
      "execution_count": 238,
      "outputs": [
        {
          "output_type": "stream",
          "name": "stdout",
          "text": [
            "299/299 [==============================] - 3s 6ms/step\n",
            "73/73 [==============================] - 0s 6ms/step\n"
          ]
        }
      ]
    },
    {
      "cell_type": "code",
      "source": [
        "#Inverse transform to get actual value\n",
        "train_pred = scaler.inverse_transform(train_pred)\n",
        "test_pred = scaler.inverse_transform(test_pred)"
      ],
      "metadata": {
        "id": "f-ow-8TrcTAp"
      },
      "id": "f-ow-8TrcTAp",
      "execution_count": 239,
      "outputs": []
    },
    {
      "cell_type": "code",
      "source": [
        "plt.plot(scaler.inverse_transform(df1), label = \"Actual stock price\")\n",
        "plt.plot(train_pred, label = \"Predicted stock price on train data\")\n",
        "plt.plot(test_pred, label = \"Predicted stock price on test data\")\n",
        "\n",
        "plt.xlabel('Date')\n",
        "plt.ylabel('Stock Price')\n",
        "plt.title('Actual vs Predicted Stock Prices')\n",
        "plt.legend()\n",
        "plt.show()"
      ],
      "metadata": {
        "id": "UVZAEb6QcyYO",
        "outputId": "4223d005-cd85-4f12-efe2-366343f78298",
        "colab": {
          "base_uri": "https://localhost:8080/",
          "height": 472
        }
      },
      "id": "UVZAEb6QcyYO",
      "execution_count": 240,
      "outputs": [
        {
          "output_type": "display_data",
          "data": {
            "text/plain": [
              "<Figure size 640x480 with 1 Axes>"
            ],
            "image/png": "[encoded data removed]"
          },
          "metadata": {}
        }
      ]
    },
    {
      "cell_type": "code",
      "source": [
        "#appending train and test pred\n",
        "test = np.vstack((train_pred, test_pred))"
      ],
      "metadata": {
        "id": "YfBTL-mGeMQi"
      },
      "id": "YfBTL-mGeMQi",
      "execution_count": 241,
      "outputs": []
    },
    {
      "cell_type": "code",
      "source": [
        "#Combining the predicted data to create uniform data visualization\n",
        "plt.plot(scaler.inverse_transform(df1), label = \"Actual stock price\")\n",
        "plt.plot(test, label = \"Predicted stock price\")\n",
        "\n",
        "plt.xlabel('Date')\n",
        "plt.ylabel('Stock Price')\n",
        "plt.title('Actual vs Predicted Stock Prices')\n",
        "plt.legend()\n",
        "plt.show()"
      ],
      "metadata": {
        "id": "y07tYzHAeZdV",
        "outputId": "1de3198d-11d4-483a-fc87-80ff99a33cf7",
        "colab": {
          "base_uri": "https://localhost:8080/",
          "height": 472
        }
      },
      "id": "y07tYzHAeZdV",
      "execution_count": 242,
      "outputs": [
        {
          "output_type": "display_data",
          "data": {
            "text/plain": [
              "<Figure size 640x480 with 1 Axes>"
            ],
            "image/png": "[encoded data removed]"
          },
          "metadata": {}
        }
      ]
    },
    {
      "cell_type": "markdown",
      "source": [
        "# Forecasting Stock price for the next 30 days"
      ],
      "metadata": {
        "id": "K0qO6K2RfVEQ"
      },
      "id": "K0qO6K2RfVEQ"
    },
    {
      "cell_type": "code",
      "source": [
        "#we  take the latest 100 values, create a data to get the predicted value\n",
        "len(test_data)"
      ],
      "metadata": {
        "id": "2IE-m_KmeZhy",
        "outputId": "12e4eb84-d42d-4b42-d580-2e8d95ad9758",
        "colab": {
          "base_uri": "https://localhost:8080/"
        }
      },
      "id": "2IE-m_KmeZhy",
      "execution_count": 243,
      "outputs": [
        {
          "output_type": "execute_result",
          "data": {
            "text/plain": [
              "2413"
            ]
          },
          "metadata": {},
          "execution_count": 243
        }
      ]
    },
    {
      "cell_type": "code",
      "source": [
        "#Extracting the last 100 days from the test data; 2313 is the starting index for the last 100 days\n",
        "pred_inp = test_data[len(test_data)-100:]"
      ],
      "metadata": {
        "id": "0vVIsBPOfCVM"
      },
      "id": "0vVIsBPOfCVM",
      "execution_count": 244,
      "outputs": []
    },
    {
      "cell_type": "code",
      "source": [
        "pred_inp = pred_inp.reshape(1,-1)"
      ],
      "metadata": {
        "id": "0LKY5HYyfCXV"
      },
      "id": "0LKY5HYyfCXV",
      "execution_count": 245,
      "outputs": []
    },
    {
      "cell_type": "code",
      "source": [
        "inp_list = list(pred_inp)"
      ],
      "metadata": {
        "id": "YRvG5UUzhhN2"
      },
      "id": "YRvG5UUzhhN2",
      "execution_count": 246,
      "outputs": []
    },
    {
      "cell_type": "code",
      "source": [
        "pred_inp.shape"
      ],
      "metadata": {
        "id": "qSuv5XvmhhP-",
        "outputId": "48e94711-a34a-4dda-92d4-77920fe1eb9b",
        "colab": {
          "base_uri": "https://localhost:8080/"
        }
      },
      "id": "qSuv5XvmhhP-",
      "execution_count": 247,
      "outputs": [
        {
          "output_type": "execute_result",
          "data": {
            "text/plain": [
              "(1, 100)"
            ]
          },
          "metadata": {},
          "execution_count": 247
        }
      ]
    },
    {
      "cell_type": "code",
      "source": [
        "#Creating list of the last 100 data\n",
        "inp_list = inp_list[0].tolist()"
      ],
      "metadata": {
        "id": "NJdT0IKohhST"
      },
      "id": "NJdT0IKohhST",
      "execution_count": 248,
      "outputs": []
    },
    {
      "cell_type": "code",
      "source": [
        "#Predicting next 30 days price suing the current data\n",
        "#It will predict in sliding window method (algorithm) with stride 1 (we shift by 1 to have 101 values)\n",
        "pred_output=[]\n",
        "n_steps=100\n",
        "i=0\n",
        "while(i<30): # we repeat it 30 time (sliding window algorith)\n",
        "\n",
        "    if(len(inp_list)>100):\n",
        "        pred_inp = np.array(inp_list[1:])\n",
        "        pred_inp = pred_inp.reshape(1,-1)\n",
        "        pred_inp = pred_inp.reshape((1, n_steps, 1))\n",
        "        future_stock = model.predict(pred_inp, verbose=0)\n",
        "        inp_list.extend(future_stock[0].tolist())\n",
        "        inp_list = inp_list[1:]\n",
        "        pred_output.extend(future_stock.tolist())\n",
        "        i=i+1\n",
        "    else:\n",
        "        pred_inp = pred_inp.reshape((1, n_steps,1))\n",
        "        future_stock = model.predict(pred_inp, verbose=0)\n",
        "        inp_list.extend(future_stock[0].tolist())\n",
        "        pred_output.extend(future_stock.tolist())\n",
        "        i=i+1\n",
        "\n",
        "\n",
        "print(pred_output)"
      ],
      "metadata": {
        "id": "dM_c8h2khhUy",
        "outputId": "56508c2d-f7f3-47bd-fe50-a9ec14649d90",
        "colab": {
          "base_uri": "https://localhost:8080/"
        }
      },
      "id": "dM_c8h2khhUy",
      "execution_count": 249,
      "outputs": [
        {
          "output_type": "stream",
          "name": "stdout",
          "text": [
            "[[0.5143021941184998], [0.5028027892112732], [0.4868643879890442], [0.4682690501213074], [0.44954049587249756], [0.4321870803833008], [0.4169028401374817], [0.40383315086364746], [0.3928062915802002], [0.38350343704223633], [0.37556707859039307], [0.36865925788879395], [0.362488329410553], [0.3568170666694641], [0.3514605760574341], [0.34628158807754517], [0.3411838412284851], [0.3361051678657532], [0.33101052045822144], [0.32588624954223633], [0.3207336664199829], [0.31556427478790283], [0.31039565801620483], [0.305248498916626], [0.30014389753341675], [0.295102059841156], [0.29014116525650024], [0.2852770686149597], [0.28052276372909546], [0.27588897943496704]]\n"
          ]
        }
      ]
    },
    {
      "cell_type": "code",
      "source": [
        "len(pred_output)"
      ],
      "metadata": {
        "id": "ZAQ_AAt1PIpJ",
        "outputId": "29968e8c-45b1-48f6-dd03-815fc96332f9",
        "colab": {
          "base_uri": "https://localhost:8080/"
        }
      },
      "id": "ZAQ_AAt1PIpJ",
      "execution_count": 250,
      "outputs": [
        {
          "output_type": "execute_result",
          "data": {
            "text/plain": [
              "30"
            ]
          },
          "metadata": {},
          "execution_count": 250
        }
      ]
    },
    {
      "cell_type": "code",
      "source": [
        "len(inp_list)"
      ],
      "metadata": {
        "id": "vy9U34r8PWTe",
        "outputId": "d2fe7757-b74c-40b2-8071-30eb5d24ea3f",
        "colab": {
          "base_uri": "https://localhost:8080/"
        }
      },
      "id": "vy9U34r8PWTe",
      "execution_count": 251,
      "outputs": [
        {
          "output_type": "execute_result",
          "data": {
            "text/plain": [
              "101"
            ]
          },
          "metadata": {},
          "execution_count": 251
        }
      ]
    },
    {
      "cell_type": "code",
      "source": [
        "print(pred_inp)"
      ],
      "metadata": {
        "id": "h-obeiEbPZiY",
        "outputId": "bc2d2b86-7bc4-489c-b54f-97265e3f97b7",
        "colab": {
          "base_uri": "https://localhost:8080/"
        }
      },
      "id": "h-obeiEbPZiY",
      "execution_count": 252,
      "outputs": [
        {
          "output_type": "stream",
          "name": "stdout",
          "text": [
            "[[[0.91089546]\n",
            "  [0.9178176 ]\n",
            "  [0.90839167]\n",
            "  [0.91023267]\n",
            "  [0.91516661]\n",
            "  [0.91354651]\n",
            "  [0.90699254]\n",
            "  [0.90839167]\n",
            "  [0.91840674]\n",
            "  [0.90920172]\n",
            "  [0.90522514]\n",
            "  [0.90043857]\n",
            "  [0.91612391]\n",
            "  [0.9328402 ]\n",
            "  [0.92893728]\n",
            "  [0.9382159 ]\n",
            "  [0.94013062]\n",
            "  [0.94764195]\n",
            "  [0.95301765]\n",
            "  [0.96016075]\n",
            "  [0.95287034]\n",
            "  [0.95993984]\n",
            "  [0.95905608]\n",
            "  [0.98659755]\n",
            "  [0.95368038]\n",
            "  [0.96700924]\n",
            "  [0.96133891]\n",
            "  [0.97267956]\n",
            "  [0.94801006]\n",
            "  [0.95633143]\n",
            "  [0.96259089]\n",
            "  [0.97547792]\n",
            "  [0.97290047]\n",
            "  [0.96236998]\n",
            "  [0.96546286]\n",
            "  [0.96833482]\n",
            "  [0.97282687]\n",
            "  [0.98181098]\n",
            "  [0.99219416]\n",
            "  [0.99020596]\n",
            "  [1.        ]\n",
            "  [0.99742266]\n",
            "  [0.98505105]\n",
            "  [0.93563857]\n",
            "  [0.88195488]\n",
            "  [0.86428122]\n",
            "  [0.82237995]\n",
            "  [0.8011716 ]\n",
            "  [0.83018585]\n",
            "  [0.7870327 ]\n",
            "  [0.84366195]\n",
            "  [0.80860928]\n",
            "  [0.7887264 ]\n",
            "  [0.71545445]\n",
            "  [0.75234819]\n",
            "  [0.69402514]\n",
            "  [0.60676155]\n",
            "  [0.7251013 ]\n",
            "  [0.62399338]\n",
            "  [0.62922182]\n",
            "  [0.53474147]\n",
            "  [0.55919001]\n",
            "  [0.53746618]\n",
            "  [0.49946783]\n",
            "  [0.61059087]\n",
            "  [0.65565862]\n",
            "  [0.67863437]\n",
            "  [0.64505447]\n",
            "  [0.65639501]\n",
            "  [0.62207872]\n",
            "  [0.56486027]\n",
            "  [0.51430219]\n",
            "  [0.50280279]\n",
            "  [0.48686439]\n",
            "  [0.46826905]\n",
            "  [0.4495405 ]\n",
            "  [0.43218708]\n",
            "  [0.41690284]\n",
            "  [0.40383315]\n",
            "  [0.39280629]\n",
            "  [0.38350344]\n",
            "  [0.37556708]\n",
            "  [0.36865926]\n",
            "  [0.36248833]\n",
            "  [0.35681707]\n",
            "  [0.35146058]\n",
            "  [0.34628159]\n",
            "  [0.34118384]\n",
            "  [0.33610517]\n",
            "  [0.33101052]\n",
            "  [0.32588625]\n",
            "  [0.32073367]\n",
            "  [0.31556427]\n",
            "  [0.31039566]\n",
            "  [0.3052485 ]\n",
            "  [0.3001439 ]\n",
            "  [0.29510206]\n",
            "  [0.29014117]\n",
            "  [0.28527707]\n",
            "  [0.28052276]]]\n"
          ]
        }
      ]
    },
    {
      "cell_type": "code",
      "source": [
        "len(df1)"
      ],
      "metadata": {
        "id": "MZ32G-i8hhXQ",
        "outputId": "d0d6d75a-3334-4731-9965-2d1b77311eb7",
        "colab": {
          "base_uri": "https://localhost:8080/"
        }
      },
      "id": "MZ32G-i8hhXQ",
      "execution_count": 253,
      "outputs": [
        {
          "output_type": "execute_result",
          "data": {
            "text/plain": [
              "12064"
            ]
          },
          "metadata": {},
          "execution_count": 253
        }
      ]
    },
    {
      "cell_type": "code",
      "source": [
        "#Creating a empty plot graph one after another\n",
        "plot_new=np.arange(1,101) # first 100 value  - train data\n",
        "plot_pred=np.arange(101,131) # predict value for the next 30 days"
      ],
      "metadata": {
        "id": "DYX0_Btwh9Ec"
      },
      "id": "DYX0_Btwh9Ec",
      "execution_count": 254,
      "outputs": []
    },
    {
      "cell_type": "code",
      "source": [
        "plt.plot(plot_new, scaler.inverse_transform(df1[len(df1)-100:]))\n",
        "plt.plot(plot_pred, scaler.inverse_transform(pred_output))"
      ],
      "metadata": {
        "id": "kAr1LQTah9G1",
        "outputId": "d02f890c-d230-4d9f-c033-00847f47dacf",
        "colab": {
          "base_uri": "https://localhost:8080/",
          "height": 447
        }
      },
      "id": "kAr1LQTah9G1",
      "execution_count": 255,
      "outputs": [
        {
          "output_type": "execute_result",
          "data": {
            "text/plain": [
              "[<matplotlib.lines.Line2D at 0x7c0869dd8670>]"
            ]
          },
          "metadata": {},
          "execution_count": 255
        },
        {
          "output_type": "display_data",
          "data": {
            "text/plain": [
              "<Figure size 640x480 with 1 Axes>"
            ],
            "image/png": "[encoded data removed]"
          },
          "metadata": {}
        }
      ]
    },
    {
      "cell_type": "code",
      "source": [
        "ds_new = df1.tolist()"
      ],
      "metadata": {
        "id": "7F0YfH10h9JZ"
      },
      "id": "7F0YfH10h9JZ",
      "execution_count": 256,
      "outputs": []
    },
    {
      "cell_type": "code",
      "source": [
        "len(ds_new)"
      ],
      "metadata": {
        "id": "8RfrAkpEh9Lg",
        "outputId": "abdeb801-c1e1-4a9d-9f67-998e19a207b1",
        "colab": {
          "base_uri": "https://localhost:8080/"
        }
      },
      "id": "8RfrAkpEh9Lg",
      "execution_count": 257,
      "outputs": [
        {
          "output_type": "execute_result",
          "data": {
            "text/plain": [
              "12064"
            ]
          },
          "metadata": {},
          "execution_count": 257
        }
      ]
    },
    {
      "cell_type": "code",
      "source": [
        "#Extends helps us to fill the missing value with approx value\n",
        "ds_new.extend(pred_output)"
      ],
      "metadata": {
        "id": "RWTpmMLEiGX7"
      },
      "id": "RWTpmMLEiGX7",
      "execution_count": 258,
      "outputs": []
    },
    {
      "cell_type": "code",
      "source": [
        "plt.plot(ds_new[12032:])"
      ],
      "metadata": {
        "id": "syHF2Ii4RPWV",
        "outputId": "60fa9129-77c0-4607-caa3-ba4cf9b91e3f",
        "colab": {
          "base_uri": "https://localhost:8080/",
          "height": 447
        }
      },
      "id": "syHF2Ii4RPWV",
      "execution_count": 264,
      "outputs": [
        {
          "output_type": "execute_result",
          "data": {
            "text/plain": [
              "[<matplotlib.lines.Line2D at 0x7c0869d7b760>]"
            ]
          },
          "metadata": {},
          "execution_count": 264
        },
        {
          "output_type": "display_data",
          "data": {
            "text/plain": [
              "<Figure size 640x480 with 1 Axes>"
            ],
            "image/png": "[encoded data removed]"
          },
          "metadata": {}
        }
      ]
    },
    {
      "cell_type": "code",
      "source": [
        "#Creating final data for plotting\n",
        "final_graph = scaler.inverse_transform(ds_new).tolist()"
      ],
      "metadata": {
        "id": "uDFMcKZ1iGaN"
      },
      "id": "uDFMcKZ1iGaN",
      "execution_count": 260,
      "outputs": []
    },
    {
      "cell_type": "code",
      "source": [
        "#Plotting final results with predicted value after 30 Days\n",
        "\n",
        "stock_symbol = \"AXP\"\n",
        "plt.plot(final_graph,)\n",
        "plt.ylabel(\"Price\")\n",
        "plt.xlabel(\"Time\")\n",
        "plt.title(\"{0} prediction of next month close\".format(stock_symbol))\n",
        "plt.axhline(y=final_graph[len(final_graph)-1], color = 'red', linestyle = ':', label = 'NEXT 30D: {0}'.format(round(float(*final_graph[len(final_graph)-1]),2)))\n",
        "plt.legend()"
      ],
      "metadata": {
        "id": "bE6khTADiGcX",
        "outputId": "bac34ea6-5826-454c-ab1d-89e7ac5fa9ca",
        "colab": {
          "base_uri": "https://localhost:8080/",
          "height": 489
        }
      },
      "id": "bE6khTADiGcX",
      "execution_count": 261,
      "outputs": [
        {
          "output_type": "execute_result",
          "data": {
            "text/plain": [
              "<matplotlib.legend.Legend at 0x7c0869d98d00>"
            ]
          },
          "metadata": {},
          "execution_count": 261
        },
        {
          "output_type": "display_data",
          "data": {
            "text/plain": [
              "<Figure size 640x480 with 1 Axes>"
            ],
            "image/png": "[encoded data removed]"
          },
          "metadata": {}
        }
      ]
    },
    {
      "cell_type": "code",
      "source": [
        "print(train_pred[:5])\n",
        "print(test_pred[:5])"
      ],
      "metadata": {
        "colab": {
          "base_uri": "https://localhost:8080/"
        },
        "id": "2lY1PoTV-B5T",
        "outputId": "a2dba648-6fbd-4927-85d1-c64c662a9061"
      },
      "id": "2lY1PoTV-B5T",
      "execution_count": 262,
      "outputs": [
        {
          "output_type": "stream",
          "name": "stdout",
          "text": [
            "[[3.3055139]\n",
            " [3.3274863]\n",
            " [3.3541481]\n",
            " [3.381374 ]\n",
            " [3.40599  ]]\n",
            "[[40.6786  ]\n",
            " [40.720665]\n",
            " [40.697582]\n",
            " [40.596706]\n",
            " [40.448704]]\n"
          ]
        }
      ]
    },
    {
      "cell_type": "code",
      "source": [
        "# Evaluate Performance metrics\n",
        "# Calculate and print additional performance metrics such as RMSE, Mean Absolute Error (MAE), or others, depending on your preference.\n",
        "\n",
        "from sklearn.metrics import mean_squared_error, mean_absolute_error\n",
        "\n",
        "# Calculate performance metrics\n",
        "train_rmse = mean_squared_error(y_train, train_pred, squared=False)\n",
        "test_rmse = mean_squared_error(y_test, test_pred, squared=False)\n",
        "\n",
        "train_mae = mean_absolute_error(y_train, train_pred)\n",
        "test_mae = mean_absolute_error(y_test, test_pred)\n",
        "\n",
        "print(\"Train RMSE: %.2f\" % train_rmse)\n",
        "print(\"Test RMSE: %.2f\" % test_rmse)\n",
        "print(\"Train MAE: %.2f\" % train_mae)\n",
        "print(\"Test MAE: %.2f\" % test_mae)\n"
      ],
      "metadata": {
        "colab": {
          "base_uri": "https://localhost:8080/"
        },
        "id": "vrL46-aeSpr-",
        "outputId": "212e1da4-d55f-44b7-befd-3ddab83b6cf5"
      },
      "id": "vrL46-aeSpr-",
      "execution_count": 263,
      "outputs": [
        {
          "output_type": "stream",
          "name": "stdout",
          "text": [
            "Train RMSE: 22.28\n",
            "Test RMSE: 66.78\n",
            "Train MAE: 15.95\n",
            "Test MAE: 65.02\n"
          ]
        }
      ]
    }
  ],
  "metadata": {
    "kernelspec": {
      "display_name": "Python 3",
      "name": "python3"
    },
    "language_info": {
      "name": "python"
    },
    "colab": {
      "provenance": [],
      "gpuType": "T4",
      "include_colab_link": true
    },
    "accelerator": "GPU"
  },
  "nbformat": 4,
  "nbformat_minor": 5
}