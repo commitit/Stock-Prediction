{
  "cells": [
    {
      "cell_type": "markdown",
      "metadata": {
        "id": "view-in-github",
        "colab_type": "text"
      },
      "source": [
        "<a href=\"https://colab.research.google.com/github/commitit/Stock-Prediction/blob/main/stock_predictionv3.ipynb\" target=\"_parent\"><img src=\"https://colab.research.google.com/assets/colab-badge.svg\" alt=\"Open In Colab\"/></a>"
      ]
    },
    {
      "cell_type": "markdown",
      "source": [
        "# Predicting the stock price movement of American Express.\n",
        "\n",
        "* We are using the stock data for American Express from the year 1972 to 2020 and try to predict the closing price for the date... to date..\n",
        "\n",
        "* Closing Price is the last price at which a stock trades during a regular trading session."
      ],
      "metadata": {
        "id": "RVQ496BP-fYq"
      },
      "id": "RVQ496BP-fYq"
    },
    {
      "cell_type": "markdown",
      "source": [
        "# Importing required libraries"
      ],
      "metadata": {
        "id": "qFm1CDLg-3X9"
      },
      "id": "qFm1CDLg-3X9"
    },
    {
      "cell_type": "markdown",
      "source": [],
      "metadata": {
        "id": "yqrjveyQ_d9r"
      },
      "id": "yqrjveyQ_d9r"
    },
    {
      "cell_type": "code",
      "execution_count": 241,
      "id": "839af939-f867-4c02-b27e-508d6773b2f8",
      "metadata": {
        "id": "839af939-f867-4c02-b27e-508d6773b2f8"
      },
      "outputs": [],
      "source": [
        "import pandas as pd\n",
        "import numpy as np\n",
        "import os\n",
        "import matplotlib.pyplot as plt\n",
        "import time\n",
        "import tensorflow as tf\n",
        "\n",
        "import datetime"
      ]
    },
    {
      "cell_type": "markdown",
      "source": [
        "# Data Exploration"
      ],
      "metadata": {
        "id": "1rI-_bCf_Ckt"
      },
      "id": "1rI-_bCf_Ckt"
    },
    {
      "cell_type": "code",
      "execution_count": 242,
      "id": "633534d8-bc34-448e-8b68-4e9d406ae781",
      "metadata": {
        "id": "633534d8-bc34-448e-8b68-4e9d406ae781"
      },
      "outputs": [],
      "source": [
        "df = pd.read_csv(\"https://raw.githubusercontent.com/commitit/Stock-Prediction/main/AXP.csv\")"
      ]
    },
    {
      "cell_type": "code",
      "execution_count": 243,
      "id": "44c7b5a4-431e-464c-afda-9e3726de7ecc",
      "metadata": {
        "colab": {
          "base_uri": "https://localhost:8080/",
          "height": 677
        },
        "id": "44c7b5a4-431e-464c-afda-9e3726de7ecc",
        "outputId": "f1d8def8-aada-4107-ff4e-68923d79a536"
      },
      "outputs": [
        {
          "output_type": "execute_result",
          "data": {
            "text/plain": [
              "          Date      Open      High       Low     Close  Adj Close  Volume\n",
              "0   1972-06-01  3.693287  3.693287  3.693287  3.693287   0.406085     0.0\n",
              "1   1972-06-02  3.677195  3.677195  3.677195  3.677195   0.404316     0.0\n",
              "2   1972-06-05  3.604777  3.604777  3.604777  3.604777   0.396353     0.0\n",
              "3   1972-06-06  3.411664  3.411664  3.411664  3.411664   0.375120     0.0\n",
              "4   1972-06-07  3.371432  3.371432  3.371432  3.371432   0.370696     0.0\n",
              "5   1972-06-08  3.451896  3.451896  3.451896  3.451896   0.379544     0.0\n",
              "6   1972-06-09  3.427757  3.427757  3.427757  3.427757   0.376890     0.0\n",
              "7   1972-06-12  3.484082  3.484082  3.484082  3.484082   0.383082     0.0\n",
              "8   1972-06-13  3.484082  3.484082  3.484082  3.484082   0.383082     0.0\n",
              "9   1972-06-14  3.443850  3.443850  3.443850  3.443850   0.378659     0.0\n",
              "10  1972-06-15  3.403618  3.403618  3.403618  3.403618   0.374235     0.0\n",
              "11  1972-06-16  3.395571  3.395571  3.395571  3.395571   0.373350     0.0\n",
              "12  1972-06-19  3.363386  3.363386  3.363386  3.363386   0.369812     0.0\n",
              "13  1972-06-20  3.371432  3.371432  3.371432  3.371432   0.370696     0.0\n",
              "14  1972-06-21  3.443850  3.443850  3.443850  3.443850   0.378659     0.0\n",
              "15  1972-06-22  3.508221  3.508221  3.508221  3.508221   0.385736     0.0\n",
              "16  1972-06-23  3.331200  3.331200  3.331200  3.331200   0.366273     0.0\n",
              "17  1972-06-26  3.234644  3.234644  3.234644  3.234644   0.355656     0.0\n",
              "18  1972-06-27  3.371432  3.371432  3.371432  3.371432   0.370696     0.0\n",
              "19  1972-06-28  3.403618  3.403618  3.403618  3.403618   0.374235     0.0"
            ],
            "text/html": [
              "\n",
              "  <div id=\"df-82414308-8481-4c47-b86a-a34be087feed\" class=\"colab-df-container\">\n",
              "    <div>\n",
              "<style scoped>\n",
              "    .dataframe tbody tr th:only-of-type {\n",
              "        vertical-align: middle;\n",
              "    }\n",
              "\n",
              "    .dataframe tbody tr th {\n",
              "        vertical-align: top;\n",
              "    }\n",
              "\n",
              "    .dataframe thead th {\n",
              "        text-align: right;\n",
              "    }\n",
              "</style>\n",
              "<table border=\"1\" class=\"dataframe\">\n",
              "  <thead>\n",
              "    <tr style=\"text-align: right;\">\n",
              "      <th></th>\n",
              "      <th>Date</th>\n",
              "      <th>Open</th>\n",
              "      <th>High</th>\n",
              "      <th>Low</th>\n",
              "      <th>Close</th>\n",
              "      <th>Adj Close</th>\n",
              "      <th>Volume</th>\n",
              "    </tr>\n",
              "  </thead>\n",
              "  <tbody>\n",
              "    <tr>\n",
              "      <th>0</th>\n",
              "      <td>1972-06-01</td>\n",
              "      <td>3.693287</td>\n",
              "      <td>3.693287</td>\n",
              "      <td>3.693287</td>\n",
              "      <td>3.693287</td>\n",
              "      <td>0.406085</td>\n",
              "      <td>0.0</td>\n",
              "    </tr>\n",
              "    <tr>\n",
              "      <th>1</th>\n",
              "      <td>1972-06-02</td>\n",
              "      <td>3.677195</td>\n",
              "      <td>3.677195</td>\n",
              "      <td>3.677195</td>\n",
              "      <td>3.677195</td>\n",
              "      <td>0.404316</td>\n",
              "      <td>0.0</td>\n",
              "    </tr>\n",
              "    <tr>\n",
              "      <th>2</th>\n",
              "      <td>1972-06-05</td>\n",
              "      <td>3.604777</td>\n",
              "      <td>3.604777</td>\n",
              "      <td>3.604777</td>\n",
              "      <td>3.604777</td>\n",
              "      <td>0.396353</td>\n",
              "      <td>0.0</td>\n",
              "    </tr>\n",
              "    <tr>\n",
              "      <th>3</th>\n",
              "      <td>1972-06-06</td>\n",
              "      <td>3.411664</td>\n",
              "      <td>3.411664</td>\n",
              "      <td>3.411664</td>\n",
              "      <td>3.411664</td>\n",
              "      <td>0.375120</td>\n",
              "      <td>0.0</td>\n",
              "    </tr>\n",
              "    <tr>\n",
              "      <th>4</th>\n",
              "      <td>1972-06-07</td>\n",
              "      <td>3.371432</td>\n",
              "      <td>3.371432</td>\n",
              "      <td>3.371432</td>\n",
              "      <td>3.371432</td>\n",
              "      <td>0.370696</td>\n",
              "      <td>0.0</td>\n",
              "    </tr>\n",
              "    <tr>\n",
              "      <th>5</th>\n",
              "      <td>1972-06-08</td>\n",
              "      <td>3.451896</td>\n",
              "      <td>3.451896</td>\n",
              "      <td>3.451896</td>\n",
              "      <td>3.451896</td>\n",
              "      <td>0.379544</td>\n",
              "      <td>0.0</td>\n",
              "    </tr>\n",
              "    <tr>\n",
              "      <th>6</th>\n",
              "      <td>1972-06-09</td>\n",
              "      <td>3.427757</td>\n",
              "      <td>3.427757</td>\n",
              "      <td>3.427757</td>\n",
              "      <td>3.427757</td>\n",
              "      <td>0.376890</td>\n",
              "      <td>0.0</td>\n",
              "    </tr>\n",
              "    <tr>\n",
              "      <th>7</th>\n",
              "      <td>1972-06-12</td>\n",
              "      <td>3.484082</td>\n",
              "      <td>3.484082</td>\n",
              "      <td>3.484082</td>\n",
              "      <td>3.484082</td>\n",
              "      <td>0.383082</td>\n",
              "      <td>0.0</td>\n",
              "    </tr>\n",
              "    <tr>\n",
              "      <th>8</th>\n",
              "      <td>1972-06-13</td>\n",
              "      <td>3.484082</td>\n",
              "      <td>3.484082</td>\n",
              "      <td>3.484082</td>\n",
              "      <td>3.484082</td>\n",
              "      <td>0.383082</td>\n",
              "      <td>0.0</td>\n",
              "    </tr>\n",
              "    <tr>\n",
              "      <th>9</th>\n",
              "      <td>1972-06-14</td>\n",
              "      <td>3.443850</td>\n",
              "      <td>3.443850</td>\n",
              "      <td>3.443850</td>\n",
              "      <td>3.443850</td>\n",
              "      <td>0.378659</td>\n",
              "      <td>0.0</td>\n",
              "    </tr>\n",
              "    <tr>\n",
              "      <th>10</th>\n",
              "      <td>1972-06-15</td>\n",
              "      <td>3.403618</td>\n",
              "      <td>3.403618</td>\n",
              "      <td>3.403618</td>\n",
              "      <td>3.403618</td>\n",
              "      <td>0.374235</td>\n",
              "      <td>0.0</td>\n",
              "    </tr>\n",
              "    <tr>\n",
              "      <th>11</th>\n",
              "      <td>1972-06-16</td>\n",
              "      <td>3.395571</td>\n",
              "      <td>3.395571</td>\n",
              "      <td>3.395571</td>\n",
              "      <td>3.395571</td>\n",
              "      <td>0.373350</td>\n",
              "      <td>0.0</td>\n",
              "    </tr>\n",
              "    <tr>\n",
              "      <th>12</th>\n",
              "      <td>1972-06-19</td>\n",
              "      <td>3.363386</td>\n",
              "      <td>3.363386</td>\n",
              "      <td>3.363386</td>\n",
              "      <td>3.363386</td>\n",
              "      <td>0.369812</td>\n",
              "      <td>0.0</td>\n",
              "    </tr>\n",
              "    <tr>\n",
              "      <th>13</th>\n",
              "      <td>1972-06-20</td>\n",
              "      <td>3.371432</td>\n",
              "      <td>3.371432</td>\n",
              "      <td>3.371432</td>\n",
              "      <td>3.371432</td>\n",
              "      <td>0.370696</td>\n",
              "      <td>0.0</td>\n",
              "    </tr>\n",
              "    <tr>\n",
              "      <th>14</th>\n",
              "      <td>1972-06-21</td>\n",
              "      <td>3.443850</td>\n",
              "      <td>3.443850</td>\n",
              "      <td>3.443850</td>\n",
              "      <td>3.443850</td>\n",
              "      <td>0.378659</td>\n",
              "      <td>0.0</td>\n",
              "    </tr>\n",
              "    <tr>\n",
              "      <th>15</th>\n",
              "      <td>1972-06-22</td>\n",
              "      <td>3.508221</td>\n",
              "      <td>3.508221</td>\n",
              "      <td>3.508221</td>\n",
              "      <td>3.508221</td>\n",
              "      <td>0.385736</td>\n",
              "      <td>0.0</td>\n",
              "    </tr>\n",
              "    <tr>\n",
              "      <th>16</th>\n",
              "      <td>1972-06-23</td>\n",
              "      <td>3.331200</td>\n",
              "      <td>3.331200</td>\n",
              "      <td>3.331200</td>\n",
              "      <td>3.331200</td>\n",
              "      <td>0.366273</td>\n",
              "      <td>0.0</td>\n",
              "    </tr>\n",
              "    <tr>\n",
              "      <th>17</th>\n",
              "      <td>1972-06-26</td>\n",
              "      <td>3.234644</td>\n",
              "      <td>3.234644</td>\n",
              "      <td>3.234644</td>\n",
              "      <td>3.234644</td>\n",
              "      <td>0.355656</td>\n",
              "      <td>0.0</td>\n",
              "    </tr>\n",
              "    <tr>\n",
              "      <th>18</th>\n",
              "      <td>1972-06-27</td>\n",
              "      <td>3.371432</td>\n",
              "      <td>3.371432</td>\n",
              "      <td>3.371432</td>\n",
              "      <td>3.371432</td>\n",
              "      <td>0.370696</td>\n",
              "      <td>0.0</td>\n",
              "    </tr>\n",
              "    <tr>\n",
              "      <th>19</th>\n",
              "      <td>1972-06-28</td>\n",
              "      <td>3.403618</td>\n",
              "      <td>3.403618</td>\n",
              "      <td>3.403618</td>\n",
              "      <td>3.403618</td>\n",
              "      <td>0.374235</td>\n",
              "      <td>0.0</td>\n",
              "    </tr>\n",
              "  </tbody>\n",
              "</table>\n",
              "</div>\n",
              "    <div class=\"colab-df-buttons\">\n",
              "\n",
              "  <div class=\"colab-df-container\">\n",
              "    <button class=\"colab-df-convert\" onclick=\"convertToInteractive('df-82414308-8481-4c47-b86a-a34be087feed')\"\n",
              "            title=\"Convert this dataframe to an interactive table.\"\n",
              "            style=\"display:none;\">\n",
              "\n",
              "  <svg xmlns=\"http://www.w3.org/2000/svg\" height=\"24px\" viewBox=\"0 -960 960 960\">\n",
              "    <path d=\"M120-120v-720h720v720H120Zm60-500h600v-160H180v160Zm220 220h160v-160H400v160Zm0 220h160v-160H400v160ZM180-400h160v-160H180v160Zm440 0h160v-160H620v160ZM180-180h160v-160H180v160Zm440 0h160v-160H620v160Z\"/>\n",
              "  </svg>\n",
              "    </button>\n",
              "\n",
              "  <style>\n",
              "    .colab-df-container {\n",
              "      display:flex;\n",
              "      gap: 12px;\n",
              "    }\n",
              "\n",
              "    .colab-df-convert {\n",
              "      background-color: #E8F0FE;\n",
              "      border: none;\n",
              "      border-radius: 50%;\n",
              "      cursor: pointer;\n",
              "      display: none;\n",
              "      fill: #1967D2;\n",
              "      height: 32px;\n",
              "      padding: 0 0 0 0;\n",
              "      width: 32px;\n",
              "    }\n",
              "\n",
              "    .colab-df-convert:hover {\n",
              "      background-color: #E2EBFA;\n",
              "      box-shadow: 0px 1px 2px rgba(60, 64, 67, 0.3), 0px 1px 3px 1px rgba(60, 64, 67, 0.15);\n",
              "      fill: #174EA6;\n",
              "    }\n",
              "\n",
              "    .colab-df-buttons div {\n",
              "      margin-bottom: 4px;\n",
              "    }\n",
              "\n",
              "    [theme=dark] .colab-df-convert {\n",
              "      background-color: #3B4455;\n",
              "      fill: #D2E3FC;\n",
              "    }\n",
              "\n",
              "    [theme=dark] .colab-df-convert:hover {\n",
              "      background-color: #434B5C;\n",
              "      box-shadow: 0px 1px 3px 1px rgba(0, 0, 0, 0.15);\n",
              "      filter: drop-shadow(0px 1px 2px rgba(0, 0, 0, 0.3));\n",
              "      fill: #FFFFFF;\n",
              "    }\n",
              "  </style>\n",
              "\n",
              "    <script>\n",
              "      const buttonEl =\n",
              "        document.querySelector('#df-82414308-8481-4c47-b86a-a34be087feed button.colab-df-convert');\n",
              "      buttonEl.style.display =\n",
              "        google.colab.kernel.accessAllowed ? 'block' : 'none';\n",
              "\n",
              "      async function convertToInteractive(key) {\n",
              "        const element = document.querySelector('#df-82414308-8481-4c47-b86a-a34be087feed');\n",
              "        const dataTable =\n",
              "          await google.colab.kernel.invokeFunction('convertToInteractive',\n",
              "                                                    [key], {});\n",
              "        if (!dataTable) return;\n",
              "\n",
              "        const docLinkHtml = 'Like what you see? Visit the ' +\n",
              "          '<a target=\"_blank\" href=https://colab.research.google.com/notebooks/data_table.ipynb>data table notebook</a>'\n",
              "          + ' to learn more about interactive tables.';\n",
              "        element.innerHTML = '';\n",
              "        dataTable['output_type'] = 'display_data';\n",
              "        await google.colab.output.renderOutput(dataTable, element);\n",
              "        const docLink = document.createElement('div');\n",
              "        docLink.innerHTML = docLinkHtml;\n",
              "        element.appendChild(docLink);\n",
              "      }\n",
              "    </script>\n",
              "  </div>\n",
              "\n",
              "\n",
              "<div id=\"df-d23bc983-0071-49b8-b495-3934033ed3f2\">\n",
              "  <button class=\"colab-df-quickchart\" onclick=\"quickchart('df-d23bc983-0071-49b8-b495-3934033ed3f2')\"\n",
              "            title=\"Suggest charts\"\n",
              "            style=\"display:none;\">\n",
              "\n",
              "<svg xmlns=\"http://www.w3.org/2000/svg\" height=\"24px\"viewBox=\"0 0 24 24\"\n",
              "     width=\"24px\">\n",
              "    <g>\n",
              "        <path d=\"M19 3H5c-1.1 0-2 .9-2 2v14c0 1.1.9 2 2 2h14c1.1 0 2-.9 2-2V5c0-1.1-.9-2-2-2zM9 17H7v-7h2v7zm4 0h-2V7h2v10zm4 0h-2v-4h2v4z\"/>\n",
              "    </g>\n",
              "</svg>\n",
              "  </button>\n",
              "\n",
              "<style>\n",
              "  .colab-df-quickchart {\n",
              "      --bg-color: #E8F0FE;\n",
              "      --fill-color: #1967D2;\n",
              "      --hover-bg-color: #E2EBFA;\n",
              "      --hover-fill-color: #174EA6;\n",
              "      --disabled-fill-color: #AAA;\n",
              "      --disabled-bg-color: #DDD;\n",
              "  }\n",
              "\n",
              "  [theme=dark] .colab-df-quickchart {\n",
              "      --bg-color: #3B4455;\n",
              "      --fill-color: #D2E3FC;\n",
              "      --hover-bg-color: #434B5C;\n",
              "      --hover-fill-color: #FFFFFF;\n",
              "      --disabled-bg-color: #3B4455;\n",
              "      --disabled-fill-color: #666;\n",
              "  }\n",
              "\n",
              "  .colab-df-quickchart {\n",
              "    background-color: var(--bg-color);\n",
              "    border: none;\n",
              "    border-radius: 50%;\n",
              "    cursor: pointer;\n",
              "    display: none;\n",
              "    fill: var(--fill-color);\n",
              "    height: 32px;\n",
              "    padding: 0;\n",
              "    width: 32px;\n",
              "  }\n",
              "\n",
              "  .colab-df-quickchart:hover {\n",
              "    background-color: var(--hover-bg-color);\n",
              "    box-shadow: 0 1px 2px rgba(60, 64, 67, 0.3), 0 1px 3px 1px rgba(60, 64, 67, 0.15);\n",
              "    fill: var(--button-hover-fill-color);\n",
              "  }\n",
              "\n",
              "  .colab-df-quickchart-complete:disabled,\n",
              "  .colab-df-quickchart-complete:disabled:hover {\n",
              "    background-color: var(--disabled-bg-color);\n",
              "    fill: var(--disabled-fill-color);\n",
              "    box-shadow: none;\n",
              "  }\n",
              "\n",
              "  .colab-df-spinner {\n",
              "    border: 2px solid var(--fill-color);\n",
              "    border-color: transparent;\n",
              "    border-bottom-color: var(--fill-color);\n",
              "    animation:\n",
              "      spin 1s steps(1) infinite;\n",
              "  }\n",
              "\n",
              "  @keyframes spin {\n",
              "    0% {\n",
              "      border-color: transparent;\n",
              "      border-bottom-color: var(--fill-color);\n",
              "      border-left-color: var(--fill-color);\n",
              "    }\n",
              "    20% {\n",
              "      border-color: transparent;\n",
              "      border-left-color: var(--fill-color);\n",
              "      border-top-color: var(--fill-color);\n",
              "    }\n",
              "    30% {\n",
              "      border-color: transparent;\n",
              "      border-left-color: var(--fill-color);\n",
              "      border-top-color: var(--fill-color);\n",
              "      border-right-color: var(--fill-color);\n",
              "    }\n",
              "    40% {\n",
              "      border-color: transparent;\n",
              "      border-right-color: var(--fill-color);\n",
              "      border-top-color: var(--fill-color);\n",
              "    }\n",
              "    60% {\n",
              "      border-color: transparent;\n",
              "      border-right-color: var(--fill-color);\n",
              "    }\n",
              "    80% {\n",
              "      border-color: transparent;\n",
              "      border-right-color: var(--fill-color);\n",
              "      border-bottom-color: var(--fill-color);\n",
              "    }\n",
              "    90% {\n",
              "      border-color: transparent;\n",
              "      border-bottom-color: var(--fill-color);\n",
              "    }\n",
              "  }\n",
              "</style>\n",
              "\n",
              "  <script>\n",
              "    async function quickchart(key) {\n",
              "      const quickchartButtonEl =\n",
              "        document.querySelector('#' + key + ' button');\n",
              "      quickchartButtonEl.disabled = true;  // To prevent multiple clicks.\n",
              "      quickchartButtonEl.classList.add('colab-df-spinner');\n",
              "      try {\n",
              "        const charts = await google.colab.kernel.invokeFunction(\n",
              "            'suggestCharts', [key], {});\n",
              "      } catch (error) {\n",
              "        console.error('Error during call to suggestCharts:', error);\n",
              "      }\n",
              "      quickchartButtonEl.classList.remove('colab-df-spinner');\n",
              "      quickchartButtonEl.classList.add('colab-df-quickchart-complete');\n",
              "    }\n",
              "    (() => {\n",
              "      let quickchartButtonEl =\n",
              "        document.querySelector('#df-d23bc983-0071-49b8-b495-3934033ed3f2 button');\n",
              "      quickchartButtonEl.style.display =\n",
              "        google.colab.kernel.accessAllowed ? 'block' : 'none';\n",
              "    })();\n",
              "  </script>\n",
              "</div>\n",
              "    </div>\n",
              "  </div>\n"
            ]
          },
          "metadata": {},
          "execution_count": 243
        }
      ],
      "source": [
        "df.head(20)"
      ]
    },
    {
      "cell_type": "code",
      "source": [
        "# We take a look at the last rows of our dataset\n",
        "df.tail()"
      ],
      "metadata": {
        "colab": {
          "base_uri": "https://localhost:8080/",
          "height": 206
        },
        "id": "9_9QDAd__JxW",
        "outputId": "e6e0a242-df8e-44e4-a163-5934c85b3126"
      },
      "id": "9_9QDAd__JxW",
      "execution_count": 244,
      "outputs": [
        {
          "output_type": "execute_result",
          "data": {
            "text/plain": [
              "             Date       Open       High        Low      Close  Adj Close  \\\n",
              "12059  2020-03-26  92.239998  99.690002  90.839996  93.290001  92.774651   \n",
              "12060  2020-03-27  87.940002  91.970001  85.820000  88.730003  88.239845   \n",
              "12061  2020-03-30  88.510002  91.389999  85.269997  90.269997  89.771332   \n",
              "12062  2020-03-31  89.940002  90.900002  85.070000  85.610001  85.137077   \n",
              "12063  2020-04-01  80.650002  81.309998  77.000000  77.839996  77.409996   \n",
              "\n",
              "          Volume  \n",
              "12059  9459400.0  \n",
              "12060  6999800.0  \n",
              "12061  5565000.0  \n",
              "12062  6075900.0  \n",
              "12063  8307600.0  "
            ],
            "text/html": [
              "\n",
              "  <div id=\"df-e266f6fc-1662-4c34-bc92-c2ea3a28b760\" class=\"colab-df-container\">\n",
              "    <div>\n",
              "<style scoped>\n",
              "    .dataframe tbody tr th:only-of-type {\n",
              "        vertical-align: middle;\n",
              "    }\n",
              "\n",
              "    .dataframe tbody tr th {\n",
              "        vertical-align: top;\n",
              "    }\n",
              "\n",
              "    .dataframe thead th {\n",
              "        text-align: right;\n",
              "    }\n",
              "</style>\n",
              "<table border=\"1\" class=\"dataframe\">\n",
              "  <thead>\n",
              "    <tr style=\"text-align: right;\">\n",
              "      <th></th>\n",
              "      <th>Date</th>\n",
              "      <th>Open</th>\n",
              "      <th>High</th>\n",
              "      <th>Low</th>\n",
              "      <th>Close</th>\n",
              "      <th>Adj Close</th>\n",
              "      <th>Volume</th>\n",
              "    </tr>\n",
              "  </thead>\n",
              "  <tbody>\n",
              "    <tr>\n",
              "      <th>12059</th>\n",
              "      <td>2020-03-26</td>\n",
              "      <td>92.239998</td>\n",
              "      <td>99.690002</td>\n",
              "      <td>90.839996</td>\n",
              "      <td>93.290001</td>\n",
              "      <td>92.774651</td>\n",
              "      <td>9459400.0</td>\n",
              "    </tr>\n",
              "    <tr>\n",
              "      <th>12060</th>\n",
              "      <td>2020-03-27</td>\n",
              "      <td>87.940002</td>\n",
              "      <td>91.970001</td>\n",
              "      <td>85.820000</td>\n",
              "      <td>88.730003</td>\n",
              "      <td>88.239845</td>\n",
              "      <td>6999800.0</td>\n",
              "    </tr>\n",
              "    <tr>\n",
              "      <th>12061</th>\n",
              "      <td>2020-03-30</td>\n",
              "      <td>88.510002</td>\n",
              "      <td>91.389999</td>\n",
              "      <td>85.269997</td>\n",
              "      <td>90.269997</td>\n",
              "      <td>89.771332</td>\n",
              "      <td>5565000.0</td>\n",
              "    </tr>\n",
              "    <tr>\n",
              "      <th>12062</th>\n",
              "      <td>2020-03-31</td>\n",
              "      <td>89.940002</td>\n",
              "      <td>90.900002</td>\n",
              "      <td>85.070000</td>\n",
              "      <td>85.610001</td>\n",
              "      <td>85.137077</td>\n",
              "      <td>6075900.0</td>\n",
              "    </tr>\n",
              "    <tr>\n",
              "      <th>12063</th>\n",
              "      <td>2020-04-01</td>\n",
              "      <td>80.650002</td>\n",
              "      <td>81.309998</td>\n",
              "      <td>77.000000</td>\n",
              "      <td>77.839996</td>\n",
              "      <td>77.409996</td>\n",
              "      <td>8307600.0</td>\n",
              "    </tr>\n",
              "  </tbody>\n",
              "</table>\n",
              "</div>\n",
              "    <div class=\"colab-df-buttons\">\n",
              "\n",
              "  <div class=\"colab-df-container\">\n",
              "    <button class=\"colab-df-convert\" onclick=\"convertToInteractive('df-e266f6fc-1662-4c34-bc92-c2ea3a28b760')\"\n",
              "            title=\"Convert this dataframe to an interactive table.\"\n",
              "            style=\"display:none;\">\n",
              "\n",
              "  <svg xmlns=\"http://www.w3.org/2000/svg\" height=\"24px\" viewBox=\"0 -960 960 960\">\n",
              "    <path d=\"M120-120v-720h720v720H120Zm60-500h600v-160H180v160Zm220 220h160v-160H400v160Zm0 220h160v-160H400v160ZM180-400h160v-160H180v160Zm440 0h160v-160H620v160ZM180-180h160v-160H180v160Zm440 0h160v-160H620v160Z\"/>\n",
              "  </svg>\n",
              "    </button>\n",
              "\n",
              "  <style>\n",
              "    .colab-df-container {\n",
              "      display:flex;\n",
              "      gap: 12px;\n",
              "    }\n",
              "\n",
              "    .colab-df-convert {\n",
              "      background-color: #E8F0FE;\n",
              "      border: none;\n",
              "      border-radius: 50%;\n",
              "      cursor: pointer;\n",
              "      display: none;\n",
              "      fill: #1967D2;\n",
              "      height: 32px;\n",
              "      padding: 0 0 0 0;\n",
              "      width: 32px;\n",
              "    }\n",
              "\n",
              "    .colab-df-convert:hover {\n",
              "      background-color: #E2EBFA;\n",
              "      box-shadow: 0px 1px 2px rgba(60, 64, 67, 0.3), 0px 1px 3px 1px rgba(60, 64, 67, 0.15);\n",
              "      fill: #174EA6;\n",
              "    }\n",
              "\n",
              "    .colab-df-buttons div {\n",
              "      margin-bottom: 4px;\n",
              "    }\n",
              "\n",
              "    [theme=dark] .colab-df-convert {\n",
              "      background-color: #3B4455;\n",
              "      fill: #D2E3FC;\n",
              "    }\n",
              "\n",
              "    [theme=dark] .colab-df-convert:hover {\n",
              "      background-color: #434B5C;\n",
              "      box-shadow: 0px 1px 3px 1px rgba(0, 0, 0, 0.15);\n",
              "      filter: drop-shadow(0px 1px 2px rgba(0, 0, 0, 0.3));\n",
              "      fill: #FFFFFF;\n",
              "    }\n",
              "  </style>\n",
              "\n",
              "    <script>\n",
              "      const buttonEl =\n",
              "        document.querySelector('#df-e266f6fc-1662-4c34-bc92-c2ea3a28b760 button.colab-df-convert');\n",
              "      buttonEl.style.display =\n",
              "        google.colab.kernel.accessAllowed ? 'block' : 'none';\n",
              "\n",
              "      async function convertToInteractive(key) {\n",
              "        const element = document.querySelector('#df-e266f6fc-1662-4c34-bc92-c2ea3a28b760');\n",
              "        const dataTable =\n",
              "          await google.colab.kernel.invokeFunction('convertToInteractive',\n",
              "                                                    [key], {});\n",
              "        if (!dataTable) return;\n",
              "\n",
              "        const docLinkHtml = 'Like what you see? Visit the ' +\n",
              "          '<a target=\"_blank\" href=https://colab.research.google.com/notebooks/data_table.ipynb>data table notebook</a>'\n",
              "          + ' to learn more about interactive tables.';\n",
              "        element.innerHTML = '';\n",
              "        dataTable['output_type'] = 'display_data';\n",
              "        await google.colab.output.renderOutput(dataTable, element);\n",
              "        const docLink = document.createElement('div');\n",
              "        docLink.innerHTML = docLinkHtml;\n",
              "        element.appendChild(docLink);\n",
              "      }\n",
              "    </script>\n",
              "  </div>\n",
              "\n",
              "\n",
              "<div id=\"df-e20d733e-d942-4c64-9c9a-54a57f940d13\">\n",
              "  <button class=\"colab-df-quickchart\" onclick=\"quickchart('df-e20d733e-d942-4c64-9c9a-54a57f940d13')\"\n",
              "            title=\"Suggest charts\"\n",
              "            style=\"display:none;\">\n",
              "\n",
              "<svg xmlns=\"http://www.w3.org/2000/svg\" height=\"24px\"viewBox=\"0 0 24 24\"\n",
              "     width=\"24px\">\n",
              "    <g>\n",
              "        <path d=\"M19 3H5c-1.1 0-2 .9-2 2v14c0 1.1.9 2 2 2h14c1.1 0 2-.9 2-2V5c0-1.1-.9-2-2-2zM9 17H7v-7h2v7zm4 0h-2V7h2v10zm4 0h-2v-4h2v4z\"/>\n",
              "    </g>\n",
              "</svg>\n",
              "  </button>\n",
              "\n",
              "<style>\n",
              "  .colab-df-quickchart {\n",
              "      --bg-color: #E8F0FE;\n",
              "      --fill-color: #1967D2;\n",
              "      --hover-bg-color: #E2EBFA;\n",
              "      --hover-fill-color: #174EA6;\n",
              "      --disabled-fill-color: #AAA;\n",
              "      --disabled-bg-color: #DDD;\n",
              "  }\n",
              "\n",
              "  [theme=dark] .colab-df-quickchart {\n",
              "      --bg-color: #3B4455;\n",
              "      --fill-color: #D2E3FC;\n",
              "      --hover-bg-color: #434B5C;\n",
              "      --hover-fill-color: #FFFFFF;\n",
              "      --disabled-bg-color: #3B4455;\n",
              "      --disabled-fill-color: #666;\n",
              "  }\n",
              "\n",
              "  .colab-df-quickchart {\n",
              "    background-color: var(--bg-color);\n",
              "    border: none;\n",
              "    border-radius: 50%;\n",
              "    cursor: pointer;\n",
              "    display: none;\n",
              "    fill: var(--fill-color);\n",
              "    height: 32px;\n",
              "    padding: 0;\n",
              "    width: 32px;\n",
              "  }\n",
              "\n",
              "  .colab-df-quickchart:hover {\n",
              "    background-color: var(--hover-bg-color);\n",
              "    box-shadow: 0 1px 2px rgba(60, 64, 67, 0.3), 0 1px 3px 1px rgba(60, 64, 67, 0.15);\n",
              "    fill: var(--button-hover-fill-color);\n",
              "  }\n",
              "\n",
              "  .colab-df-quickchart-complete:disabled,\n",
              "  .colab-df-quickchart-complete:disabled:hover {\n",
              "    background-color: var(--disabled-bg-color);\n",
              "    fill: var(--disabled-fill-color);\n",
              "    box-shadow: none;\n",
              "  }\n",
              "\n",
              "  .colab-df-spinner {\n",
              "    border: 2px solid var(--fill-color);\n",
              "    border-color: transparent;\n",
              "    border-bottom-color: var(--fill-color);\n",
              "    animation:\n",
              "      spin 1s steps(1) infinite;\n",
              "  }\n",
              "\n",
              "  @keyframes spin {\n",
              "    0% {\n",
              "      border-color: transparent;\n",
              "      border-bottom-color: var(--fill-color);\n",
              "      border-left-color: var(--fill-color);\n",
              "    }\n",
              "    20% {\n",
              "      border-color: transparent;\n",
              "      border-left-color: var(--fill-color);\n",
              "      border-top-color: var(--fill-color);\n",
              "    }\n",
              "    30% {\n",
              "      border-color: transparent;\n",
              "      border-left-color: var(--fill-color);\n",
              "      border-top-color: var(--fill-color);\n",
              "      border-right-color: var(--fill-color);\n",
              "    }\n",
              "    40% {\n",
              "      border-color: transparent;\n",
              "      border-right-color: var(--fill-color);\n",
              "      border-top-color: var(--fill-color);\n",
              "    }\n",
              "    60% {\n",
              "      border-color: transparent;\n",
              "      border-right-color: var(--fill-color);\n",
              "    }\n",
              "    80% {\n",
              "      border-color: transparent;\n",
              "      border-right-color: var(--fill-color);\n",
              "      border-bottom-color: var(--fill-color);\n",
              "    }\n",
              "    90% {\n",
              "      border-color: transparent;\n",
              "      border-bottom-color: var(--fill-color);\n",
              "    }\n",
              "  }\n",
              "</style>\n",
              "\n",
              "  <script>\n",
              "    async function quickchart(key) {\n",
              "      const quickchartButtonEl =\n",
              "        document.querySelector('#' + key + ' button');\n",
              "      quickchartButtonEl.disabled = true;  // To prevent multiple clicks.\n",
              "      quickchartButtonEl.classList.add('colab-df-spinner');\n",
              "      try {\n",
              "        const charts = await google.colab.kernel.invokeFunction(\n",
              "            'suggestCharts', [key], {});\n",
              "      } catch (error) {\n",
              "        console.error('Error during call to suggestCharts:', error);\n",
              "      }\n",
              "      quickchartButtonEl.classList.remove('colab-df-spinner');\n",
              "      quickchartButtonEl.classList.add('colab-df-quickchart-complete');\n",
              "    }\n",
              "    (() => {\n",
              "      let quickchartButtonEl =\n",
              "        document.querySelector('#df-e20d733e-d942-4c64-9c9a-54a57f940d13 button');\n",
              "      quickchartButtonEl.style.display =\n",
              "        google.colab.kernel.accessAllowed ? 'block' : 'none';\n",
              "    })();\n",
              "  </script>\n",
              "</div>\n",
              "    </div>\n",
              "  </div>\n"
            ]
          },
          "metadata": {},
          "execution_count": 244
        }
      ]
    },
    {
      "cell_type": "code",
      "execution_count": 245,
      "id": "ff9afc34-012e-4cb6-a6c7-f9866168db18",
      "metadata": {
        "colab": {
          "base_uri": "https://localhost:8080/"
        },
        "id": "ff9afc34-012e-4cb6-a6c7-f9866168db18",
        "outputId": "327c0777-e6ea-4020-aa52-d81d9a554bf4"
      },
      "outputs": [
        {
          "output_type": "stream",
          "name": "stdout",
          "text": [
            "<class 'pandas.core.frame.DataFrame'>\n",
            "RangeIndex: 12064 entries, 0 to 12063\n",
            "Data columns (total 7 columns):\n",
            " #   Column     Non-Null Count  Dtype  \n",
            "---  ------     --------------  -----  \n",
            " 0   Date       12064 non-null  object \n",
            " 1   Open       12064 non-null  float64\n",
            " 2   High       12064 non-null  float64\n",
            " 3   Low        12064 non-null  float64\n",
            " 4   Close      12064 non-null  float64\n",
            " 5   Adj Close  12064 non-null  float64\n",
            " 6   Volume     12064 non-null  float64\n",
            "dtypes: float64(6), object(1)\n",
            "memory usage: 659.9+ KB\n"
          ]
        }
      ],
      "source": [
        "# We check the datatype and null values\n",
        "df.info()"
      ]
    },
    {
      "cell_type": "code",
      "execution_count": 246,
      "id": "69bed844-01c9-426c-b7c9-a5d7005fd33a",
      "metadata": {
        "id": "69bed844-01c9-426c-b7c9-a5d7005fd33a"
      },
      "outputs": [],
      "source": [
        "df[\"Date\"] = pd.to_datetime(df[\"Date\"])\n",
        "df.index = df.pop(\"Date\")"
      ]
    },
    {
      "cell_type": "code",
      "source": [
        "df = df[[\"Close\"]]"
      ],
      "metadata": {
        "id": "N03nAeMjJxB0"
      },
      "id": "N03nAeMjJxB0",
      "execution_count": 247,
      "outputs": []
    },
    {
      "cell_type": "code",
      "execution_count": 248,
      "id": "f52c9902-8b61-447e-a745-90116ee4a507",
      "metadata": {
        "colab": {
          "base_uri": "https://localhost:8080/",
          "height": 238
        },
        "id": "f52c9902-8b61-447e-a745-90116ee4a507",
        "outputId": "1ca4a44b-5fcc-4a10-c922-a5cdd4105910"
      },
      "outputs": [
        {
          "output_type": "execute_result",
          "data": {
            "text/plain": [
              "               Close\n",
              "Date                \n",
              "1972-06-01  3.693287\n",
              "1972-06-02  3.677195\n",
              "1972-06-05  3.604777\n",
              "1972-06-06  3.411664\n",
              "1972-06-07  3.371432"
            ],
            "text/html": [
              "\n",
              "  <div id=\"df-74fc83c0-7f57-4e9a-8b8a-24d52bebc62b\" class=\"colab-df-container\">\n",
              "    <div>\n",
              "<style scoped>\n",
              "    .dataframe tbody tr th:only-of-type {\n",
              "        vertical-align: middle;\n",
              "    }\n",
              "\n",
              "    .dataframe tbody tr th {\n",
              "        vertical-align: top;\n",
              "    }\n",
              "\n",
              "    .dataframe thead th {\n",
              "        text-align: right;\n",
              "    }\n",
              "</style>\n",
              "<table border=\"1\" class=\"dataframe\">\n",
              "  <thead>\n",
              "    <tr style=\"text-align: right;\">\n",
              "      <th></th>\n",
              "      <th>Close</th>\n",
              "    </tr>\n",
              "    <tr>\n",
              "      <th>Date</th>\n",
              "      <th></th>\n",
              "    </tr>\n",
              "  </thead>\n",
              "  <tbody>\n",
              "    <tr>\n",
              "      <th>1972-06-01</th>\n",
              "      <td>3.693287</td>\n",
              "    </tr>\n",
              "    <tr>\n",
              "      <th>1972-06-02</th>\n",
              "      <td>3.677195</td>\n",
              "    </tr>\n",
              "    <tr>\n",
              "      <th>1972-06-05</th>\n",
              "      <td>3.604777</td>\n",
              "    </tr>\n",
              "    <tr>\n",
              "      <th>1972-06-06</th>\n",
              "      <td>3.411664</td>\n",
              "    </tr>\n",
              "    <tr>\n",
              "      <th>1972-06-07</th>\n",
              "      <td>3.371432</td>\n",
              "    </tr>\n",
              "  </tbody>\n",
              "</table>\n",
              "</div>\n",
              "    <div class=\"colab-df-buttons\">\n",
              "\n",
              "  <div class=\"colab-df-container\">\n",
              "    <button class=\"colab-df-convert\" onclick=\"convertToInteractive('df-74fc83c0-7f57-4e9a-8b8a-24d52bebc62b')\"\n",
              "            title=\"Convert this dataframe to an interactive table.\"\n",
              "            style=\"display:none;\">\n",
              "\n",
              "  <svg xmlns=\"http://www.w3.org/2000/svg\" height=\"24px\" viewBox=\"0 -960 960 960\">\n",
              "    <path d=\"M120-120v-720h720v720H120Zm60-500h600v-160H180v160Zm220 220h160v-160H400v160Zm0 220h160v-160H400v160ZM180-400h160v-160H180v160Zm440 0h160v-160H620v160ZM180-180h160v-160H180v160Zm440 0h160v-160H620v160Z\"/>\n",
              "  </svg>\n",
              "    </button>\n",
              "\n",
              "  <style>\n",
              "    .colab-df-container {\n",
              "      display:flex;\n",
              "      gap: 12px;\n",
              "    }\n",
              "\n",
              "    .colab-df-convert {\n",
              "      background-color: #E8F0FE;\n",
              "      border: none;\n",
              "      border-radius: 50%;\n",
              "      cursor: pointer;\n",
              "      display: none;\n",
              "      fill: #1967D2;\n",
              "      height: 32px;\n",
              "      padding: 0 0 0 0;\n",
              "      width: 32px;\n",
              "    }\n",
              "\n",
              "    .colab-df-convert:hover {\n",
              "      background-color: #E2EBFA;\n",
              "      box-shadow: 0px 1px 2px rgba(60, 64, 67, 0.3), 0px 1px 3px 1px rgba(60, 64, 67, 0.15);\n",
              "      fill: #174EA6;\n",
              "    }\n",
              "\n",
              "    .colab-df-buttons div {\n",
              "      margin-bottom: 4px;\n",
              "    }\n",
              "\n",
              "    [theme=dark] .colab-df-convert {\n",
              "      background-color: #3B4455;\n",
              "      fill: #D2E3FC;\n",
              "    }\n",
              "\n",
              "    [theme=dark] .colab-df-convert:hover {\n",
              "      background-color: #434B5C;\n",
              "      box-shadow: 0px 1px 3px 1px rgba(0, 0, 0, 0.15);\n",
              "      filter: drop-shadow(0px 1px 2px rgba(0, 0, 0, 0.3));\n",
              "      fill: #FFFFFF;\n",
              "    }\n",
              "  </style>\n",
              "\n",
              "    <script>\n",
              "      const buttonEl =\n",
              "        document.querySelector('#df-74fc83c0-7f57-4e9a-8b8a-24d52bebc62b button.colab-df-convert');\n",
              "      buttonEl.style.display =\n",
              "        google.colab.kernel.accessAllowed ? 'block' : 'none';\n",
              "\n",
              "      async function convertToInteractive(key) {\n",
              "        const element = document.querySelector('#df-74fc83c0-7f57-4e9a-8b8a-24d52bebc62b');\n",
              "        const dataTable =\n",
              "          await google.colab.kernel.invokeFunction('convertToInteractive',\n",
              "                                                    [key], {});\n",
              "        if (!dataTable) return;\n",
              "\n",
              "        const docLinkHtml = 'Like what you see? Visit the ' +\n",
              "          '<a target=\"_blank\" href=https://colab.research.google.com/notebooks/data_table.ipynb>data table notebook</a>'\n",
              "          + ' to learn more about interactive tables.';\n",
              "        element.innerHTML = '';\n",
              "        dataTable['output_type'] = 'display_data';\n",
              "        await google.colab.output.renderOutput(dataTable, element);\n",
              "        const docLink = document.createElement('div');\n",
              "        docLink.innerHTML = docLinkHtml;\n",
              "        element.appendChild(docLink);\n",
              "      }\n",
              "    </script>\n",
              "  </div>\n",
              "\n",
              "\n",
              "<div id=\"df-0debca03-db8d-41ec-86ab-eddd09d00e94\">\n",
              "  <button class=\"colab-df-quickchart\" onclick=\"quickchart('df-0debca03-db8d-41ec-86ab-eddd09d00e94')\"\n",
              "            title=\"Suggest charts\"\n",
              "            style=\"display:none;\">\n",
              "\n",
              "<svg xmlns=\"http://www.w3.org/2000/svg\" height=\"24px\"viewBox=\"0 0 24 24\"\n",
              "     width=\"24px\">\n",
              "    <g>\n",
              "        <path d=\"M19 3H5c-1.1 0-2 .9-2 2v14c0 1.1.9 2 2 2h14c1.1 0 2-.9 2-2V5c0-1.1-.9-2-2-2zM9 17H7v-7h2v7zm4 0h-2V7h2v10zm4 0h-2v-4h2v4z\"/>\n",
              "    </g>\n",
              "</svg>\n",
              "  </button>\n",
              "\n",
              "<style>\n",
              "  .colab-df-quickchart {\n",
              "      --bg-color: #E8F0FE;\n",
              "      --fill-color: #1967D2;\n",
              "      --hover-bg-color: #E2EBFA;\n",
              "      --hover-fill-color: #174EA6;\n",
              "      --disabled-fill-color: #AAA;\n",
              "      --disabled-bg-color: #DDD;\n",
              "  }\n",
              "\n",
              "  [theme=dark] .colab-df-quickchart {\n",
              "      --bg-color: #3B4455;\n",
              "      --fill-color: #D2E3FC;\n",
              "      --hover-bg-color: #434B5C;\n",
              "      --hover-fill-color: #FFFFFF;\n",
              "      --disabled-bg-color: #3B4455;\n",
              "      --disabled-fill-color: #666;\n",
              "  }\n",
              "\n",
              "  .colab-df-quickchart {\n",
              "    background-color: var(--bg-color);\n",
              "    border: none;\n",
              "    border-radius: 50%;\n",
              "    cursor: pointer;\n",
              "    display: none;\n",
              "    fill: var(--fill-color);\n",
              "    height: 32px;\n",
              "    padding: 0;\n",
              "    width: 32px;\n",
              "  }\n",
              "\n",
              "  .colab-df-quickchart:hover {\n",
              "    background-color: var(--hover-bg-color);\n",
              "    box-shadow: 0 1px 2px rgba(60, 64, 67, 0.3), 0 1px 3px 1px rgba(60, 64, 67, 0.15);\n",
              "    fill: var(--button-hover-fill-color);\n",
              "  }\n",
              "\n",
              "  .colab-df-quickchart-complete:disabled,\n",
              "  .colab-df-quickchart-complete:disabled:hover {\n",
              "    background-color: var(--disabled-bg-color);\n",
              "    fill: var(--disabled-fill-color);\n",
              "    box-shadow: none;\n",
              "  }\n",
              "\n",
              "  .colab-df-spinner {\n",
              "    border: 2px solid var(--fill-color);\n",
              "    border-color: transparent;\n",
              "    border-bottom-color: var(--fill-color);\n",
              "    animation:\n",
              "      spin 1s steps(1) infinite;\n",
              "  }\n",
              "\n",
              "  @keyframes spin {\n",
              "    0% {\n",
              "      border-color: transparent;\n",
              "      border-bottom-color: var(--fill-color);\n",
              "      border-left-color: var(--fill-color);\n",
              "    }\n",
              "    20% {\n",
              "      border-color: transparent;\n",
              "      border-left-color: var(--fill-color);\n",
              "      border-top-color: var(--fill-color);\n",
              "    }\n",
              "    30% {\n",
              "      border-color: transparent;\n",
              "      border-left-color: var(--fill-color);\n",
              "      border-top-color: var(--fill-color);\n",
              "      border-right-color: var(--fill-color);\n",
              "    }\n",
              "    40% {\n",
              "      border-color: transparent;\n",
              "      border-right-color: var(--fill-color);\n",
              "      border-top-color: var(--fill-color);\n",
              "    }\n",
              "    60% {\n",
              "      border-color: transparent;\n",
              "      border-right-color: var(--fill-color);\n",
              "    }\n",
              "    80% {\n",
              "      border-color: transparent;\n",
              "      border-right-color: var(--fill-color);\n",
              "      border-bottom-color: var(--fill-color);\n",
              "    }\n",
              "    90% {\n",
              "      border-color: transparent;\n",
              "      border-bottom-color: var(--fill-color);\n",
              "    }\n",
              "  }\n",
              "</style>\n",
              "\n",
              "  <script>\n",
              "    async function quickchart(key) {\n",
              "      const quickchartButtonEl =\n",
              "        document.querySelector('#' + key + ' button');\n",
              "      quickchartButtonEl.disabled = true;  // To prevent multiple clicks.\n",
              "      quickchartButtonEl.classList.add('colab-df-spinner');\n",
              "      try {\n",
              "        const charts = await google.colab.kernel.invokeFunction(\n",
              "            'suggestCharts', [key], {});\n",
              "      } catch (error) {\n",
              "        console.error('Error during call to suggestCharts:', error);\n",
              "      }\n",
              "      quickchartButtonEl.classList.remove('colab-df-spinner');\n",
              "      quickchartButtonEl.classList.add('colab-df-quickchart-complete');\n",
              "    }\n",
              "    (() => {\n",
              "      let quickchartButtonEl =\n",
              "        document.querySelector('#df-0debca03-db8d-41ec-86ab-eddd09d00e94 button');\n",
              "      quickchartButtonEl.style.display =\n",
              "        google.colab.kernel.accessAllowed ? 'block' : 'none';\n",
              "    })();\n",
              "  </script>\n",
              "</div>\n",
              "    </div>\n",
              "  </div>\n"
            ]
          },
          "metadata": {},
          "execution_count": 248
        }
      ],
      "source": [
        "df.head()"
      ]
    },
    {
      "cell_type": "code",
      "execution_count": 249,
      "id": "2ba3e675-17ac-4ab5-8d79-6db95dff9709",
      "metadata": {
        "colab": {
          "base_uri": "https://localhost:8080/",
          "height": 300
        },
        "id": "2ba3e675-17ac-4ab5-8d79-6db95dff9709",
        "outputId": "caade782-7adc-4c57-c237-bc1646d58816"
      },
      "outputs": [
        {
          "output_type": "execute_result",
          "data": {
            "text/plain": [
              "              Close\n",
              "count  12064.000000\n",
              "mean      29.681398\n",
              "std       30.876242\n",
              "min        1.134539\n",
              "25%        4.747363\n",
              "50%       13.038323\n",
              "75%       47.703850\n",
              "max      136.929993"
            ],
            "text/html": [
              "\n",
              "  <div id=\"df-ac3a7fcd-8f5e-421b-9b56-3151379d1297\" class=\"colab-df-container\">\n",
              "    <div>\n",
              "<style scoped>\n",
              "    .dataframe tbody tr th:only-of-type {\n",
              "        vertical-align: middle;\n",
              "    }\n",
              "\n",
              "    .dataframe tbody tr th {\n",
              "        vertical-align: top;\n",
              "    }\n",
              "\n",
              "    .dataframe thead th {\n",
              "        text-align: right;\n",
              "    }\n",
              "</style>\n",
              "<table border=\"1\" class=\"dataframe\">\n",
              "  <thead>\n",
              "    <tr style=\"text-align: right;\">\n",
              "      <th></th>\n",
              "      <th>Close</th>\n",
              "    </tr>\n",
              "  </thead>\n",
              "  <tbody>\n",
              "    <tr>\n",
              "      <th>count</th>\n",
              "      <td>12064.000000</td>\n",
              "    </tr>\n",
              "    <tr>\n",
              "      <th>mean</th>\n",
              "      <td>29.681398</td>\n",
              "    </tr>\n",
              "    <tr>\n",
              "      <th>std</th>\n",
              "      <td>30.876242</td>\n",
              "    </tr>\n",
              "    <tr>\n",
              "      <th>min</th>\n",
              "      <td>1.134539</td>\n",
              "    </tr>\n",
              "    <tr>\n",
              "      <th>25%</th>\n",
              "      <td>4.747363</td>\n",
              "    </tr>\n",
              "    <tr>\n",
              "      <th>50%</th>\n",
              "      <td>13.038323</td>\n",
              "    </tr>\n",
              "    <tr>\n",
              "      <th>75%</th>\n",
              "      <td>47.703850</td>\n",
              "    </tr>\n",
              "    <tr>\n",
              "      <th>max</th>\n",
              "      <td>136.929993</td>\n",
              "    </tr>\n",
              "  </tbody>\n",
              "</table>\n",
              "</div>\n",
              "    <div class=\"colab-df-buttons\">\n",
              "\n",
              "  <div class=\"colab-df-container\">\n",
              "    <button class=\"colab-df-convert\" onclick=\"convertToInteractive('df-ac3a7fcd-8f5e-421b-9b56-3151379d1297')\"\n",
              "            title=\"Convert this dataframe to an interactive table.\"\n",
              "            style=\"display:none;\">\n",
              "\n",
              "  <svg xmlns=\"http://www.w3.org/2000/svg\" height=\"24px\" viewBox=\"0 -960 960 960\">\n",
              "    <path d=\"M120-120v-720h720v720H120Zm60-500h600v-160H180v160Zm220 220h160v-160H400v160Zm0 220h160v-160H400v160ZM180-400h160v-160H180v160Zm440 0h160v-160H620v160ZM180-180h160v-160H180v160Zm440 0h160v-160H620v160Z\"/>\n",
              "  </svg>\n",
              "    </button>\n",
              "\n",
              "  <style>\n",
              "    .colab-df-container {\n",
              "      display:flex;\n",
              "      gap: 12px;\n",
              "    }\n",
              "\n",
              "    .colab-df-convert {\n",
              "      background-color: #E8F0FE;\n",
              "      border: none;\n",
              "      border-radius: 50%;\n",
              "      cursor: pointer;\n",
              "      display: none;\n",
              "      fill: #1967D2;\n",
              "      height: 32px;\n",
              "      padding: 0 0 0 0;\n",
              "      width: 32px;\n",
              "    }\n",
              "\n",
              "    .colab-df-convert:hover {\n",
              "      background-color: #E2EBFA;\n",
              "      box-shadow: 0px 1px 2px rgba(60, 64, 67, 0.3), 0px 1px 3px 1px rgba(60, 64, 67, 0.15);\n",
              "      fill: #174EA6;\n",
              "    }\n",
              "\n",
              "    .colab-df-buttons div {\n",
              "      margin-bottom: 4px;\n",
              "    }\n",
              "\n",
              "    [theme=dark] .colab-df-convert {\n",
              "      background-color: #3B4455;\n",
              "      fill: #D2E3FC;\n",
              "    }\n",
              "\n",
              "    [theme=dark] .colab-df-convert:hover {\n",
              "      background-color: #434B5C;\n",
              "      box-shadow: 0px 1px 3px 1px rgba(0, 0, 0, 0.15);\n",
              "      filter: drop-shadow(0px 1px 2px rgba(0, 0, 0, 0.3));\n",
              "      fill: #FFFFFF;\n",
              "    }\n",
              "  </style>\n",
              "\n",
              "    <script>\n",
              "      const buttonEl =\n",
              "        document.querySelector('#df-ac3a7fcd-8f5e-421b-9b56-3151379d1297 button.colab-df-convert');\n",
              "      buttonEl.style.display =\n",
              "        google.colab.kernel.accessAllowed ? 'block' : 'none';\n",
              "\n",
              "      async function convertToInteractive(key) {\n",
              "        const element = document.querySelector('#df-ac3a7fcd-8f5e-421b-9b56-3151379d1297');\n",
              "        const dataTable =\n",
              "          await google.colab.kernel.invokeFunction('convertToInteractive',\n",
              "                                                    [key], {});\n",
              "        if (!dataTable) return;\n",
              "\n",
              "        const docLinkHtml = 'Like what you see? Visit the ' +\n",
              "          '<a target=\"_blank\" href=https://colab.research.google.com/notebooks/data_table.ipynb>data table notebook</a>'\n",
              "          + ' to learn more about interactive tables.';\n",
              "        element.innerHTML = '';\n",
              "        dataTable['output_type'] = 'display_data';\n",
              "        await google.colab.output.renderOutput(dataTable, element);\n",
              "        const docLink = document.createElement('div');\n",
              "        docLink.innerHTML = docLinkHtml;\n",
              "        element.appendChild(docLink);\n",
              "      }\n",
              "    </script>\n",
              "  </div>\n",
              "\n",
              "\n",
              "<div id=\"df-6db80879-b909-44de-81ee-9d4087e9c6f2\">\n",
              "  <button class=\"colab-df-quickchart\" onclick=\"quickchart('df-6db80879-b909-44de-81ee-9d4087e9c6f2')\"\n",
              "            title=\"Suggest charts\"\n",
              "            style=\"display:none;\">\n",
              "\n",
              "<svg xmlns=\"http://www.w3.org/2000/svg\" height=\"24px\"viewBox=\"0 0 24 24\"\n",
              "     width=\"24px\">\n",
              "    <g>\n",
              "        <path d=\"M19 3H5c-1.1 0-2 .9-2 2v14c0 1.1.9 2 2 2h14c1.1 0 2-.9 2-2V5c0-1.1-.9-2-2-2zM9 17H7v-7h2v7zm4 0h-2V7h2v10zm4 0h-2v-4h2v4z\"/>\n",
              "    </g>\n",
              "</svg>\n",
              "  </button>\n",
              "\n",
              "<style>\n",
              "  .colab-df-quickchart {\n",
              "      --bg-color: #E8F0FE;\n",
              "      --fill-color: #1967D2;\n",
              "      --hover-bg-color: #E2EBFA;\n",
              "      --hover-fill-color: #174EA6;\n",
              "      --disabled-fill-color: #AAA;\n",
              "      --disabled-bg-color: #DDD;\n",
              "  }\n",
              "\n",
              "  [theme=dark] .colab-df-quickchart {\n",
              "      --bg-color: #3B4455;\n",
              "      --fill-color: #D2E3FC;\n",
              "      --hover-bg-color: #434B5C;\n",
              "      --hover-fill-color: #FFFFFF;\n",
              "      --disabled-bg-color: #3B4455;\n",
              "      --disabled-fill-color: #666;\n",
              "  }\n",
              "\n",
              "  .colab-df-quickchart {\n",
              "    background-color: var(--bg-color);\n",
              "    border: none;\n",
              "    border-radius: 50%;\n",
              "    cursor: pointer;\n",
              "    display: none;\n",
              "    fill: var(--fill-color);\n",
              "    height: 32px;\n",
              "    padding: 0;\n",
              "    width: 32px;\n",
              "  }\n",
              "\n",
              "  .colab-df-quickchart:hover {\n",
              "    background-color: var(--hover-bg-color);\n",
              "    box-shadow: 0 1px 2px rgba(60, 64, 67, 0.3), 0 1px 3px 1px rgba(60, 64, 67, 0.15);\n",
              "    fill: var(--button-hover-fill-color);\n",
              "  }\n",
              "\n",
              "  .colab-df-quickchart-complete:disabled,\n",
              "  .colab-df-quickchart-complete:disabled:hover {\n",
              "    background-color: var(--disabled-bg-color);\n",
              "    fill: var(--disabled-fill-color);\n",
              "    box-shadow: none;\n",
              "  }\n",
              "\n",
              "  .colab-df-spinner {\n",
              "    border: 2px solid var(--fill-color);\n",
              "    border-color: transparent;\n",
              "    border-bottom-color: var(--fill-color);\n",
              "    animation:\n",
              "      spin 1s steps(1) infinite;\n",
              "  }\n",
              "\n",
              "  @keyframes spin {\n",
              "    0% {\n",
              "      border-color: transparent;\n",
              "      border-bottom-color: var(--fill-color);\n",
              "      border-left-color: var(--fill-color);\n",
              "    }\n",
              "    20% {\n",
              "      border-color: transparent;\n",
              "      border-left-color: var(--fill-color);\n",
              "      border-top-color: var(--fill-color);\n",
              "    }\n",
              "    30% {\n",
              "      border-color: transparent;\n",
              "      border-left-color: var(--fill-color);\n",
              "      border-top-color: var(--fill-color);\n",
              "      border-right-color: var(--fill-color);\n",
              "    }\n",
              "    40% {\n",
              "      border-color: transparent;\n",
              "      border-right-color: var(--fill-color);\n",
              "      border-top-color: var(--fill-color);\n",
              "    }\n",
              "    60% {\n",
              "      border-color: transparent;\n",
              "      border-right-color: var(--fill-color);\n",
              "    }\n",
              "    80% {\n",
              "      border-color: transparent;\n",
              "      border-right-color: var(--fill-color);\n",
              "      border-bottom-color: var(--fill-color);\n",
              "    }\n",
              "    90% {\n",
              "      border-color: transparent;\n",
              "      border-bottom-color: var(--fill-color);\n",
              "    }\n",
              "  }\n",
              "</style>\n",
              "\n",
              "  <script>\n",
              "    async function quickchart(key) {\n",
              "      const quickchartButtonEl =\n",
              "        document.querySelector('#' + key + ' button');\n",
              "      quickchartButtonEl.disabled = true;  // To prevent multiple clicks.\n",
              "      quickchartButtonEl.classList.add('colab-df-spinner');\n",
              "      try {\n",
              "        const charts = await google.colab.kernel.invokeFunction(\n",
              "            'suggestCharts', [key], {});\n",
              "      } catch (error) {\n",
              "        console.error('Error during call to suggestCharts:', error);\n",
              "      }\n",
              "      quickchartButtonEl.classList.remove('colab-df-spinner');\n",
              "      quickchartButtonEl.classList.add('colab-df-quickchart-complete');\n",
              "    }\n",
              "    (() => {\n",
              "      let quickchartButtonEl =\n",
              "        document.querySelector('#df-6db80879-b909-44de-81ee-9d4087e9c6f2 button');\n",
              "      quickchartButtonEl.style.display =\n",
              "        google.colab.kernel.accessAllowed ? 'block' : 'none';\n",
              "    })();\n",
              "  </script>\n",
              "</div>\n",
              "    </div>\n",
              "  </div>\n"
            ]
          },
          "metadata": {},
          "execution_count": 249
        }
      ],
      "source": [
        "df.describe()"
      ]
    },
    {
      "cell_type": "markdown",
      "source": [
        "# Data Visualization"
      ],
      "metadata": {
        "id": "3NIF-_GG_0pd"
      },
      "id": "3NIF-_GG_0pd"
    },
    {
      "cell_type": "code",
      "source": [
        "#Visualizing the closing price from 1972 until 2020\n",
        "plt.figure(figsize=(10, 6))\n",
        "plt.plot(df)\n",
        "plt.title('Closing Prices Over Time')\n",
        "plt.xlabel('Date')\n",
        "plt.ylabel('Close Price')\n",
        "plt.grid(True)\n",
        "plt.show()"
      ],
      "metadata": {
        "colab": {
          "base_uri": "https://localhost:8080/",
          "height": 521
        },
        "id": "9Edsu7CDnPgM",
        "outputId": "00b9630e-c0d2-4734-e8b6-e4c6a11d0191"
      },
      "id": "9Edsu7CDnPgM",
      "execution_count": 250,
      "outputs": [
        {
          "output_type": "display_data",
          "data": {
            "text/plain": [
              "<Figure size 1000x600 with 1 Axes>"
            ],
            "image/png": "[encoded data removed]"
          },
          "metadata": {}
        }
      ]
    },
    {
      "cell_type": "markdown",
      "source": [
        "# Data Preparation"
      ],
      "metadata": {
        "id": "kbuAsn0KBWS2"
      },
      "id": "kbuAsn0KBWS2"
    },
    {
      "cell_type": "markdown",
      "source": [
        "###Spliting the data to Training and Test data\n",
        "####Importing MinMaxScaler from scikit-learn to scale our dataset into numbers between 0 and"
      ],
      "metadata": {
        "id": "V5t-3jrNAbVY"
      },
      "id": "V5t-3jrNAbVY"
    },
    {
      "cell_type": "code",
      "source": [
        "#For preprocessing\n",
        "from sklearn.preprocessing import MinMaxScaler\n",
        "\n",
        "#For model evaluation\n",
        "from sklearn.metrics import mean_squared_error as mse"
      ],
      "metadata": {
        "id": "eSPMwj6jnioL"
      },
      "id": "eSPMwj6jnioL",
      "execution_count": 251,
      "outputs": []
    },
    {
      "cell_type": "code",
      "source": [
        "scaler = MinMaxScaler(feature_range = (0,1))\n",
        "df1 = scaler.fit_transform(np.array(df).reshape(-1,1))\n",
        "df1"
      ],
      "metadata": {
        "colab": {
          "base_uri": "https://localhost:8080/"
        },
        "id": "B_nPaWD7rBr9",
        "outputId": "f3218c2d-5781-4ecc-d12e-45bfd8d5a952"
      },
      "id": "B_nPaWD7rBr9",
      "execution_count": 252,
      "outputs": [
        {
          "output_type": "execute_result",
          "data": {
            "text/plain": [
              "array([[0.01884266],\n",
              "       [0.01872416],\n",
              "       [0.01819087],\n",
              "       ...,\n",
              "       [0.65639501],\n",
              "       [0.62207872],\n",
              "       [0.56486027]])"
            ]
          },
          "metadata": {},
          "execution_count": 252
        }
      ]
    },
    {
      "cell_type": "code",
      "source": [
        "len(df1), len(df)"
      ],
      "metadata": {
        "id": "pd5bg91MXRYs",
        "outputId": "4fffb7ab-9486-4c88-8545-24e70b797b26",
        "colab": {
          "base_uri": "https://localhost:8080/"
        }
      },
      "id": "pd5bg91MXRYs",
      "execution_count": 253,
      "outputs": [
        {
          "output_type": "execute_result",
          "data": {
            "text/plain": [
              "(12064, 12064)"
            ]
          },
          "metadata": {},
          "execution_count": 253
        }
      ]
    },
    {
      "cell_type": "code",
      "source": [
        "#To see the scaled data in a DF format, we create a new DF using the scaled values.\n",
        "#Create a new DataFrame with the scaled values and original dates in the index\n",
        "scaled_df = pd.DataFrame(df1, index = df.index, columns = [\"Scaled_Close\"])\n",
        "scaled_df.head()"
      ],
      "metadata": {
        "colab": {
          "base_uri": "https://localhost:8080/",
          "height": 238
        },
        "id": "fgSPg8Mc3YKc",
        "outputId": "f62d3ba6-df81-4c82-f2d4-de10e959f61d"
      },
      "id": "fgSPg8Mc3YKc",
      "execution_count": 254,
      "outputs": [
        {
          "output_type": "execute_result",
          "data": {
            "text/plain": [
              "            Scaled_Close\n",
              "Date                    \n",
              "1972-06-01      0.018843\n",
              "1972-06-02      0.018724\n",
              "1972-06-05      0.018191\n",
              "1972-06-06      0.016769\n",
              "1972-06-07      0.016473"
            ],
            "text/html": [
              "\n",
              "  <div id=\"df-db1671b0-b1a1-4c4b-9d9e-b992bb8e3ca7\" class=\"colab-df-container\">\n",
              "    <div>\n",
              "<style scoped>\n",
              "    .dataframe tbody tr th:only-of-type {\n",
              "        vertical-align: middle;\n",
              "    }\n",
              "\n",
              "    .dataframe tbody tr th {\n",
              "        vertical-align: top;\n",
              "    }\n",
              "\n",
              "    .dataframe thead th {\n",
              "        text-align: right;\n",
              "    }\n",
              "</style>\n",
              "<table border=\"1\" class=\"dataframe\">\n",
              "  <thead>\n",
              "    <tr style=\"text-align: right;\">\n",
              "      <th></th>\n",
              "      <th>Scaled_Close</th>\n",
              "    </tr>\n",
              "    <tr>\n",
              "      <th>Date</th>\n",
              "      <th></th>\n",
              "    </tr>\n",
              "  </thead>\n",
              "  <tbody>\n",
              "    <tr>\n",
              "      <th>1972-06-01</th>\n",
              "      <td>0.018843</td>\n",
              "    </tr>\n",
              "    <tr>\n",
              "      <th>1972-06-02</th>\n",
              "      <td>0.018724</td>\n",
              "    </tr>\n",
              "    <tr>\n",
              "      <th>1972-06-05</th>\n",
              "      <td>0.018191</td>\n",
              "    </tr>\n",
              "    <tr>\n",
              "      <th>1972-06-06</th>\n",
              "      <td>0.016769</td>\n",
              "    </tr>\n",
              "    <tr>\n",
              "      <th>1972-06-07</th>\n",
              "      <td>0.016473</td>\n",
              "    </tr>\n",
              "  </tbody>\n",
              "</table>\n",
              "</div>\n",
              "    <div class=\"colab-df-buttons\">\n",
              "\n",
              "  <div class=\"colab-df-container\">\n",
              "    <button class=\"colab-df-convert\" onclick=\"convertToInteractive('df-db1671b0-b1a1-4c4b-9d9e-b992bb8e3ca7')\"\n",
              "            title=\"Convert this dataframe to an interactive table.\"\n",
              "            style=\"display:none;\">\n",
              "\n",
              "  <svg xmlns=\"http://www.w3.org/2000/svg\" height=\"24px\" viewBox=\"0 -960 960 960\">\n",
              "    <path d=\"M120-120v-720h720v720H120Zm60-500h600v-160H180v160Zm220 220h160v-160H400v160Zm0 220h160v-160H400v160ZM180-400h160v-160H180v160Zm440 0h160v-160H620v160ZM180-180h160v-160H180v160Zm440 0h160v-160H620v160Z\"/>\n",
              "  </svg>\n",
              "    </button>\n",
              "\n",
              "  <style>\n",
              "    .colab-df-container {\n",
              "      display:flex;\n",
              "      gap: 12px;\n",
              "    }\n",
              "\n",
              "    .colab-df-convert {\n",
              "      background-color: #E8F0FE;\n",
              "      border: none;\n",
              "      border-radius: 50%;\n",
              "      cursor: pointer;\n",
              "      display: none;\n",
              "      fill: #1967D2;\n",
              "      height: 32px;\n",
              "      padding: 0 0 0 0;\n",
              "      width: 32px;\n",
              "    }\n",
              "\n",
              "    .colab-df-convert:hover {\n",
              "      background-color: #E2EBFA;\n",
              "      box-shadow: 0px 1px 2px rgba(60, 64, 67, 0.3), 0px 1px 3px 1px rgba(60, 64, 67, 0.15);\n",
              "      fill: #174EA6;\n",
              "    }\n",
              "\n",
              "    .colab-df-buttons div {\n",
              "      margin-bottom: 4px;\n",
              "    }\n",
              "\n",
              "    [theme=dark] .colab-df-convert {\n",
              "      background-color: #3B4455;\n",
              "      fill: #D2E3FC;\n",
              "    }\n",
              "\n",
              "    [theme=dark] .colab-df-convert:hover {\n",
              "      background-color: #434B5C;\n",
              "      box-shadow: 0px 1px 3px 1px rgba(0, 0, 0, 0.15);\n",
              "      filter: drop-shadow(0px 1px 2px rgba(0, 0, 0, 0.3));\n",
              "      fill: #FFFFFF;\n",
              "    }\n",
              "  </style>\n",
              "\n",
              "    <script>\n",
              "      const buttonEl =\n",
              "        document.querySelector('#df-db1671b0-b1a1-4c4b-9d9e-b992bb8e3ca7 button.colab-df-convert');\n",
              "      buttonEl.style.display =\n",
              "        google.colab.kernel.accessAllowed ? 'block' : 'none';\n",
              "\n",
              "      async function convertToInteractive(key) {\n",
              "        const element = document.querySelector('#df-db1671b0-b1a1-4c4b-9d9e-b992bb8e3ca7');\n",
              "        const dataTable =\n",
              "          await google.colab.kernel.invokeFunction('convertToInteractive',\n",
              "                                                    [key], {});\n",
              "        if (!dataTable) return;\n",
              "\n",
              "        const docLinkHtml = 'Like what you see? Visit the ' +\n",
              "          '<a target=\"_blank\" href=https://colab.research.google.com/notebooks/data_table.ipynb>data table notebook</a>'\n",
              "          + ' to learn more about interactive tables.';\n",
              "        element.innerHTML = '';\n",
              "        dataTable['output_type'] = 'display_data';\n",
              "        await google.colab.output.renderOutput(dataTable, element);\n",
              "        const docLink = document.createElement('div');\n",
              "        docLink.innerHTML = docLinkHtml;\n",
              "        element.appendChild(docLink);\n",
              "      }\n",
              "    </script>\n",
              "  </div>\n",
              "\n",
              "\n",
              "<div id=\"df-059b9c82-d89b-439a-b3f8-2fed9d64467a\">\n",
              "  <button class=\"colab-df-quickchart\" onclick=\"quickchart('df-059b9c82-d89b-439a-b3f8-2fed9d64467a')\"\n",
              "            title=\"Suggest charts\"\n",
              "            style=\"display:none;\">\n",
              "\n",
              "<svg xmlns=\"http://www.w3.org/2000/svg\" height=\"24px\"viewBox=\"0 0 24 24\"\n",
              "     width=\"24px\">\n",
              "    <g>\n",
              "        <path d=\"M19 3H5c-1.1 0-2 .9-2 2v14c0 1.1.9 2 2 2h14c1.1 0 2-.9 2-2V5c0-1.1-.9-2-2-2zM9 17H7v-7h2v7zm4 0h-2V7h2v10zm4 0h-2v-4h2v4z\"/>\n",
              "    </g>\n",
              "</svg>\n",
              "  </button>\n",
              "\n",
              "<style>\n",
              "  .colab-df-quickchart {\n",
              "      --bg-color: #E8F0FE;\n",
              "      --fill-color: #1967D2;\n",
              "      --hover-bg-color: #E2EBFA;\n",
              "      --hover-fill-color: #174EA6;\n",
              "      --disabled-fill-color: #AAA;\n",
              "      --disabled-bg-color: #DDD;\n",
              "  }\n",
              "\n",
              "  [theme=dark] .colab-df-quickchart {\n",
              "      --bg-color: #3B4455;\n",
              "      --fill-color: #D2E3FC;\n",
              "      --hover-bg-color: #434B5C;\n",
              "      --hover-fill-color: #FFFFFF;\n",
              "      --disabled-bg-color: #3B4455;\n",
              "      --disabled-fill-color: #666;\n",
              "  }\n",
              "\n",
              "  .colab-df-quickchart {\n",
              "    background-color: var(--bg-color);\n",
              "    border: none;\n",
              "    border-radius: 50%;\n",
              "    cursor: pointer;\n",
              "    display: none;\n",
              "    fill: var(--fill-color);\n",
              "    height: 32px;\n",
              "    padding: 0;\n",
              "    width: 32px;\n",
              "  }\n",
              "\n",
              "  .colab-df-quickchart:hover {\n",
              "    background-color: var(--hover-bg-color);\n",
              "    box-shadow: 0 1px 2px rgba(60, 64, 67, 0.3), 0 1px 3px 1px rgba(60, 64, 67, 0.15);\n",
              "    fill: var(--button-hover-fill-color);\n",
              "  }\n",
              "\n",
              "  .colab-df-quickchart-complete:disabled,\n",
              "  .colab-df-quickchart-complete:disabled:hover {\n",
              "    background-color: var(--disabled-bg-color);\n",
              "    fill: var(--disabled-fill-color);\n",
              "    box-shadow: none;\n",
              "  }\n",
              "\n",
              "  .colab-df-spinner {\n",
              "    border: 2px solid var(--fill-color);\n",
              "    border-color: transparent;\n",
              "    border-bottom-color: var(--fill-color);\n",
              "    animation:\n",
              "      spin 1s steps(1) infinite;\n",
              "  }\n",
              "\n",
              "  @keyframes spin {\n",
              "    0% {\n",
              "      border-color: transparent;\n",
              "      border-bottom-color: var(--fill-color);\n",
              "      border-left-color: var(--fill-color);\n",
              "    }\n",
              "    20% {\n",
              "      border-color: transparent;\n",
              "      border-left-color: var(--fill-color);\n",
              "      border-top-color: var(--fill-color);\n",
              "    }\n",
              "    30% {\n",
              "      border-color: transparent;\n",
              "      border-left-color: var(--fill-color);\n",
              "      border-top-color: var(--fill-color);\n",
              "      border-right-color: var(--fill-color);\n",
              "    }\n",
              "    40% {\n",
              "      border-color: transparent;\n",
              "      border-right-color: var(--fill-color);\n",
              "      border-top-color: var(--fill-color);\n",
              "    }\n",
              "    60% {\n",
              "      border-color: transparent;\n",
              "      border-right-color: var(--fill-color);\n",
              "    }\n",
              "    80% {\n",
              "      border-color: transparent;\n",
              "      border-right-color: var(--fill-color);\n",
              "      border-bottom-color: var(--fill-color);\n",
              "    }\n",
              "    90% {\n",
              "      border-color: transparent;\n",
              "      border-bottom-color: var(--fill-color);\n",
              "    }\n",
              "  }\n",
              "</style>\n",
              "\n",
              "  <script>\n",
              "    async function quickchart(key) {\n",
              "      const quickchartButtonEl =\n",
              "        document.querySelector('#' + key + ' button');\n",
              "      quickchartButtonEl.disabled = true;  // To prevent multiple clicks.\n",
              "      quickchartButtonEl.classList.add('colab-df-spinner');\n",
              "      try {\n",
              "        const charts = await google.colab.kernel.invokeFunction(\n",
              "            'suggestCharts', [key], {});\n",
              "      } catch (error) {\n",
              "        console.error('Error during call to suggestCharts:', error);\n",
              "      }\n",
              "      quickchartButtonEl.classList.remove('colab-df-spinner');\n",
              "      quickchartButtonEl.classList.add('colab-df-quickchart-complete');\n",
              "    }\n",
              "    (() => {\n",
              "      let quickchartButtonEl =\n",
              "        document.querySelector('#df-059b9c82-d89b-439a-b3f8-2fed9d64467a button');\n",
              "      quickchartButtonEl.style.display =\n",
              "        google.colab.kernel.accessAllowed ? 'block' : 'none';\n",
              "    })();\n",
              "  </script>\n",
              "</div>\n",
              "    </div>\n",
              "  </div>\n"
            ]
          },
          "metadata": {},
          "execution_count": 254
        }
      ]
    },
    {
      "cell_type": "code",
      "source": [
        "plt.figure(figsize=(10, 6))\n",
        "plt.plot(scaled_df.index, scaled_df[\"Scaled_Close\"], label=\"Scaled Close Price\")\n",
        "plt.title('Scaled Closing Prices Over Time')\n",
        "plt.xlabel('Date')\n",
        "plt.ylabel('Scaled Close Price')\n",
        "plt.legend()\n",
        "plt.grid(True)\n",
        "plt.show()"
      ],
      "metadata": {
        "colab": {
          "base_uri": "https://localhost:8080/",
          "height": 523
        },
        "id": "OKviT14FG_bq",
        "outputId": "84b74cd1-8250-4efb-a946-cf2b8f827700"
      },
      "id": "OKviT14FG_bq",
      "execution_count": 255,
      "outputs": [
        {
          "output_type": "display_data",
          "data": {
            "text/plain": [
              "<Figure size 1000x600 with 1 Axes>"
            ],
            "image/png": "[encoded data removed]"
          },
          "metadata": {}
        }
      ]
    },
    {
      "cell_type": "code",
      "source": [
        "#Splitting dataset into train and test sets.\n",
        "#Determining Training Size: 80% of the total dataset length\n",
        "training_size = int(len(df1)*0.8)\n",
        "\n",
        "#Determining Test Size: remaining 20% of the total dataset length\n",
        "test_size = len(df1)-training_size"
      ],
      "metadata": {
        "id": "DOqzdAqCrWAr"
      },
      "id": "DOqzdAqCrWAr",
      "execution_count": 256,
      "outputs": []
    },
    {
      "cell_type": "code",
      "source": [
        "#Inspecting the sizes of our training and test sets\n",
        "print (\"Training Size: \", training_size)\n",
        "print (\"Training Size: \", test_size)"
      ],
      "metadata": {
        "colab": {
          "base_uri": "https://localhost:8080/"
        },
        "id": "1u61MF1qsJ2B",
        "outputId": "f8bb847a-f0a0-4fe6-9df9-7f176807d05a"
      },
      "id": "1u61MF1qsJ2B",
      "execution_count": 257,
      "outputs": [
        {
          "output_type": "stream",
          "name": "stdout",
          "text": [
            "Training Size:  9651\n",
            "Training Size:  2413\n"
          ]
        }
      ]
    },
    {
      "cell_type": "code",
      "source": [
        "# Splitting Dataset: train_data contains the first training_size rows of the scaled data, and test_data contains the remaining rows.\n",
        "train_data,test_data=df1[0:training_size,:], df1[training_size:len(df1),:1]"
      ],
      "metadata": {
        "id": "JE8jQUVIXuTc"
      },
      "id": "JE8jQUVIXuTc",
      "execution_count": 258,
      "outputs": []
    },
    {
      "cell_type": "code",
      "source": [
        "#Checking the  length (number of rows) in our training and test set\n",
        "\n",
        "print(\"Length of Training Data:\", len(train_data))\n",
        "print(\"Length of Test Data:\", len(test_data))\n"
      ],
      "metadata": {
        "colab": {
          "base_uri": "https://localhost:8080/"
        },
        "id": "DRJvW1rvsJ4z",
        "outputId": "61307f8c-25ff-482c-91a1-6cc3c687b82a"
      },
      "id": "DRJvW1rvsJ4z",
      "execution_count": 259,
      "outputs": [
        {
          "output_type": "stream",
          "name": "stdout",
          "text": [
            "Length of Training Data: 9651\n",
            "Length of Test Data: 2413\n"
          ]
        }
      ]
    },
    {
      "cell_type": "code",
      "source": [
        "#Inspecting the train data as NumPy array\n",
        "train_data"
      ],
      "metadata": {
        "colab": {
          "base_uri": "https://localhost:8080/"
        },
        "id": "TXJkz3s3sP4Q",
        "outputId": "3abf272d-1bf9-46d9-8048-976a7a178573"
      },
      "id": "TXJkz3s3sP4Q",
      "execution_count": 260,
      "outputs": [
        {
          "output_type": "execute_result",
          "data": {
            "text/plain": [
              "array([[0.01884266],\n",
              "       [0.01872416],\n",
              "       [0.01819087],\n",
              "       ...,\n",
              "       [0.28421762],\n",
              "       [0.29290716],\n",
              "       [0.28539586]])"
            ]
          },
          "metadata": {},
          "execution_count": 260
        }
      ]
    },
    {
      "cell_type": "code",
      "source": [
        "# Convert the data to numpy array and set the timestep to 100\n",
        "# converts a time series data array into input-output pairs suitable for an autoregressive (AR) model.\n",
        "\n",
        "\"\"\"Convert a time series array into input-output pairs for an autoregressive model.\n",
        "\n",
        "    Parameters:\n",
        "    - stock_data (numpy.ndarray): The time series data.\n",
        "    - time_step (int): The number of time steps to use for each input sequence.\n",
        "\n",
        "    Returns:\n",
        "    - tuple: A tuple containing NumPy arrays (X, Y), where X is the input sequence matrix and Y is the target values array. X[120,130,140,150] : Y[200]; timestep 100 means that it takes 100 records as one input; goal is to predict\"\"\"\n",
        "#def create_AR(stock_data, time_step):\n",
        "#\tX, Y = [], []\n",
        "#\tfor i in range(time_step, len(stock_data)):\n",
        "#\t\ta = stock_data[i-time_step:i, 0]\n",
        "#\t\tX.append(a)\n",
        "#\t\tY.append(stock_data[i,0])\n",
        "#\treturn np.array(X), np.array(Y)"
      ],
      "metadata": {
        "id": "VPG7nFDSsJ-S",
        "outputId": "976ac434-1d2b-40e3-c0f7-df4625a0965a",
        "colab": {
          "base_uri": "https://localhost:8080/",
          "height": 105
        }
      },
      "id": "VPG7nFDSsJ-S",
      "execution_count": 261,
      "outputs": [
        {
          "output_type": "execute_result",
          "data": {
            "text/plain": [
              "'Convert a time series array into input-output pairs for an autoregressive model.\\n\\n    Parameters:\\n    - stock_data (numpy.ndarray): The time series data.\\n    - time_step (int): The number of time steps to use for each input sequence.\\n\\n    Returns:\\n    - tuple: A tuple containing NumPy arrays (X, Y), where X is the input sequence matrix and Y is the target values array. X[120,130,140,150] : Y[200]; timestep 100 means that it takes 100 records as one input; goal is to predict'"
            ],
            "application/vnd.google.colaboratory.intrinsic+json": {
              "type": "string"
            }
          },
          "metadata": {},
          "execution_count": 261
        }
      ]
    },
    {
      "cell_type": "code",
      "source": [
        "def create_AR(stock_data, time_step):\n",
        "\tX, Y = [], []\n",
        "\tfor i in range(len(stock_data)-time_step-1):\n",
        "\t\ta = stock_data[i:(i+time_step), 0]\n",
        "\t\tX.append(a)\n",
        "\t\tY.append(stock_data[i+time_step,0])\n",
        "\treturn np.array(X), np.array(Y)"
      ],
      "metadata": {
        "id": "MnR4v6UpU8JN"
      },
      "id": "MnR4v6UpU8JN",
      "execution_count": 262,
      "outputs": []
    },
    {
      "cell_type": "code",
      "source": [
        "#applying the create_AR function to create input-output pairs for your training and test sets with a specified time step.\n",
        "time_step = 100\n",
        "#using create_AR function to create input sequences (X_train) and target values (y_train) for the train_data with the specified time step.\n",
        "X_train, y_train = create_AR(train_data, time_step)\n",
        "#Similarly, using the create_AR function to create input sequences (X_test) and target values (y_test) for the test_data with the specified time step.\n",
        "X_test, y_test = create_AR(test_data, time_step)\n",
        "\n",
        "#X_train and X_test should contain sequences of 100 time steps each, and y_train and y_test should contain the corresponding target values."
      ],
      "metadata": {
        "id": "IgZf5qmnscLZ"
      },
      "id": "IgZf5qmnscLZ",
      "execution_count": 263,
      "outputs": []
    },
    {
      "cell_type": "code",
      "source": [
        "print(\"Shape of X_train:\", X_train.shape)\n",
        "print(\"Shape of y_train:\", y_train.shape)"
      ],
      "metadata": {
        "colab": {
          "base_uri": "https://localhost:8080/"
        },
        "id": "66dyt_oBs0mt",
        "outputId": "f75fed7e-d509-4457-f2f0-f7141f763b59"
      },
      "id": "66dyt_oBs0mt",
      "execution_count": 264,
      "outputs": [
        {
          "output_type": "stream",
          "name": "stdout",
          "text": [
            "Shape of X_train: (9550, 100)\n",
            "Shape of y_train: (9550,)\n"
          ]
        }
      ]
    },
    {
      "cell_type": "code",
      "source": [
        "print(\"Shape of X_test:\", X_test.shape)\n",
        "print(\"Shape of y_test:\", y_test.shape)"
      ],
      "metadata": {
        "colab": {
          "base_uri": "https://localhost:8080/"
        },
        "id": "b4GNpBOms0pQ",
        "outputId": "c4651c6f-084c-477b-e016-352e23c97cd6"
      },
      "id": "b4GNpBOms0pQ",
      "execution_count": 265,
      "outputs": [
        {
          "output_type": "stream",
          "name": "stdout",
          "text": [
            "Shape of X_test: (2312, 100)\n",
            "Shape of y_test: (2312,)\n"
          ]
        }
      ]
    },
    {
      "cell_type": "code",
      "source": [
        "# reshape input to be [samples, time steps, features] which is required for LSTM\n",
        "X_train =X_train.reshape(X_train.shape[0],X_train.shape[1], 1)\n",
        "X_test = X_test.reshape(X_test.shape[0],X_test.shape[1] , 1)"
      ],
      "metadata": {
        "id": "6JOhiSpPs0r1"
      },
      "id": "6JOhiSpPs0r1",
      "execution_count": 266,
      "outputs": []
    },
    {
      "cell_type": "markdown",
      "source": [
        "# Build the Model\n",
        "* Add LSTM layer along with dropout layers to prevent overfitting. After that, we add a Dense layer that specifies a one unit output. Next, we compile the model using the adam optimizer and set the loss as the mean_squarred_error"
      ],
      "metadata": {
        "id": "hNZdZFP5Bbev"
      },
      "id": "hNZdZFP5Bbev"
    },
    {
      "cell_type": "code",
      "source": [
        "#Model\n",
        "\n",
        "### Create the LSTM model\n",
        "from tensorflow.keras.models import Sequential\n",
        "from tensorflow.keras.layers import Dense\n",
        "from tensorflow.keras.layers import LSTM\n",
        "from tensorflow.keras.layers import Dropout\n",
        "\n",
        "model=Sequential()\n",
        "model.add(LSTM(50,return_sequences=True,input_shape=(100,1)))\n",
        "model.add(Dropout(0.2))\n",
        "\n",
        "model.add(LSTM(50,return_sequences=True))\n",
        "model.add(Dropout(0.2))\n",
        "\n",
        "model.add(LSTM(50))\n",
        "model.add(Dropout(0.2))\n",
        "\n",
        "model.add(Dense(1))\n",
        "model.compile(loss='mean_squared_error',optimizer='adam', metrics = [\"mean_absolute_error\"])\n",
        "\n",
        "modelresult = model.fit(X_train,y_train,validation_data=(X_test,y_test),epochs=100, batch_size=64,verbose=1)\n"
      ],
      "metadata": {
        "colab": {
          "base_uri": "https://localhost:8080/"
        },
        "id": "Kl8-CpFis0uQ",
        "outputId": "1abe99fb-88d3-47db-d4a4-2b9fcbd77fab"
      },
      "id": "Kl8-CpFis0uQ",
      "execution_count": 291,
      "outputs": [
        {
          "output_type": "stream",
          "name": "stdout",
          "text": [
            "Epoch 1/100\n",
            "150/150 [==============================] - 11s 25ms/step - loss: 0.0014 - mean_absolute_error: 0.0196 - val_loss: 0.0025 - val_mean_absolute_error: 0.0416\n",
            "Epoch 2/100\n",
            "150/150 [==============================] - 2s 16ms/step - loss: 3.4706e-04 - mean_absolute_error: 0.0110 - val_loss: 0.0020 - val_mean_absolute_error: 0.0348\n",
            "Epoch 3/100\n",
            "150/150 [==============================] - 2s 15ms/step - loss: 3.1693e-04 - mean_absolute_error: 0.0105 - val_loss: 0.0011 - val_mean_absolute_error: 0.0236\n",
            "Epoch 4/100\n",
            "150/150 [==============================] - 2s 16ms/step - loss: 2.7855e-04 - mean_absolute_error: 0.0102 - val_loss: 0.0021 - val_mean_absolute_error: 0.0369\n",
            "Epoch 5/100\n",
            "150/150 [==============================] - 3s 20ms/step - loss: 2.6077e-04 - mean_absolute_error: 0.0098 - val_loss: 0.0012 - val_mean_absolute_error: 0.0269\n",
            "Epoch 6/100\n",
            "150/150 [==============================] - 3s 22ms/step - loss: 2.7475e-04 - mean_absolute_error: 0.0107 - val_loss: 7.6836e-04 - val_mean_absolute_error: 0.0198\n",
            "Epoch 7/100\n",
            "150/150 [==============================] - 2s 16ms/step - loss: 2.4923e-04 - mean_absolute_error: 0.0100 - val_loss: 5.6489e-04 - val_mean_absolute_error: 0.0164\n",
            "Epoch 8/100\n",
            "150/150 [==============================] - 2s 15ms/step - loss: 2.3388e-04 - mean_absolute_error: 0.0095 - val_loss: 8.0594e-04 - val_mean_absolute_error: 0.0212\n",
            "Epoch 9/100\n",
            "150/150 [==============================] - 2s 15ms/step - loss: 2.1500e-04 - mean_absolute_error: 0.0094 - val_loss: 0.0015 - val_mean_absolute_error: 0.0311\n",
            "Epoch 10/100\n",
            "150/150 [==============================] - 3s 19ms/step - loss: 2.3356e-04 - mean_absolute_error: 0.0099 - val_loss: 0.0011 - val_mean_absolute_error: 0.0262\n",
            "Epoch 11/100\n",
            "150/150 [==============================] - 4s 26ms/step - loss: 2.0499e-04 - mean_absolute_error: 0.0096 - val_loss: 5.8380e-04 - val_mean_absolute_error: 0.0173\n",
            "Epoch 12/100\n",
            "150/150 [==============================] - 3s 19ms/step - loss: 1.8890e-04 - mean_absolute_error: 0.0090 - val_loss: 6.9850e-04 - val_mean_absolute_error: 0.0189\n",
            "Epoch 13/100\n",
            "150/150 [==============================] - 2s 16ms/step - loss: 1.9758e-04 - mean_absolute_error: 0.0094 - val_loss: 6.4418e-04 - val_mean_absolute_error: 0.0188\n",
            "Epoch 14/100\n",
            "150/150 [==============================] - 3s 19ms/step - loss: 1.8547e-04 - mean_absolute_error: 0.0092 - val_loss: 0.0029 - val_mean_absolute_error: 0.0485\n",
            "Epoch 15/100\n",
            "150/150 [==============================] - 3s 20ms/step - loss: 2.0894e-04 - mean_absolute_error: 0.0100 - val_loss: 8.7421e-04 - val_mean_absolute_error: 0.0223\n",
            "Epoch 16/100\n",
            "150/150 [==============================] - 3s 18ms/step - loss: 1.8163e-04 - mean_absolute_error: 0.0091 - val_loss: 0.0023 - val_mean_absolute_error: 0.0404\n",
            "Epoch 17/100\n",
            "150/150 [==============================] - 2s 16ms/step - loss: 1.8239e-04 - mean_absolute_error: 0.0093 - val_loss: 5.7374e-04 - val_mean_absolute_error: 0.0174\n",
            "Epoch 18/100\n",
            "150/150 [==============================] - 2s 16ms/step - loss: 1.9269e-04 - mean_absolute_error: 0.0096 - val_loss: 8.6831e-04 - val_mean_absolute_error: 0.0237\n",
            "Epoch 19/100\n",
            "150/150 [==============================] - 2s 15ms/step - loss: 1.7266e-04 - mean_absolute_error: 0.0092 - val_loss: 8.6751e-04 - val_mean_absolute_error: 0.0223\n",
            "Epoch 20/100\n",
            "150/150 [==============================] - 3s 18ms/step - loss: 1.8667e-04 - mean_absolute_error: 0.0095 - val_loss: 4.9705e-04 - val_mean_absolute_error: 0.0168\n",
            "Epoch 21/100\n",
            "150/150 [==============================] - 4s 25ms/step - loss: 1.8983e-04 - mean_absolute_error: 0.0096 - val_loss: 5.7377e-04 - val_mean_absolute_error: 0.0174\n",
            "Epoch 22/100\n",
            "150/150 [==============================] - 3s 17ms/step - loss: 1.8392e-04 - mean_absolute_error: 0.0096 - val_loss: 0.0014 - val_mean_absolute_error: 0.0304\n",
            "Epoch 23/100\n",
            "150/150 [==============================] - 3s 17ms/step - loss: 1.7218e-04 - mean_absolute_error: 0.0093 - val_loss: 3.5010e-04 - val_mean_absolute_error: 0.0129\n",
            "Epoch 24/100\n",
            "150/150 [==============================] - 2s 15ms/step - loss: 1.7780e-04 - mean_absolute_error: 0.0095 - val_loss: 3.0929e-04 - val_mean_absolute_error: 0.0120\n",
            "Epoch 25/100\n",
            "150/150 [==============================] - 3s 23ms/step - loss: 1.8264e-04 - mean_absolute_error: 0.0095 - val_loss: 4.8385e-04 - val_mean_absolute_error: 0.0156\n",
            "Epoch 26/100\n",
            "150/150 [==============================] - 4s 24ms/step - loss: 1.7294e-04 - mean_absolute_error: 0.0093 - val_loss: 6.2104e-04 - val_mean_absolute_error: 0.0189\n",
            "Epoch 27/100\n",
            "150/150 [==============================] - 2s 15ms/step - loss: 1.7858e-04 - mean_absolute_error: 0.0095 - val_loss: 0.0011 - val_mean_absolute_error: 0.0273\n",
            "Epoch 28/100\n",
            "150/150 [==============================] - 2s 15ms/step - loss: 1.7556e-04 - mean_absolute_error: 0.0093 - val_loss: 6.3659e-04 - val_mean_absolute_error: 0.0178\n",
            "Epoch 29/100\n",
            "150/150 [==============================] - 3s 19ms/step - loss: 1.7274e-04 - mean_absolute_error: 0.0093 - val_loss: 0.0011 - val_mean_absolute_error: 0.0251\n",
            "Epoch 30/100\n",
            "150/150 [==============================] - 3s 17ms/step - loss: 1.6718e-04 - mean_absolute_error: 0.0091 - val_loss: 0.0036 - val_mean_absolute_error: 0.0544\n",
            "Epoch 31/100\n",
            "150/150 [==============================] - 3s 21ms/step - loss: 1.7375e-04 - mean_absolute_error: 0.0094 - val_loss: 0.0017 - val_mean_absolute_error: 0.0349\n",
            "Epoch 32/100\n",
            "150/150 [==============================] - 2s 16ms/step - loss: 1.6890e-04 - mean_absolute_error: 0.0093 - val_loss: 9.8093e-04 - val_mean_absolute_error: 0.0253\n",
            "Epoch 33/100\n",
            "150/150 [==============================] - 3s 19ms/step - loss: 1.8141e-04 - mean_absolute_error: 0.0098 - val_loss: 0.0011 - val_mean_absolute_error: 0.0267\n",
            "Epoch 34/100\n",
            "150/150 [==============================] - 2s 15ms/step - loss: 1.6774e-04 - mean_absolute_error: 0.0093 - val_loss: 6.3661e-04 - val_mean_absolute_error: 0.0174\n",
            "Epoch 35/100\n",
            "150/150 [==============================] - 2s 15ms/step - loss: 1.7430e-04 - mean_absolute_error: 0.0093 - val_loss: 0.0023 - val_mean_absolute_error: 0.0399\n",
            "Epoch 36/100\n",
            "150/150 [==============================] - 4s 25ms/step - loss: 1.8282e-04 - mean_absolute_error: 0.0096 - val_loss: 8.5766e-04 - val_mean_absolute_error: 0.0212\n",
            "Epoch 37/100\n",
            "150/150 [==============================] - 2s 16ms/step - loss: 1.7340e-04 - mean_absolute_error: 0.0094 - val_loss: 5.9737e-04 - val_mean_absolute_error: 0.0171\n",
            "Epoch 38/100\n",
            "150/150 [==============================] - 4s 27ms/step - loss: 1.7130e-04 - mean_absolute_error: 0.0093 - val_loss: 4.0152e-04 - val_mean_absolute_error: 0.0134\n",
            "Epoch 39/100\n",
            "150/150 [==============================] - 4s 24ms/step - loss: 1.6341e-04 - mean_absolute_error: 0.0092 - val_loss: 0.0014 - val_mean_absolute_error: 0.0289\n",
            "Epoch 40/100\n",
            "150/150 [==============================] - 4s 26ms/step - loss: 1.7570e-04 - mean_absolute_error: 0.0095 - val_loss: 0.0013 - val_mean_absolute_error: 0.0269\n",
            "Epoch 41/100\n",
            "150/150 [==============================] - 3s 22ms/step - loss: 1.6720e-04 - mean_absolute_error: 0.0092 - val_loss: 0.0015 - val_mean_absolute_error: 0.0293\n",
            "Epoch 42/100\n",
            "150/150 [==============================] - 2s 16ms/step - loss: 1.6522e-04 - mean_absolute_error: 0.0090 - val_loss: 0.0011 - val_mean_absolute_error: 0.0235\n",
            "Epoch 43/100\n",
            "150/150 [==============================] - 2s 15ms/step - loss: 1.5943e-04 - mean_absolute_error: 0.0090 - val_loss: 0.0016 - val_mean_absolute_error: 0.0302\n",
            "Epoch 44/100\n",
            "150/150 [==============================] - 3s 22ms/step - loss: 1.6227e-04 - mean_absolute_error: 0.0091 - val_loss: 9.2202e-04 - val_mean_absolute_error: 0.0221\n",
            "Epoch 45/100\n",
            "150/150 [==============================] - 4s 25ms/step - loss: 1.6025e-04 - mean_absolute_error: 0.0091 - val_loss: 0.0011 - val_mean_absolute_error: 0.0233\n",
            "Epoch 46/100\n",
            "150/150 [==============================] - 3s 20ms/step - loss: 1.5897e-04 - mean_absolute_error: 0.0090 - val_loss: 0.0012 - val_mean_absolute_error: 0.0243\n",
            "Epoch 47/100\n",
            "150/150 [==============================] - 3s 17ms/step - loss: 1.5548e-04 - mean_absolute_error: 0.0089 - val_loss: 0.0013 - val_mean_absolute_error: 0.0257\n",
            "Epoch 48/100\n",
            "150/150 [==============================] - 2s 16ms/step - loss: 1.5469e-04 - mean_absolute_error: 0.0090 - val_loss: 0.0010 - val_mean_absolute_error: 0.0221\n",
            "Epoch 49/100\n",
            "150/150 [==============================] - 3s 18ms/step - loss: 1.5676e-04 - mean_absolute_error: 0.0089 - val_loss: 0.0019 - val_mean_absolute_error: 0.0329\n",
            "Epoch 50/100\n",
            "150/150 [==============================] - 3s 20ms/step - loss: 1.5661e-04 - mean_absolute_error: 0.0089 - val_loss: 0.0011 - val_mean_absolute_error: 0.0215\n",
            "Epoch 51/100\n",
            "150/150 [==============================] - 2s 15ms/step - loss: 1.5521e-04 - mean_absolute_error: 0.0089 - val_loss: 0.0032 - val_mean_absolute_error: 0.0451\n",
            "Epoch 52/100\n",
            "150/150 [==============================] - 3s 20ms/step - loss: 1.6219e-04 - mean_absolute_error: 0.0091 - val_loss: 0.0011 - val_mean_absolute_error: 0.0211\n",
            "Epoch 53/100\n",
            "150/150 [==============================] - 3s 19ms/step - loss: 1.6124e-04 - mean_absolute_error: 0.0090 - val_loss: 0.0017 - val_mean_absolute_error: 0.0271\n",
            "Epoch 54/100\n",
            "150/150 [==============================] - 3s 20ms/step - loss: 1.5662e-04 - mean_absolute_error: 0.0090 - val_loss: 0.0022 - val_mean_absolute_error: 0.0362\n",
            "Epoch 55/100\n",
            "150/150 [==============================] - 5s 36ms/step - loss: 1.5835e-04 - mean_absolute_error: 0.0092 - val_loss: 0.0026 - val_mean_absolute_error: 0.0367\n",
            "Epoch 56/100\n",
            "150/150 [==============================] - 4s 24ms/step - loss: 1.5607e-04 - mean_absolute_error: 0.0088 - val_loss: 0.0010 - val_mean_absolute_error: 0.0209\n",
            "Epoch 57/100\n",
            "150/150 [==============================] - 3s 20ms/step - loss: 1.5078e-04 - mean_absolute_error: 0.0087 - val_loss: 0.0019 - val_mean_absolute_error: 0.0302\n",
            "Epoch 58/100\n",
            "150/150 [==============================] - 3s 20ms/step - loss: 1.5193e-04 - mean_absolute_error: 0.0088 - val_loss: 0.0019 - val_mean_absolute_error: 0.0291\n",
            "Epoch 59/100\n",
            "150/150 [==============================] - 3s 19ms/step - loss: 1.5196e-04 - mean_absolute_error: 0.0088 - val_loss: 9.7002e-04 - val_mean_absolute_error: 0.0213\n",
            "Epoch 60/100\n",
            "150/150 [==============================] - 2s 16ms/step - loss: 1.6071e-04 - mean_absolute_error: 0.0092 - val_loss: 0.0014 - val_mean_absolute_error: 0.0236\n",
            "Epoch 61/100\n",
            "150/150 [==============================] - 2s 16ms/step - loss: 1.4954e-04 - mean_absolute_error: 0.0087 - val_loss: 0.0034 - val_mean_absolute_error: 0.0432\n",
            "Epoch 62/100\n",
            "150/150 [==============================] - 2s 15ms/step - loss: 1.5068e-04 - mean_absolute_error: 0.0087 - val_loss: 0.0046 - val_mean_absolute_error: 0.0517\n",
            "Epoch 63/100\n",
            "150/150 [==============================] - 3s 18ms/step - loss: 1.4879e-04 - mean_absolute_error: 0.0087 - val_loss: 0.0024 - val_mean_absolute_error: 0.0318\n",
            "Epoch 64/100\n",
            "150/150 [==============================] - 3s 21ms/step - loss: 1.5976e-04 - mean_absolute_error: 0.0090 - val_loss: 0.0039 - val_mean_absolute_error: 0.0477\n",
            "Epoch 65/100\n",
            "150/150 [==============================] - 2s 15ms/step - loss: 1.5518e-04 - mean_absolute_error: 0.0089 - val_loss: 0.0056 - val_mean_absolute_error: 0.0586\n",
            "Epoch 66/100\n",
            "150/150 [==============================] - 2s 15ms/step - loss: 1.4884e-04 - mean_absolute_error: 0.0086 - val_loss: 0.0019 - val_mean_absolute_error: 0.0273\n",
            "Epoch 67/100\n",
            "150/150 [==============================] - 2s 15ms/step - loss: 1.5093e-04 - mean_absolute_error: 0.0087 - val_loss: 0.0029 - val_mean_absolute_error: 0.0360\n",
            "Epoch 68/100\n",
            "150/150 [==============================] - 2s 15ms/step - loss: 1.5130e-04 - mean_absolute_error: 0.0088 - val_loss: 0.0028 - val_mean_absolute_error: 0.0354\n",
            "Epoch 69/100\n",
            "150/150 [==============================] - 3s 21ms/step - loss: 1.5242e-04 - mean_absolute_error: 0.0088 - val_loss: 0.0031 - val_mean_absolute_error: 0.0374\n",
            "Epoch 70/100\n",
            "150/150 [==============================] - 3s 18ms/step - loss: 1.4755e-04 - mean_absolute_error: 0.0087 - val_loss: 0.0023 - val_mean_absolute_error: 0.0315\n",
            "Epoch 71/100\n",
            "150/150 [==============================] - 2s 16ms/step - loss: 1.5779e-04 - mean_absolute_error: 0.0089 - val_loss: 0.0054 - val_mean_absolute_error: 0.0556\n",
            "Epoch 72/100\n",
            "150/150 [==============================] - 2s 16ms/step - loss: 1.4838e-04 - mean_absolute_error: 0.0087 - val_loss: 0.0028 - val_mean_absolute_error: 0.0344\n",
            "Epoch 73/100\n",
            "150/150 [==============================] - 2s 16ms/step - loss: 1.4624e-04 - mean_absolute_error: 0.0086 - val_loss: 0.0024 - val_mean_absolute_error: 0.0313\n",
            "Epoch 74/100\n",
            "150/150 [==============================] - 3s 18ms/step - loss: 1.5097e-04 - mean_absolute_error: 0.0087 - val_loss: 0.0029 - val_mean_absolute_error: 0.0354\n",
            "Epoch 75/100\n",
            "150/150 [==============================] - 3s 21ms/step - loss: 1.4376e-04 - mean_absolute_error: 0.0085 - val_loss: 0.0028 - val_mean_absolute_error: 0.0337\n",
            "Epoch 76/100\n",
            "150/150 [==============================] - 3s 18ms/step - loss: 1.4192e-04 - mean_absolute_error: 0.0085 - val_loss: 0.0046 - val_mean_absolute_error: 0.0478\n",
            "Epoch 77/100\n",
            "150/150 [==============================] - 2s 16ms/step - loss: 1.5037e-04 - mean_absolute_error: 0.0088 - val_loss: 0.0029 - val_mean_absolute_error: 0.0352\n",
            "Epoch 78/100\n",
            "150/150 [==============================] - 2s 16ms/step - loss: 1.6149e-04 - mean_absolute_error: 0.0091 - val_loss: 0.0035 - val_mean_absolute_error: 0.0393\n",
            "Epoch 79/100\n",
            "150/150 [==============================] - 3s 17ms/step - loss: 1.5377e-04 - mean_absolute_error: 0.0088 - val_loss: 0.0041 - val_mean_absolute_error: 0.0432\n",
            "Epoch 80/100\n",
            "150/150 [==============================] - 3s 21ms/step - loss: 1.4718e-04 - mean_absolute_error: 0.0087 - val_loss: 0.0036 - val_mean_absolute_error: 0.0392\n",
            "Epoch 81/100\n",
            "150/150 [==============================] - 2s 16ms/step - loss: 1.4542e-04 - mean_absolute_error: 0.0086 - val_loss: 0.0048 - val_mean_absolute_error: 0.0512\n",
            "Epoch 82/100\n",
            "150/150 [==============================] - 2s 16ms/step - loss: 1.4567e-04 - mean_absolute_error: 0.0086 - val_loss: 0.0055 - val_mean_absolute_error: 0.0516\n",
            "Epoch 83/100\n",
            "150/150 [==============================] - 2s 16ms/step - loss: 1.4381e-04 - mean_absolute_error: 0.0084 - val_loss: 0.0038 - val_mean_absolute_error: 0.0437\n",
            "Epoch 84/100\n",
            "150/150 [==============================] - 2s 16ms/step - loss: 1.4066e-04 - mean_absolute_error: 0.0085 - val_loss: 0.0060 - val_mean_absolute_error: 0.0603\n",
            "Epoch 85/100\n",
            "150/150 [==============================] - 3s 22ms/step - loss: 1.4569e-04 - mean_absolute_error: 0.0086 - val_loss: 0.0041 - val_mean_absolute_error: 0.0462\n",
            "Epoch 86/100\n",
            "150/150 [==============================] - 3s 18ms/step - loss: 1.3999e-04 - mean_absolute_error: 0.0084 - val_loss: 0.0068 - val_mean_absolute_error: 0.0614\n",
            "Epoch 87/100\n",
            "150/150 [==============================] - 2s 16ms/step - loss: 1.4281e-04 - mean_absolute_error: 0.0086 - val_loss: 0.0038 - val_mean_absolute_error: 0.0422\n",
            "Epoch 88/100\n",
            "150/150 [==============================] - 2s 16ms/step - loss: 1.3710e-04 - mean_absolute_error: 0.0084 - val_loss: 0.0041 - val_mean_absolute_error: 0.0459\n",
            "Epoch 89/100\n",
            "150/150 [==============================] - 2s 16ms/step - loss: 1.4079e-04 - mean_absolute_error: 0.0084 - val_loss: 0.0039 - val_mean_absolute_error: 0.0463\n",
            "Epoch 90/100\n",
            "150/150 [==============================] - 3s 20ms/step - loss: 1.5156e-04 - mean_absolute_error: 0.0087 - val_loss: 0.0049 - val_mean_absolute_error: 0.0518\n",
            "Epoch 91/100\n",
            "150/150 [==============================] - 3s 19ms/step - loss: 1.4468e-04 - mean_absolute_error: 0.0085 - val_loss: 0.0055 - val_mean_absolute_error: 0.0566\n",
            "Epoch 92/100\n",
            "150/150 [==============================] - 2s 16ms/step - loss: 1.4063e-04 - mean_absolute_error: 0.0085 - val_loss: 0.0043 - val_mean_absolute_error: 0.0469\n",
            "Epoch 93/100\n",
            "150/150 [==============================] - 2s 16ms/step - loss: 1.3641e-04 - mean_absolute_error: 0.0083 - val_loss: 0.0049 - val_mean_absolute_error: 0.0524\n",
            "Epoch 94/100\n",
            "150/150 [==============================] - 2s 15ms/step - loss: 1.5560e-04 - mean_absolute_error: 0.0088 - val_loss: 0.0042 - val_mean_absolute_error: 0.0450\n",
            "Epoch 95/100\n",
            "150/150 [==============================] - 3s 17ms/step - loss: 1.3525e-04 - mean_absolute_error: 0.0083 - val_loss: 0.0053 - val_mean_absolute_error: 0.0527\n",
            "Epoch 96/100\n",
            "150/150 [==============================] - 3s 21ms/step - loss: 1.3225e-04 - mean_absolute_error: 0.0082 - val_loss: 0.0052 - val_mean_absolute_error: 0.0530\n",
            "Epoch 97/100\n",
            "150/150 [==============================] - 2s 16ms/step - loss: 1.4833e-04 - mean_absolute_error: 0.0087 - val_loss: 0.0048 - val_mean_absolute_error: 0.0495\n",
            "Epoch 98/100\n",
            "150/150 [==============================] - 2s 15ms/step - loss: 1.4157e-04 - mean_absolute_error: 0.0085 - val_loss: 0.0048 - val_mean_absolute_error: 0.0517\n",
            "Epoch 99/100\n",
            "150/150 [==============================] - 2s 16ms/step - loss: 1.3683e-04 - mean_absolute_error: 0.0083 - val_loss: 0.0036 - val_mean_absolute_error: 0.0416\n",
            "Epoch 100/100\n",
            "150/150 [==============================] - 2s 15ms/step - loss: 1.4265e-04 - mean_absolute_error: 0.0085 - val_loss: 0.0074 - val_mean_absolute_error: 0.0650\n"
          ]
        }
      ]
    },
    {
      "cell_type": "code",
      "source": [
        "model.summary()"
      ],
      "metadata": {
        "colab": {
          "base_uri": "https://localhost:8080/"
        },
        "id": "oqKweYpEs0wj",
        "outputId": "3a71d028-0e68-4a19-e383-3fd9b57cdf1d"
      },
      "id": "oqKweYpEs0wj",
      "execution_count": 268,
      "outputs": [
        {
          "output_type": "stream",
          "name": "stdout",
          "text": [
            "Model: \"sequential_3\"\n",
            "_________________________________________________________________\n",
            " Layer (type)                Output Shape              Param #   \n",
            "=================================================================\n",
            " lstm_9 (LSTM)               (None, 100, 50)           10400     \n",
            "                                                                 \n",
            " dropout_9 (Dropout)         (None, 100, 50)           0         \n",
            "                                                                 \n",
            " lstm_10 (LSTM)              (None, 100, 50)           20200     \n",
            "                                                                 \n",
            " dropout_10 (Dropout)        (None, 100, 50)           0         \n",
            "                                                                 \n",
            " lstm_11 (LSTM)              (None, 50)                20200     \n",
            "                                                                 \n",
            " dropout_11 (Dropout)        (None, 50)                0         \n",
            "                                                                 \n",
            " dense_3 (Dense)             (None, 1)                 51        \n",
            "                                                                 \n",
            "=================================================================\n",
            "Total params: 50851 (198.64 KB)\n",
            "Trainable params: 50851 (198.64 KB)\n",
            "Non-trainable params: 0 (0.00 Byte)\n",
            "_________________________________________________________________\n"
          ]
        }
      ]
    },
    {
      "cell_type": "markdown",
      "source": [
        "# Model Evaluation"
      ],
      "metadata": {
        "id": "Wy84AG8IB5fL"
      },
      "id": "Wy84AG8IB5fL"
    },
    {
      "cell_type": "code",
      "source": [
        "plt.plot(modelresult.history[\"loss\"])\n",
        "plt.title('Training model loss')\n",
        "plt.xlabel('epoch')\n",
        "plt.ylabel('loss')\n",
        "plt.show()"
      ],
      "metadata": {
        "colab": {
          "base_uri": "https://localhost:8080/",
          "height": 472
        },
        "id": "0xNNfPz5s0ym",
        "outputId": "bdf59afa-31fe-43d0-d046-9146580c9066"
      },
      "id": "0xNNfPz5s0ym",
      "execution_count": 292,
      "outputs": [
        {
          "output_type": "display_data",
          "data": {
            "text/plain": [
              "<Figure size 640x480 with 1 Axes>"
            ],
            "image/png": "[encoded data removed]"
          },
          "metadata": {}
        }
      ]
    },
    {
      "cell_type": "code",
      "source": [
        "#predicted stock price on train and test data\n",
        "train_pred = model.predict(X_train)\n",
        "test_pred = model.predict(X_test)"
      ],
      "metadata": {
        "colab": {
          "base_uri": "https://localhost:8080/"
        },
        "id": "UZAecv5l8FlP",
        "outputId": "7a7d87ef-6a6b-4efe-834f-1f1409a35055"
      },
      "id": "UZAecv5l8FlP",
      "execution_count": 348,
      "outputs": [
        {
          "output_type": "stream",
          "name": "stdout",
          "text": [
            "299/299 [==============================] - 2s 8ms/step\n",
            "73/73 [==============================] - 0s 6ms/step\n"
          ]
        }
      ]
    },
    {
      "cell_type": "code",
      "source": [
        "#Inverse transform to get actual value\n",
        "train_pred = scaler.inverse_transform(train_pred)\n",
        "test_pred = scaler.inverse_transform(test_pred)"
      ],
      "metadata": {
        "id": "f-ow-8TrcTAp"
      },
      "id": "f-ow-8TrcTAp",
      "execution_count": 349,
      "outputs": []
    },
    {
      "cell_type": "code",
      "source": [
        "plt.plot(scaler.inverse_transform(df1), label = \"Actual stock price\")\n",
        "plt.plot(train_pred, label = \"Predicted stock price on train data\")\n",
        "plt.plot(test_pred, label = \"Predicted stocj price on test data\")\n",
        "\n",
        "plt.xlabel('Date')\n",
        "plt.ylabel('Stock Price')\n",
        "plt.title('Actual vs Predicted Stock Prices')\n",
        "plt.legend()\n",
        "plt.show()"
      ],
      "metadata": {
        "id": "UVZAEb6QcyYO",
        "outputId": "e120eb9d-cd39-4d7c-a5b5-4634f3bb7e08",
        "colab": {
          "base_uri": "https://localhost:8080/",
          "height": 472
        }
      },
      "id": "UVZAEb6QcyYO",
      "execution_count": 350,
      "outputs": [
        {
          "output_type": "display_data",
          "data": {
            "text/plain": [
              "<Figure size 640x480 with 1 Axes>"
            ],
            "image/png": "[encoded data removed]"
          },
          "metadata": {}
        }
      ]
    },
    {
      "cell_type": "code",
      "source": [
        "#appending train and test pred\n",
        "test = np.vstack((train_pred, test_pred))"
      ],
      "metadata": {
        "id": "YfBTL-mGeMQi"
      },
      "id": "YfBTL-mGeMQi",
      "execution_count": 351,
      "outputs": []
    },
    {
      "cell_type": "code",
      "source": [
        "#Combining the predicted data to create uniform data visualization\n",
        "plt.plot(scaler.inverse_transform(df1), label = \"Actual stock price\")\n",
        "plt.plot(test, label = \"Predicted stock price\")\n",
        "\n",
        "plt.xlabel('Date')\n",
        "plt.ylabel('Stock Price')\n",
        "plt.title('Actual vs Predicted Stock Prices')\n",
        "plt.legend()\n",
        "plt.show()"
      ],
      "metadata": {
        "id": "y07tYzHAeZdV",
        "outputId": "2b603956-560a-4bca-cdef-e9b0054f3f45",
        "colab": {
          "base_uri": "https://localhost:8080/",
          "height": 472
        }
      },
      "id": "y07tYzHAeZdV",
      "execution_count": 352,
      "outputs": [
        {
          "output_type": "display_data",
          "data": {
            "text/plain": [
              "<Figure size 640x480 with 1 Axes>"
            ],
            "image/png": "[encoded data removed]"
          },
          "metadata": {}
        }
      ]
    },
    {
      "cell_type": "markdown",
      "source": [
        "# Forecasting Stock price for the next 30 days"
      ],
      "metadata": {
        "id": "K0qO6K2RfVEQ"
      },
      "id": "K0qO6K2RfVEQ"
    },
    {
      "cell_type": "code",
      "source": [
        "len(test_data)"
      ],
      "metadata": {
        "id": "2IE-m_KmeZhy",
        "outputId": "d6eaeb9f-708f-476a-c61c-18eb495682a8",
        "colab": {
          "base_uri": "https://localhost:8080/"
        }
      },
      "id": "2IE-m_KmeZhy",
      "execution_count": 353,
      "outputs": [
        {
          "output_type": "execute_result",
          "data": {
            "text/plain": [
              "2413"
            ]
          },
          "metadata": {},
          "execution_count": 353
        }
      ]
    },
    {
      "cell_type": "code",
      "source": [
        "#Getting the last 100 days\n",
        "fut_inp = test_data[2313:]"
      ],
      "metadata": {
        "id": "0vVIsBPOfCVM"
      },
      "id": "0vVIsBPOfCVM",
      "execution_count": 355,
      "outputs": []
    },
    {
      "cell_type": "code",
      "source": [
        "fut_inp = fut_inp.reshape(1,-1)"
      ],
      "metadata": {
        "id": "0LKY5HYyfCXV"
      },
      "id": "0LKY5HYyfCXV",
      "execution_count": 356,
      "outputs": []
    },
    {
      "cell_type": "code",
      "source": [
        "tmp_inp = list(fut_inp)"
      ],
      "metadata": {
        "id": "YRvG5UUzhhN2"
      },
      "id": "YRvG5UUzhhN2",
      "execution_count": 357,
      "outputs": []
    },
    {
      "cell_type": "code",
      "source": [
        "fut_inp.shape"
      ],
      "metadata": {
        "id": "qSuv5XvmhhP-",
        "outputId": "620aca6e-a5aa-401f-bf52-c9303c50608a",
        "colab": {
          "base_uri": "https://localhost:8080/"
        }
      },
      "id": "qSuv5XvmhhP-",
      "execution_count": 358,
      "outputs": [
        {
          "output_type": "execute_result",
          "data": {
            "text/plain": [
              "(1, 100)"
            ]
          },
          "metadata": {},
          "execution_count": 358
        }
      ]
    },
    {
      "cell_type": "code",
      "source": [
        "#Creating list of the last 100 data\n",
        "tmp_inp = tmp_inp[0].tolist()"
      ],
      "metadata": {
        "id": "NJdT0IKohhST"
      },
      "id": "NJdT0IKohhST",
      "execution_count": 359,
      "outputs": []
    },
    {
      "cell_type": "code",
      "source": [
        "#Predicting next 30 days price suing the current data\n",
        "#It will predict in sliding window manner (algorithm) with stride 1\n",
        "lst_output=[]\n",
        "n_steps=100\n",
        "i=0\n",
        "while(i<30):\n",
        "\n",
        "    if(len(tmp_inp)>100):\n",
        "        fut_inp = np.array(tmp_inp[1:])\n",
        "        fut_inp=fut_inp.reshape(1,-1)\n",
        "        fut_inp = fut_inp.reshape((1, n_steps, 1))\n",
        "        yhat = model.predict(fut_inp, verbose=0)\n",
        "        tmp_inp.extend(yhat[0].tolist())\n",
        "        tmp_inp = tmp_inp[1:]\n",
        "        lst_output.extend(yhat.tolist())\n",
        "        i=i+1\n",
        "    else:\n",
        "        fut_inp = fut_inp.reshape((1, n_steps,1))\n",
        "        yhat = model.predict(fut_inp, verbose=0)\n",
        "        tmp_inp.extend(yhat[0].tolist())\n",
        "        lst_output.extend(yhat.tolist())\n",
        "        i=i+1\n",
        "\n",
        "\n",
        "print(lst_output)"
      ],
      "metadata": {
        "id": "dM_c8h2khhUy",
        "outputId": "40c52939-93ca-43ce-a873-74962bdc0d12",
        "colab": {
          "base_uri": "https://localhost:8080/"
        }
      },
      "id": "dM_c8h2khhUy",
      "execution_count": 360,
      "outputs": [
        {
          "output_type": "stream",
          "name": "stdout",
          "text": [
            "[[0.5412071943283081], [0.5243299603462219], [0.5118549466133118], [0.5023227334022522], [0.4937979578971863], [0.48583775758743286], [0.47866201400756836], [0.4724588990211487], [0.46716850996017456], [0.4625769257545471], [0.45845305919647217], [0.45461583137512207], [0.45094114542007446], [0.4473465085029602], [0.4437776803970337], [0.44020235538482666], [0.43660616874694824], [0.43298953771591187], [0.4293630123138428], [0.4257432222366333], [0.4221486449241638], [0.4185972809791565], [0.4151045083999634], [0.4116823673248291], [0.40833932161331177], [0.4050799608230591], [0.40190595388412476], [0.39881622791290283], [0.39580774307250977], [0.39287620782852173]]\n"
          ]
        }
      ]
    },
    {
      "cell_type": "code",
      "source": [
        "len(df1)"
      ],
      "metadata": {
        "id": "MZ32G-i8hhXQ",
        "outputId": "a977edb3-78fd-4672-f77f-7b695b59ce4d",
        "colab": {
          "base_uri": "https://localhost:8080/"
        }
      },
      "id": "MZ32G-i8hhXQ",
      "execution_count": 362,
      "outputs": [
        {
          "output_type": "execute_result",
          "data": {
            "text/plain": [
              "12064"
            ]
          },
          "metadata": {},
          "execution_count": 362
        }
      ]
    },
    {
      "cell_type": "code",
      "source": [
        "#Creating a dummy plane to plot graph one after another\n",
        "plot_new=np.arange(1,101)\n",
        "plot_pred=np.arange(101,131)"
      ],
      "metadata": {
        "id": "DYX0_Btwh9Ec"
      },
      "id": "DYX0_Btwh9Ec",
      "execution_count": 363,
      "outputs": []
    },
    {
      "cell_type": "code",
      "source": [
        "plt.plot(plot_new, scaler.inverse_transform(df1[11964:]))\n",
        "plt.plot(plot_pred, scaler.inverse_transform(lst_output))"
      ],
      "metadata": {
        "id": "kAr1LQTah9G1",
        "outputId": "93d420ac-4dc5-4ad2-942d-b72c4e632d8f",
        "colab": {
          "base_uri": "https://localhost:8080/",
          "height": 448
        }
      },
      "id": "kAr1LQTah9G1",
      "execution_count": 367,
      "outputs": [
        {
          "output_type": "execute_result",
          "data": {
            "text/plain": [
              "[<matplotlib.lines.Line2D at 0x7eb3484f9f00>]"
            ]
          },
          "metadata": {},
          "execution_count": 367
        },
        {
          "output_type": "display_data",
          "data": {
            "text/plain": [
              "<Figure size 640x480 with 1 Axes>"
            ],
            "image/png": "[encoded data removed]"
          },
          "metadata": {}
        }
      ]
    },
    {
      "cell_type": "code",
      "source": [
        "ds_new = df1.tolist()"
      ],
      "metadata": {
        "id": "7F0YfH10h9JZ"
      },
      "id": "7F0YfH10h9JZ",
      "execution_count": 368,
      "outputs": []
    },
    {
      "cell_type": "code",
      "source": [
        "len(ds_new)"
      ],
      "metadata": {
        "id": "8RfrAkpEh9Lg",
        "outputId": "3d77373c-d8d4-48eb-a1b4-e8e5f743b76a",
        "colab": {
          "base_uri": "https://localhost:8080/"
        }
      },
      "id": "8RfrAkpEh9Lg",
      "execution_count": 369,
      "outputs": [
        {
          "output_type": "execute_result",
          "data": {
            "text/plain": [
              "12064"
            ]
          },
          "metadata": {},
          "execution_count": 369
        }
      ]
    },
    {
      "cell_type": "code",
      "source": [
        "#Entends helps us to fill the missing value with approx value\n",
        "ds_new.extend(lst_output)\n",
        "plt.plot(ds_new[12064:])"
      ],
      "metadata": {
        "id": "RWTpmMLEiGX7",
        "outputId": "22abced1-73c2-4f97-a774-8b918905fc47",
        "colab": {
          "base_uri": "https://localhost:8080/",
          "height": 447
        }
      },
      "id": "RWTpmMLEiGX7",
      "execution_count": 371,
      "outputs": [
        {
          "output_type": "execute_result",
          "data": {
            "text/plain": [
              "[<matplotlib.lines.Line2D at 0x7eb361a8d9c0>]"
            ]
          },
          "metadata": {},
          "execution_count": 371
        },
        {
          "output_type": "display_data",
          "data": {
            "text/plain": [
              "<Figure size 640x480 with 1 Axes>"
            ],
            "image/png": "[encoded data removed]"
          },
          "metadata": {}
        }
      ]
    },
    {
      "cell_type": "code",
      "source": [
        "#Creating final data for plotting\n",
        "final_graph = scaler.inverse_transform(ds_new).tolist()"
      ],
      "metadata": {
        "id": "uDFMcKZ1iGaN"
      },
      "id": "uDFMcKZ1iGaN",
      "execution_count": 372,
      "outputs": []
    },
    {
      "cell_type": "code",
      "source": [
        "#Plotting final results with predicted value after 30 Days\n",
        "\n",
        "stock_symbol = \"AXP\"\n",
        "plt.plot(final_graph,)\n",
        "plt.ylabel(\"Price\")\n",
        "plt.xlabel(\"Time\")\n",
        "plt.title(\"{0} prediction of next month close\".format(stock_symbol))\n",
        "plt.axhline(y=final_graph[len(final_graph)-1], color = 'red', linestyle = ':', label = 'NEXT 30D: {0}'.format(round(float(*final_graph[len(final_graph)-1]),2)))\n",
        "plt.legend()"
      ],
      "metadata": {
        "id": "bE6khTADiGcX",
        "outputId": "1be6ee45-772b-4cd0-d786-4951280a19d4",
        "colab": {
          "base_uri": "https://localhost:8080/",
          "height": 489
        }
      },
      "id": "bE6khTADiGcX",
      "execution_count": 376,
      "outputs": [
        {
          "output_type": "execute_result",
          "data": {
            "text/plain": [
              "<matplotlib.legend.Legend at 0x7eb361dacdf0>"
            ]
          },
          "metadata": {},
          "execution_count": 376
        },
        {
          "output_type": "display_data",
          "data": {
            "text/plain": [
              "<Figure size 640x480 with 1 Axes>"
            ],
            "image/png": "[encoded data removed]"
          },
          "metadata": {}
        }
      ]
    },
    {
      "cell_type": "code",
      "source": [],
      "metadata": {
        "id": "3kf1NYxDiGeh"
      },
      "id": "3kf1NYxDiGeh",
      "execution_count": null,
      "outputs": []
    },
    {
      "cell_type": "code",
      "source": [],
      "metadata": {
        "id": "D-tOCgwWiGg1"
      },
      "id": "D-tOCgwWiGg1",
      "execution_count": null,
      "outputs": []
    },
    {
      "cell_type": "code",
      "source": [
        "print(train_pred[:5])\n",
        "print(test_pred[:5])"
      ],
      "metadata": {
        "colab": {
          "base_uri": "https://localhost:8080/"
        },
        "id": "2lY1PoTV-B5T",
        "outputId": "1a1be526-1c60-4642-8623-a9578bfa4e26"
      },
      "id": "2lY1PoTV-B5T",
      "execution_count": 336,
      "outputs": [
        {
          "output_type": "stream",
          "name": "stdout",
          "text": [
            "[[3.9354777]\n",
            " [3.954005 ]\n",
            " [3.9451957]\n",
            " [3.9273381]\n",
            " [3.9118056]]\n",
            "[[44.53606 ]\n",
            " [44.712147]\n",
            " [44.340336]\n",
            " [43.90023 ]\n",
            " [43.748913]]\n"
          ]
        }
      ]
    },
    {
      "cell_type": "code",
      "source": [
        "test_pred"
      ],
      "metadata": {
        "id": "6E4GP_1Dlwy4",
        "outputId": "aae1437e-25dd-4d99-fe1f-02fc6b2c2e52",
        "colab": {
          "base_uri": "https://localhost:8080/"
        }
      },
      "id": "6E4GP_1Dlwy4",
      "execution_count": 344,
      "outputs": [
        {
          "output_type": "execute_result",
          "data": {
            "text/plain": [
              "array([[44.53606 ],\n",
              "       [44.712147],\n",
              "       [44.340336],\n",
              "       ...,\n",
              "       [79.48984 ],\n",
              "       [78.218636],\n",
              "       [78.63625 ]], dtype=float32)"
            ]
          },
          "metadata": {},
          "execution_count": 344
        }
      ]
    },
    {
      "cell_type": "code",
      "source": [
        "import math\n",
        "from sklearn.metrics import mean_squared_error\n",
        "math.sqrt(mean_squared_error(y_train,train_pred))"
      ],
      "metadata": {
        "colab": {
          "base_uri": "https://localhost:8080/"
        },
        "id": "1V_Yilrs-jKy",
        "outputId": "7b4df1dc-cede-4f6b-cefe-48c3610b18e1"
      },
      "id": "1V_Yilrs-jKy",
      "execution_count": 341,
      "outputs": [
        {
          "output_type": "execute_result",
          "data": {
            "text/plain": [
              "24.34347902691696"
            ]
          },
          "metadata": {},
          "execution_count": 341
        }
      ]
    },
    {
      "cell_type": "code",
      "source": [
        "math.sqrt(mean_squared_error(y_test,test_pred))"
      ],
      "metadata": {
        "id": "WZzG8o1MjzXB",
        "outputId": "c0b4a773-d2d5-4eee-bb7e-e031d6cd70f7",
        "colab": {
          "base_uri": "https://localhost:8080/"
        }
      },
      "id": "WZzG8o1MjzXB",
      "execution_count": 342,
      "outputs": [
        {
          "output_type": "execute_result",
          "data": {
            "text/plain": [
              "72.20746794947758"
            ]
          },
          "metadata": {},
          "execution_count": 342
        }
      ]
    },
    {
      "cell_type": "code",
      "source": [
        "# Evaluate Performance metrics\n",
        "# Calculate and print additional performance metrics such as RMSE, Mean Absolute Error (MAE), or others, depending on your preference.\n",
        "\n",
        "from sklearn.metrics import mean_squared_error, mean_absolute_error\n",
        "\n",
        "# Calculate performance metrics\n",
        "train_rmse = mean_squared_error(y_train, train_pred, squared=False)\n",
        "test_rmse = mean_squared_error(y_test, test_pred, squared=False)\n",
        "\n",
        "train_mae = mean_absolute_error(y_train, train_pred)\n",
        "test_mae = mean_absolute_error(y_test, test_pred)\n",
        "\n",
        "print(\"Train RMSE: %.2f\" % train_rmse)\n",
        "print(\"Test RMSE: %.2f\" % test_rmse)\n",
        "print(\"Train MAE: %.2f\" % train_mae)\n",
        "print(\"Test MAE: %.2f\" % test_mae)\n"
      ],
      "metadata": {
        "colab": {
          "base_uri": "https://localhost:8080/"
        },
        "id": "vrL46-aeSpr-",
        "outputId": "0a3cf8ee-658c-4d51-e5ec-72bd3447454a"
      },
      "id": "vrL46-aeSpr-",
      "execution_count": 324,
      "outputs": [
        {
          "output_type": "stream",
          "name": "stdout",
          "text": [
            "Train RMSE: 24.34\n",
            "Test RMSE: 72.21\n",
            "Train MAE: 17.17\n",
            "Test MAE: 70.72\n"
          ]
        }
      ]
    }
  ],
  "metadata": {
    "kernelspec": {
      "display_name": "Python 3",
      "name": "python3"
    },
    "language_info": {
      "name": "python"
    },
    "colab": {
      "provenance": [],
      "gpuType": "T4",
      "include_colab_link": true
    },
    "accelerator": "GPU"
  },
  "nbformat": 4,
  "nbformat_minor": 5
}